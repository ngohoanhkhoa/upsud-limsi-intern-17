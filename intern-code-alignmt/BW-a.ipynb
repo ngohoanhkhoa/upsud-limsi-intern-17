{
 "cells": [
  {
   "cell_type": "code",
   "execution_count": 2,
   "metadata": {
    "collapsed": true
   },
   "outputs": [],
   "source": [
    "import pandas as pd\n",
    "import numpy as np\n",
    "import nltk"
   ]
  },
  {
   "cell_type": "markdown",
   "metadata": {},
   "source": [
    "# Baum-Welch Algorithm"
   ]
  },
  {
   "cell_type": "code",
   "execution_count": 16,
   "metadata": {
    "collapsed": false
   },
   "outputs": [
    {
     "data": {
      "text/plain": [
       "array([[ 0.,  0.,  0.,  0.,  0.,  0.,  0.,  0.,  0.],\n",
       "       [ 0.,  0.,  0.,  0.,  0.,  0.,  0.,  0.,  0.],\n",
       "       [ 0.,  0.,  0.,  0.,  0.,  0.,  0.,  0.,  0.],\n",
       "       [ 0.,  0.,  0.,  0.,  0.,  0.,  0.,  0.,  0.],\n",
       "       [ 0.,  0.,  0.,  0.,  0.,  0.,  0.,  0.,  0.]])"
      ]
     },
     "execution_count": 16,
     "metadata": {},
     "output_type": "execute_result"
    }
   ],
   "source": [
    "alpha = np.zeros( (5, 9) )\n",
    "alpha"
   ]
  },
  {
   "cell_type": "code",
   "execution_count": 18,
   "metadata": {
    "collapsed": false
   },
   "outputs": [
    {
     "data": {
      "text/plain": [
       "array([[0, 1, 2, 3, 4],\n",
       "       [5, 6, 7, 8, 0],\n",
       "       [1, 2, 3, 4, 5],\n",
       "       [6, 7, 8, 0, 1],\n",
       "       [2, 3, 4, 5, 6],\n",
       "       [7, 8, 0, 1, 2],\n",
       "       [3, 4, 5, 6, 7],\n",
       "       [8, 0, 1, 2, 3],\n",
       "       [4, 5, 6, 7, 8]])"
      ]
     },
     "execution_count": 18,
     "metadata": {},
     "output_type": "execute_result"
    }
   ],
   "source": [
    "X = np.reshape([i for i in range(9)]*5, (9,5))\n",
    "X"
   ]
  },
  {
   "cell_type": "code",
   "execution_count": 21,
   "metadata": {
    "collapsed": false
   },
   "outputs": [
    {
     "data": {
      "text/plain": [
       "array([[ 0.,  5.,  0.,  0.,  0.,  0.,  0.,  0.,  0.],\n",
       "       [ 0.,  6.,  0.,  0.,  0.,  0.,  0.,  0.,  0.],\n",
       "       [ 0.,  7.,  0.,  0.,  0.,  0.,  0.,  0.,  0.],\n",
       "       [ 0.,  8.,  0.,  0.,  0.,  0.,  0.,  0.,  0.],\n",
       "       [ 0.,  0.,  0.,  0.,  0.,  0.,  0.,  0.,  0.]])"
      ]
     },
     "execution_count": 21,
     "metadata": {},
     "output_type": "execute_result"
    }
   ],
   "source": [
    "alpha.T[1] = X[1]\n",
    "alpha"
   ]
  },
  {
   "cell_type": "code",
   "execution_count": 95,
   "metadata": {
    "collapsed": false
   },
   "outputs": [
    {
     "data": {
      "text/plain": [
       "array([[[ 0.98805003,  0.40372642],\n",
       "        [ 0.53797724,  0.23448019],\n",
       "        [ 0.05338353,  0.51783128]],\n",
       "\n",
       "       [[ 0.86992223,  0.80669244],\n",
       "        [ 0.65369358,  0.79343884],\n",
       "        [ 0.6183715 ,  0.17904411]],\n",
       "\n",
       "       [[ 0.8651411 ,  0.82390794],\n",
       "        [ 0.32326851,  0.18333333],\n",
       "        [ 0.24473372,  0.36866599]],\n",
       "\n",
       "       [[ 0.60980616,  0.14317828],\n",
       "        [ 0.82471555,  0.64424388],\n",
       "        [ 0.43957701,  0.51154068]]])"
      ]
     },
     "execution_count": 95,
     "metadata": {},
     "output_type": "execute_result"
    }
   ],
   "source": [
    "epsilon = np.random.random( (4, 3, 2) )\n",
    "epsilon"
   ]
  },
  {
   "cell_type": "code",
   "execution_count": 96,
   "metadata": {
    "collapsed": false
   },
   "outputs": [
    {
     "data": {
      "text/plain": [
       "array([[[ 0.98805003,  0.40372642],\n",
       "        [ 0.53797724,  0.23448019],\n",
       "        [ 0.05338353,  0.51783128]],\n",
       "\n",
       "       [[ 0.86992223,  0.80669244],\n",
       "        [ 0.65369358,  0.79343884],\n",
       "        [ 0.6183715 ,  0.17904411]],\n",
       "\n",
       "       [[ 0.8651411 ,  0.82390794],\n",
       "        [ 0.32326851,  0.18333333],\n",
       "        [ 0.24473372,  0.36866599]],\n",
       "\n",
       "       [[ 0.60980616,  0.14317828],\n",
       "        [ 0.82471555,  0.64424388],\n",
       "        [ 0.43957701,  0.51154068]]])"
      ]
     },
     "execution_count": 96,
     "metadata": {},
     "output_type": "execute_result"
    }
   ],
   "source": [
    "for i in range(len(gamma)):\n",
    "        sum_gamma = np.sum(gamma[i])\n",
    "        gamma[i] = np.divide(gamma[i], sum_gamma)\n",
    "epsilon"
   ]
  },
  {
   "cell_type": "code",
   "execution_count": 37,
   "metadata": {
    "collapsed": false,
    "scrolled": true
   },
   "outputs": [
    {
     "data": {
      "text/plain": [
       "array([[[ 0.43373655,  0.48067942,  0.68359986,  0.65446609],\n",
       "        [ 0.26860673,  0.14580613,  0.91799423,  0.45592848],\n",
       "        [ 0.54717448,  0.55080247,  0.00952493,  0.55444581]],\n",
       "\n",
       "       [[ 0.56168666,  0.99377441,  0.93556425,  0.20038123],\n",
       "        [ 0.34921011,  0.15370216,  0.24626346,  0.86964184],\n",
       "        [ 0.93727877,  0.25702175,  0.23745332,  0.65777195]]])"
      ]
     },
     "execution_count": 37,
     "metadata": {},
     "output_type": "execute_result"
    }
   ],
   "source": [
    "epsilon.T"
   ]
  },
  {
   "cell_type": "code",
   "execution_count": 40,
   "metadata": {
    "collapsed": false
   },
   "outputs": [
    {
     "data": {
      "text/plain": [
       "array([ 0.56168666,  0.99377441,  0.93556425,  0.20038123])"
      ]
     },
     "execution_count": 40,
     "metadata": {},
     "output_type": "execute_result"
    }
   ],
   "source": [
    "epsilon.T[1][0]"
   ]
  },
  {
   "cell_type": "code",
   "execution_count": 33,
   "metadata": {
    "collapsed": false
   },
   "outputs": [
    {
     "name": "stdout",
     "output_type": "stream",
     "text": [
      "(9, 5, 4)\n",
      "(4, 5, 9)\n"
     ]
    }
   ],
   "source": [
    "print(np.shape(epsilon))\n",
    "print(np.shape(epsilon.T))"
   ]
  },
  {
   "cell_type": "code",
   "execution_count": 85,
   "metadata": {
    "collapsed": false
   },
   "outputs": [
    {
     "data": {
      "text/plain": [
       "array([ 0.,  0.])"
      ]
     },
     "execution_count": 85,
     "metadata": {},
     "output_type": "execute_result"
    }
   ],
   "source": [
    "alpha = np.zeros( (observation_len, latent_len) )\n",
    "alpha[1]"
   ]
  },
  {
   "cell_type": "code",
   "execution_count": null,
   "metadata": {
    "collapsed": true
   },
   "outputs": [],
   "source": []
  },
  {
   "cell_type": "code",
   "execution_count": 92,
   "metadata": {
    "collapsed": false
   },
   "outputs": [],
   "source": [
    "def calc_forward_messages(unary_matrix, \n",
    "                          transition_matrix,\n",
    "                          emission_matrix,\n",
    "                          latent_indice_len,\n",
    "                          observation_sentence):\n",
    "    \"\"\"\n",
    "    Calcualte the forward messages ~ alpha values.\n",
    "    \n",
    "    unary_matrix: marginal probability ~ initial matrix.\n",
    "    return: alpha\n",
    "    \"\"\"\n",
    "    \n",
    "    # TODO: verify matrix length\n",
    "    observation_len = len(observation_sentence)\n",
    "    \n",
    "    alpha = np.zeros( (observation_len, latent_indice_len) )\n",
    "    alpha[0] = np.multiply(emission_matrix[0],unary_matrix[0])\n",
    "    \n",
    "    for t in np.arange(1, observation_len):\n",
    "        for j in range(latent_indice_len):\n",
    "            for i in range(len(latent_indice_map)):\n",
    "                sum_al += alpha[t-1][i] * transition_matrix[j][i]\n",
    "            alpha[t][j] = emission_matrix[ observation_sentence[t] ][ j ] * sum_al\n",
    "    \n",
    "    return alpha\n",
    "    \n",
    "    \n",
    "def calc_backward_messages(transition_matrix,\n",
    "                           emission_matrix,\n",
    "                           latent_indice_len,\n",
    "                           observation_sentence):\n",
    "    \"\"\"\n",
    "    Calcualte the backward messages ~ beta values.\n",
    "    \n",
    "    return: beta\n",
    "    \"\"\"\n",
    "    # TODO: verify matrix length\n",
    "    observation_len = len(observation_sentence)\n",
    "    \n",
    "    beta = np.ones( (observation_len, latent_indice_len) )\n",
    "    \n",
    "    for t in np.invert(range(observation_len-1)):\n",
    "        for i in range(latent_indice_len):\n",
    "            for j in range(len(latent_indice_map)):\n",
    "                beta[t][i] += beta[t+1][j] * transition_matrix[j][i] * emission_matrix[ observation_sentence[t+1] ][j]\n",
    "    \n",
    "    return beta\n",
    "\n",
    "def calc_updated_matrix(alpha, beta, latent_indice_len, observation_sentence):\n",
    "    \"\"\"\n",
    "    Calcualte the gama and epsilon values in order to reproduce better transition and emission matrix.\n",
    "    \n",
    "    return: unary_matrix, transition_matrix, emission_matrix\n",
    "    \"\"\"\n",
    "    # TODO: verify matrix length\n",
    "    observation_len = len(observation_sentence)\n",
    "    \n",
    "    \n",
    "    gamma = np.multiply(alpha, beta)\n",
    "    epsilon = np.zeros( (observation_len-1, latent_indice_len, latent_indice_len) )\n",
    "    \n",
    "    for i in range(len(gamma)):\n",
    "        sum_gamma = np.sum(gamma[i])\n",
    "        gamma[i] = np.divide(gamma[i], sum_gamma)\n",
    "    \n",
    "    for t in range(observation_len - 1):   \n",
    "        for i in range(latent_len):\n",
    "            for j in range(latent_len):\n",
    "                epsilon[t][i][j] = alpha[t][i]*transition_matrix[i][j]*beta[t+1][j]*emission_matrix[t+1][j]\n",
    "        # Normalization\n",
    "        sum_ep = np.sum(epsilon[t])\n",
    "        epsilon[t] = np.divide(epsilon[t], sum_ep)\n",
    "    \n",
    "    # Update unary matrix\n",
    "    unary_matrix = gamma[0]\n",
    "    \n",
    "    transition_matrix = np.zeros( (observation_len, latent_len) )\n",
    "    emission_matrix = np.zeros( (latent_len, latent_len) )\n",
    "    \n",
    "    # Update transition matrix\n",
    "    for i in range(latent_len):\n",
    "        sum_gamma = np.sum(gamma.T[i])\n",
    "        for j in range(latent_len):\n",
    "            sum_ep = np.sum(epsilon.T[j][i])\n",
    "            transition_matrix[i][j] = sum_ep/sum_gamma\n",
    "    \n",
    "    # Update emission matrix\n",
    "    sum_gamma = [np.sum(gamma.T[i]) for i in range(latent_len)]    \n",
    "    for i in range(latent_len):\n",
    "        emission_matrix.T[i] = np.divide(gamma.T[i], sum_gamma[i])\n",
    "    \n",
    "    return unary_matrix, transition_matrix, emission_matrix"
   ]
  },
  {
   "cell_type": "code",
   "execution_count": 93,
   "metadata": {
    "collapsed": false
   },
   "outputs": [],
   "source": [
    "unary_matrix = [.85, .15]\n",
    "transition_matrix = [\n",
    "    [.3, .7], \n",
    "    [.1, .9]\n",
    "]\n",
    "emission_matrix = [\n",
    "    [.4, .5],\n",
    "    [.6, .5]\n",
    "]\n",
    "latent_len = 2\n",
    "observation_len = 4"
   ]
  },
  {
   "cell_type": "code",
   "execution_count": 94,
   "metadata": {
    "collapsed": false
   },
   "outputs": [
    {
     "name": "stdout",
     "output_type": "stream",
     "text": [
      "1 0\n",
      "1 1\n",
      "2 0\n"
     ]
    },
    {
     "ename": "IndexError",
     "evalue": "list index out of range",
     "output_type": "error",
     "traceback": [
      "\u001b[0;31m---------------------------------------------------------------------------\u001b[0m",
      "\u001b[0;31mIndexError\u001b[0m                                Traceback (most recent call last)",
      "\u001b[0;32m<ipython-input-94-7712cf12dda3>\u001b[0m in \u001b[0;36m<module>\u001b[0;34m()\u001b[0m\n\u001b[0;32m----> 1\u001b[0;31m \u001b[0mcalc_forward_messages\u001b[0m\u001b[0;34m(\u001b[0m\u001b[0munary_matrix\u001b[0m\u001b[0;34m,\u001b[0m \u001b[0mtransition_matrix\u001b[0m\u001b[0;34m,\u001b[0m \u001b[0memission_matrix\u001b[0m\u001b[0;34m,\u001b[0m \u001b[0mlatent_len\u001b[0m\u001b[0;34m,\u001b[0m \u001b[0mobservation_len\u001b[0m\u001b[0;34m)\u001b[0m\u001b[0;34m\u001b[0m\u001b[0m\n\u001b[0m",
      "\u001b[0;32m<ipython-input-92-cb8bc2edf620>\u001b[0m in \u001b[0;36mcalc_forward_messages\u001b[0;34m(unary_matrix, transition_matrix, emission_matrix, latent_len, observation_len)\u001b[0m\n\u001b[1;32m     18\u001b[0m             \u001b[0mtransition_matrix\u001b[0m\u001b[0;34m[\u001b[0m\u001b[0mj\u001b[0m\u001b[0;34m]\u001b[0m\u001b[0;34m\u001b[0m\u001b[0m\n\u001b[1;32m     19\u001b[0m             \u001b[0malpha\u001b[0m\u001b[0;34m[\u001b[0m\u001b[0mt\u001b[0m\u001b[0;34m]\u001b[0m\u001b[0;34m[\u001b[0m\u001b[0mj\u001b[0m\u001b[0;34m]\u001b[0m\u001b[0;34m\u001b[0m\u001b[0m\n\u001b[0;32m---> 20\u001b[0;31m             \u001b[0memission_matrix\u001b[0m\u001b[0;34m[\u001b[0m\u001b[0mt\u001b[0m\u001b[0;34m]\u001b[0m\u001b[0;34m[\u001b[0m\u001b[0mj\u001b[0m\u001b[0;34m]\u001b[0m\u001b[0;34m\u001b[0m\u001b[0m\n\u001b[0m\u001b[1;32m     21\u001b[0m             \u001b[0malpha\u001b[0m\u001b[0;34m[\u001b[0m\u001b[0mt\u001b[0m\u001b[0;34m]\u001b[0m\u001b[0;34m[\u001b[0m\u001b[0mj\u001b[0m\u001b[0;34m]\u001b[0m \u001b[0;34m=\u001b[0m \u001b[0memission_matrix\u001b[0m\u001b[0;34m[\u001b[0m\u001b[0mt\u001b[0m\u001b[0;34m]\u001b[0m\u001b[0;34m[\u001b[0m\u001b[0mj\u001b[0m\u001b[0;34m]\u001b[0m \u001b[0;34m*\u001b[0m \u001b[0mnp\u001b[0m\u001b[0;34m.\u001b[0m\u001b[0msum\u001b[0m\u001b[0;34m(\u001b[0m \u001b[0mnp\u001b[0m\u001b[0;34m.\u001b[0m\u001b[0mmultiply\u001b[0m\u001b[0;34m(\u001b[0m\u001b[0malpha\u001b[0m\u001b[0;34m[\u001b[0m\u001b[0mt\u001b[0m\u001b[0;34m-\u001b[0m\u001b[0;36m1\u001b[0m\u001b[0;34m]\u001b[0m\u001b[0;34m,\u001b[0m \u001b[0mtransition_matrix\u001b[0m\u001b[0;34m[\u001b[0m\u001b[0mj\u001b[0m\u001b[0;34m]\u001b[0m\u001b[0;34m)\u001b[0m \u001b[0;34m)\u001b[0m\u001b[0;34m\u001b[0m\u001b[0m\n\u001b[1;32m     22\u001b[0m \u001b[0;34m\u001b[0m\u001b[0m\n",
      "\u001b[0;31mIndexError\u001b[0m: list index out of range"
     ]
    }
   ],
   "source": [
    "calc_forward_messages(unary_matrix, transition_matrix, emission_matrix, latent_len, observation_len)"
   ]
  },
  {
   "cell_type": "markdown",
   "metadata": {},
   "source": [
    "# Neural Network"
   ]
  },
  {
   "cell_type": "code",
   "execution_count": null,
   "metadata": {
    "collapsed": true
   },
   "outputs": [],
   "source": []
  },
  {
   "cell_type": "code",
   "execution_count": null,
   "metadata": {
    "collapsed": true
   },
   "outputs": [],
   "source": []
  },
  {
   "cell_type": "code",
   "execution_count": null,
   "metadata": {
    "collapsed": true
   },
   "outputs": [],
   "source": []
  },
  {
   "cell_type": "code",
   "execution_count": null,
   "metadata": {
    "collapsed": true
   },
   "outputs": [],
   "source": []
  },
  {
   "cell_type": "markdown",
   "metadata": {},
   "source": [
    "# Backup"
   ]
  },
  {
   "cell_type": "code",
   "execution_count": null,
   "metadata": {
    "collapsed": true
   },
   "outputs": [],
   "source": [
    "def calc_forward_messages(unary_matrix, transition_matrix, emission_matrix, latent_len, observation_len):\n",
    "    \"\"\"\n",
    "    Calcualte the forward messages ~ alpha values.\n",
    "    \n",
    "    unary_matrix: marginal probability ~ initial matrix.\n",
    "    return: alpha\n",
    "    \"\"\"\n",
    "    \n",
    "    # TODO: verify matrix length\n",
    "    alpha = np.zeros( (observation_len, latent_len) )\n",
    "    \n",
    "#     for i in range(latent_len):\n",
    "    alpha[0] = np.multiply(emission_matrix[0],unary_matrix[0])\n",
    "    for t in np.arange(1, observation_len):\n",
    "        for j in range(latent_len):\n",
    "            alpha[t][j] = emission_matrix[t][j] * np.sum( np.multiply(alpha[t-1], transition_matrix[j]) )\n",
    "    \n",
    "    return alpha\n",
    "    \n",
    "    \n",
    "def calc_backward_messages(transition_matrix, emission_matrix, latent_len, observation_len):\n",
    "    \"\"\"\n",
    "    Calcualte the backward messages ~ beta values.\n",
    "    \n",
    "    return: beta\n",
    "    \"\"\"\n",
    "    beta = np.ones( (observation_len, latent_len) )\n",
    "    \n",
    "    for t in range(observation_len-1):\n",
    "        for j in range(latent_len):\n",
    "            tmp_sum = np.multiply(beta[t+1], transition_matrix[j])\n",
    "            beta[t][j] = np.sum( np.multiply(tmp_sum, emission_matrix[t+1]) )\n",
    "    \n",
    "    return beta\n",
    "\n",
    "def calc_updated_matrix(alpha, beta, latent_len, observation_len):\n",
    "    \"\"\"\n",
    "    Calcualte the gama and epsilon values in order to reproduce better transition and emission matrix.\n",
    "    \n",
    "    return: unary_matrix, transition_matrix, emission_matrix\n",
    "    \"\"\"\n",
    "    gamma = np.zeros( (observation_len, latent_len) )\n",
    "    epsilon = np.zeros( (observation_len-1, latent_len, latent_len) )\n",
    "    \n",
    "    for t in range(observation_len):\n",
    "        gamma[t] = np.multiply(alpha[t], beta[t])\n",
    "        # Normalization\n",
    "        sum_gamma = np.sum(gamma[t])\n",
    "        gamma[t] = np.divide(gamma[t], sum_gamma) \n",
    "        \n",
    "    for t in range(observation_len - 1):   \n",
    "        for i in range(latent_len):\n",
    "            for j in range(latent_len):\n",
    "                epsilon[t][i][j] = alpha[t][i]*transition_matrix[i][j]*beta[t+1][j]*emission_matrix[t+1][j]\n",
    "        # Normalization\n",
    "        sum_ep = np.sum(epsilon[t])\n",
    "        epsilon[t] = np.divide(epsilon[t], sum_ep)\n",
    "    \n",
    "    # Update unary matrix\n",
    "    unary_matrix = gamma[0]\n",
    "    \n",
    "    transition_matrix = np.zeros( (observation_len, latent_len) )\n",
    "    emission_matrix = np.zeros( (latent_len, latent_len) )\n",
    "    \n",
    "    # Update transition matrix\n",
    "    for i in range(latent_len):\n",
    "        sum_gamma = np.sum(gamma.T[i])\n",
    "        for j in range(latent_len):\n",
    "            sum_ep = np.sum(epsilon.T[j][i])\n",
    "            transition_matrix[i][j] = sum_ep/sum_gamma\n",
    "    \n",
    "    # Update emission matrix\n",
    "    sum_gamma = [np.sum(gamma.T[i]) for i in range(latent_len)]    \n",
    "    for i in range(latent_len):\n",
    "        emission_matrix.T[i] = np.divide(gamma.T[i], sum_gamma[i])\n",
    "    \n",
    "    return unary_matrix, transition_matrix, emission_matrix"
   ]
  }
 ],
 "metadata": {
  "kernelspec": {
   "display_name": "Python 3",
   "language": "python",
   "name": "python3"
  },
  "language_info": {
   "codemirror_mode": {
    "name": "ipython",
    "version": 3
   },
   "file_extension": ".py",
   "mimetype": "text/x-python",
   "name": "python",
   "nbconvert_exporter": "python",
   "pygments_lexer": "ipython3",
   "version": "3.6.0"
  }
 },
 "nbformat": 4,
 "nbformat_minor": 2
}
