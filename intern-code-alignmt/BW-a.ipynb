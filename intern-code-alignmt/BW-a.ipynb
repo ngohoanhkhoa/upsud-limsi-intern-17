{
 "cells": [
  {
   "cell_type": "code",
   "execution_count": 2,
   "metadata": {
    "collapsed": true
   },
   "outputs": [],
   "source": [
    "import pandas as pd\n",
    "import numpy as np\n",
    "import nltk"
   ]
  },
  {
   "cell_type": "markdown",
   "metadata": {},
   "source": [
    "# Baum-Welch Algorithm"
   ]
  },
  {
   "cell_type": "code",
   "execution_count": 14,
   "metadata": {
    "collapsed": false
   },
   "outputs": [
    {
     "data": {
      "text/plain": [
       "array([[0, 5, 1, 6, 2, 7, 3, 8, 4],\n",
       "       [1, 6, 2, 7, 3, 8, 4, 0, 5],\n",
       "       [2, 7, 3, 8, 4, 0, 5, 1, 6],\n",
       "       [3, 8, 4, 0, 5, 1, 6, 2, 7],\n",
       "       [4, 0, 5, 1, 6, 2, 7, 3, 8]])"
      ]
     },
     "execution_count": 14,
     "metadata": {},
     "output_type": "execute_result"
    }
   ],
   "source": [
    "X = np.reshape([i for i in range(9)]*5, (9,5))\n"
   ]
  },
  {
   "cell_type": "code",
   "execution_count": 11,
   "metadata": {
    "collapsed": false
   },
   "outputs": [
    {
     "data": {
      "text/plain": [
       "array([[0, 1, 2, 3, 4],\n",
       "       [5, 6, 7, 8, 0],\n",
       "       [1, 2, 3, 4, 5],\n",
       "       [6, 7, 8, 0, 1],\n",
       "       [2, 3, 4, 5, 6],\n",
       "       [7, 8, 0, 1, 2],\n",
       "       [3, 4, 5, 6, 7],\n",
       "       [8, 0, 1, 2, 3],\n",
       "       [4, 5, 6, 7, 8]])"
      ]
     },
     "execution_count": 11,
     "metadata": {},
     "output_type": "execute_result"
    }
   ],
   "source": [
    "X"
   ]
  },
  {
   "cell_type": "code",
   "execution_count": null,
   "metadata": {
    "collapsed": true
   },
   "outputs": [],
   "source": [
    "def calc_forward_messages(unary_matrix, transition_matrix, emission_matrix, latent_len, observation_len):\n",
    "    \"\"\"\n",
    "    unary_matrix: marginal probability.\n",
    "    return alpha\n",
    "    \"\"\"\n",
    "    alpha = np.zeros( (latent_len, observation_len) )\n",
    "    for i in range(latent_len):\n",
    "            alpha[i][1] = unary_matrix[i]*emission_matrix[i][1]\n",
    "            \n",
    "    for j in range(2, observation_len):\n",
    "        for i in range(latent_len):\n",
    "            alpha[i][j] = emission_matrix[i][j]*np.sum(np.multiply(alpha.T[j-1], transition_matrix[i]))\n",
    "    return alpha        \n",
    "    \n",
    "    \n",
    "def calc_backward_messages():\n",
    "    \"\"\"\n",
    "    return beta\n",
    "    \"\"\"\n",
    "    \n"
   ]
  },
  {
   "cell_type": "markdown",
   "metadata": {},
   "source": [
    "# Neural Network"
   ]
  },
  {
   "cell_type": "code",
   "execution_count": null,
   "metadata": {
    "collapsed": true
   },
   "outputs": [],
   "source": []
  },
  {
   "cell_type": "code",
   "execution_count": null,
   "metadata": {
    "collapsed": true
   },
   "outputs": [],
   "source": []
  },
  {
   "cell_type": "code",
   "execution_count": null,
   "metadata": {
    "collapsed": true
   },
   "outputs": [],
   "source": []
  },
  {
   "cell_type": "code",
   "execution_count": null,
   "metadata": {
    "collapsed": true
   },
   "outputs": [],
   "source": []
  }
 ],
 "metadata": {
  "kernelspec": {
   "display_name": "Python 3",
   "language": "python",
   "name": "python3"
  },
  "language_info": {
   "codemirror_mode": {
    "name": "ipython",
    "version": 3
   },
   "file_extension": ".py",
   "mimetype": "text/x-python",
   "name": "python",
   "nbconvert_exporter": "python",
   "pygments_lexer": "ipython3",
   "version": "3.6.0"
  }
 },
 "nbformat": 4,
 "nbformat_minor": 2
}
