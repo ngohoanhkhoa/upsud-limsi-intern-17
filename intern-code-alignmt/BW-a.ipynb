{
 "cells": [
  {
   "cell_type": "code",
   "execution_count": 2,
   "metadata": {
    "collapsed": false
   },
   "outputs": [
    {
     "ename": "ImportError",
     "evalue": "No module named 'nltk'",
     "output_type": "error",
     "traceback": [
      "\u001b[0;31m---------------------------------------------------------------------------\u001b[0m",
      "\u001b[0;31mImportError\u001b[0m                               Traceback (most recent call last)",
      "\u001b[0;32m<ipython-input-2-1611513068c8>\u001b[0m in \u001b[0;36m<module>\u001b[0;34m()\u001b[0m\n\u001b[1;32m      1\u001b[0m \u001b[1;32mimport\u001b[0m \u001b[0mpandas\u001b[0m \u001b[1;32mas\u001b[0m \u001b[0mpd\u001b[0m\u001b[1;33m\u001b[0m\u001b[0m\n\u001b[1;32m      2\u001b[0m \u001b[1;32mimport\u001b[0m \u001b[0mnumpy\u001b[0m \u001b[1;32mas\u001b[0m \u001b[0mnp\u001b[0m\u001b[1;33m\u001b[0m\u001b[0m\n\u001b[0;32m----> 3\u001b[0;31m \u001b[1;32mimport\u001b[0m \u001b[0mnltk\u001b[0m\u001b[1;33m\u001b[0m\u001b[0m\n\u001b[0m",
      "\u001b[0;31mImportError\u001b[0m: No module named 'nltk'"
     ]
    }
   ],
   "source": [
    "import pandas as pd\n",
    "import numpy as np\n",
    "import nltk"
   ]
  },
  {
   "cell_type": "markdown",
   "metadata": {},
   "source": [
    "# Baum-Welch Algorithm"
   ]
  },
  {
   "cell_type": "code",
   "execution_count": 238,
   "metadata": {
    "collapsed": false
   },
   "outputs": [
    {
     "data": {
      "text/plain": [
       "array([[ 0.,  0.,  0.,  0.,  0.,  0.,  0.,  0.,  0.],\n",
       "       [ 0.,  0.,  0.,  0.,  0.,  0.,  0.,  0.,  0.],\n",
       "       [ 0.,  0.,  0.,  0.,  0.,  0.,  0.,  0.,  0.],\n",
       "       [ 0.,  0.,  0.,  0.,  0.,  0.,  0.,  0.,  0.],\n",
       "       [ 0.,  0.,  0.,  0.,  0.,  0.,  0.,  0.,  0.]])"
      ]
     },
     "execution_count": 238,
     "metadata": {},
     "output_type": "execute_result"
    }
   ],
   "source": [
    "alpha = np.zeros( (5, 9) )\n",
    "alpha"
   ]
  },
  {
   "cell_type": "code",
   "execution_count": 18,
   "metadata": {
    "collapsed": false
   },
   "outputs": [
    {
     "data": {
      "text/plain": [
       "array([[0, 1, 2, 3, 4],\n",
       "       [5, 6, 7, 8, 0],\n",
       "       [1, 2, 3, 4, 5],\n",
       "       [6, 7, 8, 0, 1],\n",
       "       [2, 3, 4, 5, 6],\n",
       "       [7, 8, 0, 1, 2],\n",
       "       [3, 4, 5, 6, 7],\n",
       "       [8, 0, 1, 2, 3],\n",
       "       [4, 5, 6, 7, 8]])"
      ]
     },
     "execution_count": 18,
     "metadata": {},
     "output_type": "execute_result"
    }
   ],
   "source": [
    "X = np.reshape([i for i in range(9)]*5, (9,5))\n",
    "X"
   ]
  },
  {
   "cell_type": "code",
   "execution_count": 21,
   "metadata": {
    "collapsed": false
   },
   "outputs": [
    {
     "data": {
      "text/plain": [
       "array([[ 0.,  5.,  0.,  0.,  0.,  0.,  0.,  0.,  0.],\n",
       "       [ 0.,  6.,  0.,  0.,  0.,  0.,  0.,  0.,  0.],\n",
       "       [ 0.,  7.,  0.,  0.,  0.,  0.,  0.,  0.,  0.],\n",
       "       [ 0.,  8.,  0.,  0.,  0.,  0.,  0.,  0.,  0.],\n",
       "       [ 0.,  0.,  0.,  0.,  0.,  0.,  0.,  0.,  0.]])"
      ]
     },
     "execution_count": 21,
     "metadata": {},
     "output_type": "execute_result"
    }
   ],
   "source": [
    "alpha.T[1] = X[1]\n",
    "alpha"
   ]
  },
  {
   "cell_type": "code",
   "execution_count": 95,
   "metadata": {
    "collapsed": false
   },
   "outputs": [
    {
     "data": {
      "text/plain": [
       "array([[[ 0.98805003,  0.40372642],\n",
       "        [ 0.53797724,  0.23448019],\n",
       "        [ 0.05338353,  0.51783128]],\n",
       "\n",
       "       [[ 0.86992223,  0.80669244],\n",
       "        [ 0.65369358,  0.79343884],\n",
       "        [ 0.6183715 ,  0.17904411]],\n",
       "\n",
       "       [[ 0.8651411 ,  0.82390794],\n",
       "        [ 0.32326851,  0.18333333],\n",
       "        [ 0.24473372,  0.36866599]],\n",
       "\n",
       "       [[ 0.60980616,  0.14317828],\n",
       "        [ 0.82471555,  0.64424388],\n",
       "        [ 0.43957701,  0.51154068]]])"
      ]
     },
     "execution_count": 95,
     "metadata": {},
     "output_type": "execute_result"
    }
   ],
   "source": [
    "epsilon = np.random.random( (4, 3, 2) )\n",
    "epsilon"
   ]
  },
  {
   "cell_type": "code",
   "execution_count": 96,
   "metadata": {
    "collapsed": false
   },
   "outputs": [
    {
     "data": {
      "text/plain": [
       "array([[[ 0.98805003,  0.40372642],\n",
       "        [ 0.53797724,  0.23448019],\n",
       "        [ 0.05338353,  0.51783128]],\n",
       "\n",
       "       [[ 0.86992223,  0.80669244],\n",
       "        [ 0.65369358,  0.79343884],\n",
       "        [ 0.6183715 ,  0.17904411]],\n",
       "\n",
       "       [[ 0.8651411 ,  0.82390794],\n",
       "        [ 0.32326851,  0.18333333],\n",
       "        [ 0.24473372,  0.36866599]],\n",
       "\n",
       "       [[ 0.60980616,  0.14317828],\n",
       "        [ 0.82471555,  0.64424388],\n",
       "        [ 0.43957701,  0.51154068]]])"
      ]
     },
     "execution_count": 96,
     "metadata": {},
     "output_type": "execute_result"
    }
   ],
   "source": [
    "for i in range(len(gamma)):\n",
    "        sum_gamma = np.sum(gamma[i])\n",
    "        gamma[i] = np.divide(gamma[i], sum_gamma)\n",
    "epsilon"
   ]
  },
  {
   "cell_type": "code",
   "execution_count": 98,
   "metadata": {
    "collapsed": false,
    "scrolled": true
   },
   "outputs": [
    {
     "data": {
      "text/plain": [
       "array([[[ 0.98805003,  0.86992223,  0.8651411 ,  0.60980616],\n",
       "        [ 0.53797724,  0.65369358,  0.32326851,  0.82471555],\n",
       "        [ 0.05338353,  0.6183715 ,  0.24473372,  0.43957701]],\n",
       "\n",
       "       [[ 0.40372642,  0.80669244,  0.82390794,  0.14317828],\n",
       "        [ 0.23448019,  0.79343884,  0.18333333,  0.64424388],\n",
       "        [ 0.51783128,  0.17904411,  0.36866599,  0.51154068]]])"
      ]
     },
     "execution_count": 98,
     "metadata": {},
     "output_type": "execute_result"
    }
   ],
   "source": [
    "epsilon.T"
   ]
  },
  {
   "cell_type": "code",
   "execution_count": 100,
   "metadata": {
    "collapsed": false
   },
   "outputs": [
    {
     "data": {
      "text/plain": [
       "array([ 0.40372642,  0.80669244,  0.82390794])"
      ]
     },
     "execution_count": 100,
     "metadata": {},
     "output_type": "execute_result"
    }
   ],
   "source": [
    "epsilon.T[1][0][:-1]"
   ]
  },
  {
   "cell_type": "code",
   "execution_count": 33,
   "metadata": {
    "collapsed": false
   },
   "outputs": [
    {
     "name": "stdout",
     "output_type": "stream",
     "text": [
      "(9, 5, 4)\n",
      "(4, 5, 9)\n"
     ]
    }
   ],
   "source": [
    "print(np.shape(epsilon))\n",
    "print(np.shape(epsilon.T))"
   ]
  },
  {
   "cell_type": "code",
   "execution_count": 85,
   "metadata": {
    "collapsed": false
   },
   "outputs": [
    {
     "data": {
      "text/plain": [
       "array([ 0.,  0.])"
      ]
     },
     "execution_count": 85,
     "metadata": {},
     "output_type": "execute_result"
    }
   ],
   "source": [
    "alpha = np.zeros( (observation_len, latent_len) )\n",
    "alpha[1]"
   ]
  },
  {
   "cell_type": "code",
   "execution_count": 169,
   "metadata": {
    "collapsed": false
   },
   "outputs": [],
   "source": [
    "\n"
   ]
  },
  {
   "cell_type": "code",
   "execution_count": null,
   "metadata": {
    "collapsed": false
   },
   "outputs": [],
   "source": [
    "def calc_forward_messages(unary_matrix, \n",
    "                          transition_matrix,\n",
    "                          emission_matrix,\n",
    "                          latent_indice_len,\n",
    "                          observation_sentence\n",
    "                         ):\n",
    "    \"\"\"Calcualte the forward messages ~ alpha values.\n",
    "    \n",
    "    Input\n",
    "    -----\n",
    "    unary_matrix: marginal probabilities ~ initial matrix.\n",
    "    \n",
    "    Return\n",
    "    ------\n",
    "    alpha\n",
    "    \"\"\"\n",
    "    \n",
    "    # TODO: verify matrix length\n",
    "    observation_len = len(observation_sentence)\n",
    "    \n",
    "    alpha = np.zeros( (observation_len, latent_indice_len) )\n",
    "    alpha[0] = np.multiply(emission_matrix[0], unary_matrix)\n",
    "    \n",
    "    for t in np.arange(1, observation_len):\n",
    "        for j in range(latent_indice_len):\n",
    "            sum_al = 0.0;\n",
    "#             print(\"alpha : \", t, j, \" :: \", emission_matrix[ observation_sentence[t] ][ j ])\n",
    "            for i in range(latent_indice_len):\n",
    "                sum_al += alpha[t-1][i] * transition_matrix[i][j]\n",
    "#                 print(\"   sum_al: \", alpha[t-1][i], transition_matrix[i][j])\n",
    "                \n",
    "            alpha[t][j] = emission_matrix[ observation_sentence[t] ][ j ] * sum_al\n",
    "            \n",
    "    \n",
    "    return alpha\n",
    "    \n",
    "    \n",
    "def calc_backward_messages(transition_matrix,\n",
    "                           emission_matrix,\n",
    "                           latent_indice_len,\n",
    "                           observation_sentence):\n",
    "    \"\"\"Calcualte the backward messages ~ beta values.\n",
    "    \n",
    "    Return\n",
    "    ------\n",
    "    beta\n",
    "    \"\"\"\n",
    "    # TODO: verify matrix length\n",
    "    observation_len = len(observation_sentence)\n",
    "    \n",
    "    beta = np.zeros( (observation_len, latent_indice_len) )\n",
    "    beta[-1] = [1]*latent_indice_len\n",
    "    \n",
    "    for t in reversed(range(observation_len-1)):\n",
    "        for i in range(latent_indice_len):\n",
    "#             print(\"beta \", t, i)\n",
    "            for j in range(latent_indice_len):\n",
    "                beta[t][i] += \\\n",
    "                        beta[t+1][j] \\\n",
    "                        * transition_matrix[i][j] \\\n",
    "                        * emission_matrix[ observation_sentence[t+1] ][j]\n",
    "#                 print(\"    \", beta[t+1][j], transition_matrix[i][j], emission_matrix[ observation_sentence[t+1] ][j], beta[t][i])\n",
    "    \n",
    "    return beta\n",
    "\n",
    "def calc_updated_matrix(alpha, beta, latent_indice_len, observation_sentence):\n",
    "    \"\"\"Calcualte the gama and epsilon values in order to reproduce better transition and emission matrix.\n",
    "    \n",
    "    Return\n",
    "    ------\n",
    "    unary_matrix, transition_matrix, emission_matrix\n",
    "    \"\"\"\n",
    "    # TODO: verify matrix length\n",
    "    observation_len = len(observation_sentence)\n",
    "    \n",
    "    \n",
    "    gamma = np.multiply(alpha, beta)\n",
    "    epsilon = np.zeros( (observation_len-1, latent_indice_len, latent_indice_len) )\n",
    "    \n",
    "    # Normalization on rows\n",
    "    for i in range(len(gamma)):\n",
    "        sum_gamma = np.sum(gamma[i])\n",
    "        gamma[i] = np.divide(gamma[i], sum_gamma)\n",
    "    \n",
    "    for t in range(observation_len - 1):   \n",
    "        for i in range(latent_indice_len):\n",
    "            for j in range(latent_indice_len):\n",
    "                epsilon[t][i][j] = \n",
    "                        alpha[t][i] * \\\n",
    "                        transition_matrix[j][i] * \\\n",
    "                        beta[t+1][j] * \\\n",
    "                        emission_matrix[ observation_sentence[t+1] ][j]\n",
    "        # Normalization\n",
    "        sum_ep = np.sum(epsilon[t])\n",
    "        epsilon[t] = np.divide(epsilon[t], sum_ep)\n",
    "    \n",
    "    print(\"gamma: \", gamma)\n",
    "    print(\"epsilon: \", epsilon)\n",
    "    \n",
    "    # Update unary matrix\n",
    "    new_unary_matrix = np.copy(gamma[0])\n",
    "    #Normalization unary\n",
    "    sum_unary = np.sum(new_unary_matrix)\n",
    "    new_unary_matrix = np.divide(new_unary_matrix, sum_unary)\n",
    "    \n",
    "    new_transition_matrix = np.zeros( (latent_indice_len, latent_indice_len) )\n",
    "    new_emission_matrix = np.zeros( (observation_len, latent_indice_len) )\n",
    "    \n",
    "    # Update transition matrix\n",
    "    for i in range(latent_indice_len):\n",
    "        sum_gamma = np.sum(gamma.T[i][:-1])\n",
    "        for j in range(latent_indice_len):\n",
    "            sum_ep = np.sum( epsilon.T[j][i][:-1] )\n",
    "            new_transition_matrix[i][j] = sum_ep/sum_gamma\n",
    "        # Normalization\n",
    "        sum_trans = np.sum(new_transition_matrix[i])\n",
    "        new_transition_matrix[i] = np.divide(new_transition_matrix[i], sum_trans)\n",
    "    \n",
    "    # Update emission matrix\n",
    "    sum_gamma = [np.sum(gamma.T[i]) for i in range(latent_indice_len)]   \n",
    "    for i in range(latent_indice_len):\n",
    "        new_emission_matrix.T[i] = np.divide(gamma.T[i], sum_gamma[i])\n",
    "    \n",
    "    return new_unary_matrix, new_transition_matrix, new_emission_matrix"
   ]
  },
  {
   "cell_type": "code",
   "execution_count": null,
   "metadata": {
    "collapsed": true
   },
   "outputs": [],
   "source": [
    "unary_matrix = [.85, .15]\n",
    "transition_matrix = [\n",
    "    [.3, .7], \n",
    "    [.1, .9]\n",
    "]\n",
    "emission_matrix = [\n",
    "    [.4, .5],\n",
    "    [.6, .5]\n",
    "]\n",
    "latent_indice_len = 2\n",
    "observation_sentence = [0,1,1,0]\n",
    "\n",
    "alpha = calc_forward_messages(unary_matrix, \n",
    "                      transition_matrix,\n",
    "                      emission_matrix,\n",
    "                      latent_indice_len,\n",
    "                      observation_sentence)\n",
    "print(\"alpha: \", alpha)\n",
    "beta = calc_backward_messages(transition_matrix,\n",
    "                           emission_matrix,\n",
    "                           latent_indice_len,\n",
    "                           observation_sentence)\n",
    "print(\"beta\", beta)\n",
    "new_unary_matrix, new_transition_matrix, new_emission_matrix = calc_updated_matrix(alpha, beta, latent_indice_len, observation_sentence)\n",
    "print(\"New Unary\")\n",
    "print( new_unary_matrix) \n",
    "print(\"New transition\")\n",
    "print(new_transition_matrix) \n",
    "print(\"New emission\")\n",
    "print(new_emission_matrix )"
   ]
  },
  {
   "cell_type": "code",
   "execution_count": null,
   "metadata": {
    "collapsed": true
   },
   "outputs": [],
   "source": []
  },
  {
   "cell_type": "code",
   "execution_count": null,
   "metadata": {
    "collapsed": true
   },
   "outputs": [],
   "source": []
  },
  {
   "cell_type": "code",
   "execution_count": null,
   "metadata": {
    "collapsed": true
   },
   "outputs": [],
   "source": []
  },
  {
   "cell_type": "code",
   "execution_count": null,
   "metadata": {
    "collapsed": true
   },
   "outputs": [],
   "source": []
  },
  {
   "cell_type": "code",
   "execution_count": null,
   "metadata": {
    "collapsed": true
   },
   "outputs": [],
   "source": []
  },
  {
   "cell_type": "code",
   "execution_count": null,
   "metadata": {
    "collapsed": true
   },
   "outputs": [],
   "source": []
  },
  {
   "cell_type": "code",
   "execution_count": null,
   "metadata": {
    "collapsed": true
   },
   "outputs": [],
   "source": []
  },
  {
   "cell_type": "markdown",
   "metadata": {},
   "source": [
    "Test"
   ]
  },
  {
   "cell_type": "code",
   "execution_count": 230,
   "metadata": {
    "collapsed": false,
    "scrolled": true
   },
   "outputs": [
    {
     "name": "stdout",
     "output_type": "stream",
     "text": [
      "alpha:  [[ 0.34        0.075     ]\n",
      " [ 0.0657      0.15275   ]\n",
      " [ 0.020991    0.0917325 ]\n",
      " [ 0.00618822  0.04862648]]\n",
      "beta [[ 0.133143  0.127281]\n",
      " [ 0.2561    0.2487  ]\n",
      " [ 0.47      0.49    ]\n",
      " [ 1.        1.      ]]\n",
      "gamma:  [[ 0.82584825  0.17415175]\n",
      " [ 0.30695729  0.69304271]\n",
      " [ 0.17998404  0.82001596]\n",
      " [ 0.11289345  0.88710655]]\n",
      "epsilon:  [[[ 0.43103576  0.1162725 ]\n",
      "  [ 0.22185664  0.23083511]]\n",
      "\n",
      " [[ 0.07828248  0.02267046]\n",
      "  [ 0.4246755   0.47437157]]\n",
      "\n",
      " [[ 0.03571255  0.01488023]\n",
      "  [ 0.3641562   0.58525103]]]\n",
      "New Unary\n",
      "[ 0.82584825  0.17415175]\n",
      "New transition\n",
      "[[ 0.78566825  0.21433175]\n",
      " [ 0.47829664  0.52170336]]\n",
      "New emission\n",
      "[[ 0.57926498  0.06764969]\n",
      " [ 0.21530542  0.26921421]\n",
      " [ 0.12624408  0.31853729]\n",
      " [ 0.07918552  0.3445988 ]]\n",
      " \n",
      " \n",
      " Iteration  1\n",
      "alpha:  [[ 0.47838497  0.01178131]\n",
      " [ 0.08213619  0.02925805]\n",
      " [ 0.01690704  0.00884864]\n",
      " [ 0.01014617  0.00055744]]\n",
      "beta [[ 0.02180828  0.02299034]\n",
      " [ 0.09746168  0.09223037]\n",
      " [ 0.46960958  0.31235357]\n",
      " [ 1.          1.        ]]\n",
      "gamma:  [[ 0.97469486  0.02530514]\n",
      " [ 0.74789062  0.25210938]\n",
      " [ 0.74177821  0.25822179]\n",
      " [ 0.94792047  0.05207953]]\n",
      "epsilon:  [[[ 0.7253762   0.19067814]\n",
      "  [ 0.04168274  0.04226292]]\n",
      "\n",
      " [[ 0.38339872  0.0708366 ]\n",
      "  [ 0.31866787  0.22709681]]\n",
      "\n",
      " [[ 0.21736748  0.09056978]\n",
      "  [ 0.26544872  0.42661402]]]\n",
      "New Unary\n",
      "[ 0.97469486  0.02530514]\n",
      "New transition\n",
      "[[ 0.80915368  0.19084632]\n",
      " [ 0.5722482   0.4277518 ]]\n",
      "New emission\n",
      "[[ 0.28564293  0.04305676]\n",
      " [ 0.21917595  0.42896476]\n",
      " [ 0.21738465  0.43936503]\n",
      " [ 0.27779646  0.08861345]]\n",
      " \n",
      " \n",
      " Iteration  2\n",
      "alpha:  [[  2.78414699e-01   1.08955744e-03]\n",
      " [  4.95126745e-02   2.29927169e-02]\n",
      " [  1.16647421e-02   8.27236553e-03]\n",
      " [  4.04825029e-03   2.48208984e-04]]\n",
      "beta [[ 0.01535821  0.01882321]\n",
      " [ 0.05733689  0.06339209]\n",
      " [ 0.23934626  0.18187626]\n",
      " [ 1.          1.        ]]\n",
      "gamma:  [[ 0.99522654  0.00477346]\n",
      " [ 0.66075404  0.33924596]\n",
      " [ 0.64981702  0.35018298]\n",
      " [ 0.94222941  0.05777059]]\n",
      "epsilon:  [[[ 0.75354468  0.2314235 ]\n",
      "  [ 0.00688088  0.00815094]]\n",
      "\n",
      " [[ 0.31477954  0.06644363]\n",
      "  [ 0.34108073  0.2776961 ]]\n",
      "\n",
      " [[ 0.17449491  0.07270621]\n",
      "  [ 0.28874477  0.4640541 ]]]\n",
      "New Unary\n",
      "[ 0.99522654  0.00477346]\n",
      "New transition\n",
      "[[ 0.78197261  0.21802739]\n",
      " [ 0.54900103  0.45099897]]\n",
      "New emission\n",
      "[[ 0.30640956  0.00634791]\n",
      " [ 0.20343244  0.45114115]\n",
      " [ 0.20006515  0.46568559]\n",
      " [ 0.29009285  0.07682535]]\n",
      " \n",
      " \n",
      " Iteration  3\n",
      "alpha:  [[  3.04946931e-01   3.03014932e-05]\n",
      " [  4.85139128e-02   3.00010886e-02]\n",
      " [  1.10681851e-02   1.08760303e-02]\n",
      " [  4.48153693e-03   4.64555809e-05]]\n",
      "beta [[ 0.0148466   0.01871952]\n",
      " [ 0.05516384  0.06172372]\n",
      " [ 0.24098791  0.17108207]\n",
      " [ 1.          1.        ]]\n",
      "gamma:  [[  9.99874728e-01   1.25271711e-04]\n",
      " [  5.91037597e-01   4.08962403e-01]\n",
      " [  5.89068718e-01   4.10931282e-01]\n",
      " [  9.89740358e-01   1.02596417e-02]]\n",
      "epsilon:  [[[  7.62590443e-01   2.37020780e-01]\n",
      "  [  1.76810441e-04   2.11967216e-04]]\n",
      "\n",
      " [[  2.67545905e-01   5.27600322e-02]\n",
      "  [  3.86051997e-01   2.93642066e-01]]\n",
      "\n",
      " [[  1.35237710e-01   5.63490459e-02]\n",
      "  [  3.10076313e-01   4.98336931e-01]]]\n",
      "New Unary\n",
      "[  9.99874728e-01   1.25271711e-04]\n",
      "New transition\n",
      "[[ 0.7804553   0.2195447 ]\n",
      " [ 0.56791435  0.43208565]]\n",
      "New emission\n",
      "[[  3.15445619e-01   1.50879128e-04]\n",
      " [  1.86463579e-01   4.92560454e-01]\n",
      " [  1.85842427e-01   4.94931801e-01]\n",
      " [  3.12248375e-01   1.23568664e-02]]\n",
      " \n",
      " \n",
      " Iteration  4\n",
      "alpha:  [[  3.15406102e-01   1.89008865e-08]\n",
      " [  4.58999447e-02   3.41077156e-02]\n",
      " [  1.02915061e-02   1.22226629e-02]\n",
      " [  4.72332062e-03   1.13773164e-06]]\n",
      "beta [[ 0.01497897  0.0195135 ]\n",
      " [ 0.0552119   0.06421524]\n",
      " [ 0.24622433  0.17921129]\n",
      " [ 1.          1.        ]]\n",
      "gamma:  [[  9.99999922e-01   7.80666269e-08]\n",
      " [  5.36404998e-01   4.63595002e-01]\n",
      " [  5.36361844e-01   4.63638156e-01]\n",
      " [  9.99759183e-01   2.40817371e-04]]\n",
      "epsilon:  [[[  7.55815041e-01   2.44184722e-01]\n",
      "  [  1.05682821e-07   1.31696150e-07]]\n",
      "\n",
      " [[  2.33199774e-01   4.71476464e-02]\n",
      "  [  4.04338765e-01   3.15313814e-01]]\n",
      "\n",
      " [[  1.15720498e-01   4.82168743e-02]\n",
      "  [  3.20681556e-01   5.15381072e-01]]]\n",
      "New Unary\n",
      "[  9.99999922e-01   7.80666269e-08]\n",
      "New transition\n",
      "[[ 0.7724583   0.2275417 ]\n",
      " [ 0.56185269  0.43814731]]\n",
      "New emission\n",
      "[[  3.25465086e-01   8.41712246e-08]\n",
      " [  1.74581113e-01   4.99846869e-01]\n",
      " [  1.74567067e-01   4.99893398e-01]\n",
      " [  3.25386734e-01   2.59648634e-04]]\n",
      " \n",
      " \n",
      " Iteration  5\n",
      "alpha:  [[  3.25465061e-01   6.57096359e-15]\n",
      " [  4.38911214e-02   3.70170954e-02]\n",
      " [  9.54997370e-03   1.30989875e-02]\n",
      " [  4.79626763e-03   6.65988263e-10]]\n",
      "beta [[ 0.01473666  0.0195373 ]\n",
      " [ 0.05470223  0.06470865]\n",
      " [ 0.25140823  0.18286347]\n",
      " [ 1.          1.        ]]\n",
      "gamma:  [[  1.00000000e+00   2.67664080e-14]\n",
      " [  5.00585441e-01   4.99414559e-01]\n",
      " [  5.00585417e-01   4.99414583e-01]\n",
      " [  9.99999861e-01   1.38855507e-07]]\n",
      "epsilon:  [[[  7.52677446e-01   2.47322554e-01]\n",
      "  [  3.54576848e-14   4.49397778e-14]]\n",
      "\n",
      " [[  2.12605616e-01   4.29555916e-02]\n",
      "  [  4.18386035e-01   3.26052757e-01]]\n",
      "\n",
      " [[  1.02451439e-01   4.26880997e-02]\n",
      "  [  3.27891684e-01   5.26968777e-01]]]\n",
      "New Unary\n",
      "[  1.00000000e+00   2.67664080e-14]\n",
      "New transition\n",
      "[[ 0.76880606  0.23119394]\n",
      " [ 0.56201536  0.43798464]]\n",
      "New emission\n",
      "[[  3.33203304e-01   2.67977807e-14]\n",
      " [  1.66796723e-01   4.99999919e-01]\n",
      " [  1.66796715e-01   4.99999942e-01]\n",
      " [  3.33203258e-01   1.39018258e-07]]\n",
      " \n",
      " \n",
      " Iteration  6\n",
      "alpha:  [[  3.33203304e-01   7.17280334e-28]\n",
      " [  4.27281028e-02   3.85172865e-02]\n",
      " [  9.08990949e-03   1.33742270e-02]\n",
      " [  4.83308010e-03   2.13289916e-16]]\n",
      "beta [[ 0.0145049   0.01934832]\n",
      " [ 0.05449693  0.06502352]\n",
      " [ 0.25616872  0.18726537]\n",
      " [ 1.          1.        ]]\n",
      "gamma:  [[  1.00000000e+00   2.87149561e-27]\n",
      " [  4.81794304e-01   5.18205696e-01]\n",
      " [  4.81794304e-01   5.18205696e-01]\n",
      " [  1.00000000e+00   4.41312602e-14]]\n",
      "epsilon:  [[[  7.51070378e-01   2.48929622e-01]\n",
      "  [  3.77256771e-27   4.82279402e-27]]\n",
      "\n",
      " [[  2.01861071e-01   4.09903343e-02]\n",
      "  [  4.24591633e-01   3.32556962e-01]]\n",
      "\n",
      " [[  9.64577087e-02   4.01907119e-02]\n",
      "  [  3.31148551e-01   5.32203028e-01]]]\n",
      "New Unary\n",
      "[  1.00000000e+00   2.87149561e-27]\n",
      "New transition\n",
      "[[ 0.76672999  0.23327001]\n",
      " [ 0.56077715  0.43922285]]\n",
      "New emission\n",
      "[[  3.37428750e-01   2.77061371e-27]\n",
      " [  1.62571250e-01   5.00000000e-01]\n",
      " [  1.62571250e-01   5.00000000e-01]\n",
      " [  3.37428750e-01   4.25808328e-14]]\n",
      " \n",
      " \n",
      " Iteration  7\n",
      "alpha:  [[  3.37428750e-01   7.95580512e-54]\n",
      " [  4.20599043e-02   3.93560035e-02]\n",
      " [  8.83063256e-03   1.35486851e-02]\n",
      " [  4.84834630e-03   2.21948704e-29]]\n",
      "beta [[ 0.0143685   0.01925786]\n",
      " [ 0.05431854  0.06514162]\n",
      " [ 0.25871674  0.18922233]\n",
      " [ 1.          1.        ]]\n",
      "gamma:  [[  1.00000000e+00   3.16008341e-53]\n",
      " [  4.71218918e-01   5.28781082e-01]\n",
      " [  4.71218918e-01   5.28781082e-01]\n",
      " [  1.00000000e+00   4.57782284e-27]]\n",
      "epsilon:  [[[  7.50116880e-01   2.49883120e-01]\n",
      "  [  4.12674636e-53   5.30250982e-53]]\n",
      "\n",
      " [[  1.96177776e-01   3.98561334e-02]\n",
      "  [  4.28320935e-01   3.35645156e-01]]\n",
      "\n",
      " [[  9.30213645e-02   3.87589019e-02]\n",
      "  [  3.33015788e-01   5.35203945e-01]]]\n",
      "New Unary\n",
      "[  1.00000000e+00   3.16008341e-53]\n",
      "New transition\n",
      "[[ 0.76558956  0.23441044]\n",
      " [ 0.56065438  0.43934562]]\n",
      "New emission\n",
      "[[  3.39854249e-01   2.98808290e-53]\n",
      " [  1.60145751e-01   5.00000000e-01]\n",
      " [  1.60145751e-01   5.00000000e-01]\n",
      " [  3.39854249e-01   4.32865602e-27]]\n",
      " \n",
      " \n",
      " Iteration  8\n",
      "alpha:  [[  3.39854249e-001   9.44259120e-106]\n",
      " [  4.16681412e-002   3.98326921e-002]\n",
      " [  8.68519528e-003   1.36338831e-002]\n",
      " [  4.85760172e-003   2.39820165e-055]]\n",
      "beta [[ 0.01429319  0.01919603]\n",
      " [ 0.05423307  0.06521805]\n",
      " [ 0.26018886  0.19054077]\n",
      " [ 1.          1.        ]]\n",
      "gamma:  [[  1.00000000e+000   3.73147562e-105]\n",
      " [  4.65207160e-001   5.34792840e-001]\n",
      " [  4.65207160e-001   5.34792840e-001]\n",
      " [  1.00000000e+000   4.93700757e-053]]\n",
      "epsilon:  [[[  7.49601549e-001   2.50398451e-001]\n",
      "  [  4.85965843e-105   6.26141704e-105]]\n",
      "\n",
      " [[  1.92896725e-001   3.92393289e-002]\n",
      "  [  4.30266142e-001   3.37597804e-001]]\n",
      "\n",
      " [[  9.11893926e-002   3.79955803e-002]\n",
      "  [  3.34011243e-001   5.36803784e-001]]]\n",
      "New Unary\n",
      "[  1.00000000e+000   3.73147562e-105]\n",
      "New transition\n",
      "[[ 0.76493036  0.23506964]\n",
      " [ 0.56034164  0.43965836]]\n",
      "New emission\n",
      "[[  3.41248674e-001   3.48871127e-105]\n",
      " [  1.58751326e-001   5.00000000e-001]\n",
      " [  1.58751326e-001   5.00000000e-001]\n",
      " [  3.41248674e-001   4.61581308e-053]]\n",
      " \n",
      " \n",
      " Iteration  9\n",
      "alpha:  [[  3.41248674e-001   1.30180410e-209]\n",
      " [  4.14390922e-002   4.01086015e-002]\n",
      " [  8.59996244e-003   1.36875773e-002]\n",
      " [  4.86214244e-003   2.80473123e-107]]\n",
      "beta [[ 0.01424809  0.01916384]\n",
      " [ 0.05417254  0.06525487]\n",
      " [ 0.26103147  0.19121584]\n",
      " [ 1.          1.        ]]\n",
      "gamma:  [[  1.00000000e+000   5.13098250e-209]\n",
      " [  4.61701991e-001   5.38298009e-001]\n",
      " [  4.61701991e-001   5.38298009e-001]\n",
      " [  1.00000000e+000   5.76850898e-105]]\n",
      "epsilon:  [[[  7.49285883e-001   2.50714117e-001]\n",
      "  [  6.66958788e-209   8.60787520e-209]]\n",
      "\n",
      " [[  1.91042074e-001   3.88738471e-002]\n",
      "  [  4.31452607e-001   3.38631472e-001]]\n",
      "\n",
      " [[  9.00997249e-002   3.75415521e-002]\n",
      "  [  3.34603346e-001   5.37755377e-001]]]\n",
      "New Unary\n",
      "[  1.00000000e+000   5.13098250e-209]\n",
      "New transition\n",
      "[[ 0.76454654  0.23545346]\n",
      " [ 0.56026688  0.43973312]]\n",
      "New emission\n",
      "[[  3.42066990e-001   4.76593115e-209]\n",
      " [  1.57933010e-001   5.00000000e-001]\n",
      " [  1.57933010e-001   5.00000000e-001]\n",
      " [  3.42066990e-001   5.35809986e-105]]\n"
     ]
    }
   ],
   "source": [
    "unary_matrix = [.85, .15]\n",
    "transition_matrix = [\n",
    "    [.3, .7], \n",
    "    [.1, .9]\n",
    "]\n",
    "emission_matrix = [\n",
    "    [.4, .5],\n",
    "    [.6, .5]\n",
    "]\n",
    "latent_indice_len = 2\n",
    "observation_sentence = [0,1,1,0]\n",
    "\n",
    "alpha = calc_forward_messages(unary_matrix, \n",
    "                      transition_matrix,\n",
    "                      emission_matrix,\n",
    "                      latent_indice_len,\n",
    "                      observation_sentence)\n",
    "print(\"alpha: \", alpha)\n",
    "beta = calc_backward_messages(transition_matrix,\n",
    "                           emission_matrix,\n",
    "                           latent_indice_len,\n",
    "                           observation_sentence)\n",
    "print(\"beta\", beta)\n",
    "new_unary_matrix, new_transition_matrix, new_emission_matrix = calc_updated_matrix(alpha, beta, latent_indice_len, observation_sentence)\n",
    "print(\"New Unary\")\n",
    "print( new_unary_matrix) \n",
    "print(\"New transition\")\n",
    "print(new_transition_matrix) \n",
    "print(\"New emission\")\n",
    "print(new_emission_matrix )\n",
    "\n",
    "for i in range(1, 10):\n",
    "    print (\" \\n \\n Iteration \", i)\n",
    "    alpha = calc_forward_messages(new_unary_matrix, \n",
    "                          new_transition_matrix,\n",
    "                          new_emission_matrix,\n",
    "                          latent_indice_len,\n",
    "                          observation_sentence)\n",
    "    print(\"alpha: \", alpha)\n",
    "    beta = calc_backward_messages(new_transition_matrix,\n",
    "                               new_emission_matrix,\n",
    "                               latent_indice_len,\n",
    "                               observation_sentence)\n",
    "    print(\"beta\", beta)\n",
    "    new_unary_matrix, new_transition_matrix, new_emission_matrix = calc_updated_matrix(alpha, beta, latent_indice_len, observation_sentence)\n",
    "    print(\"New Unary\")\n",
    "    print( new_unary_matrix) \n",
    "    print(\"New transition\")\n",
    "    print(new_transition_matrix) \n",
    "    print(\"New emission\")\n",
    "    print(new_emission_matrix )\n"
   ]
  },
  {
   "cell_type": "markdown",
   "metadata": {},
   "source": [
    "Transition Matrix"
   ]
  },
  {
   "cell_type": "code",
   "execution_count": 292,
   "metadata": {
    "collapsed": false
   },
   "outputs": [],
   "source": [
    "def generate_transition_distant_matrix(max_distance, po):\n",
    "    \"\"\" Generate a transition matrix based on jump distance on the latent sentence.\n",
    "    We extend the latent sentence for 2*length in which each word has \n",
    "    an empty word to represent no-alignment state.\n",
    "    where [max_distance:end] elements are empty words considered as \n",
    "    latent words having no direct aligment.\n",
    "    \n",
    "    Input\n",
    "    -----\n",
    "    max_distance: the length of latent sentence\n",
    "                  int value\n",
    "    non_negative_set: random non-negative set as max_distance's size\n",
    "    po: default value for A->A_empty_word\n",
    "    \n",
    "    Output\n",
    "    ------\n",
    "    trans_distant_matrix\n",
    "    \"\"\"\n",
    "    \n",
    "    trans_distant_matrix = np.zeros((2*max_distance, 2*max_distance))\n",
    "    \n",
    "    for i in range(max_distance):\n",
    "        for j in range(max_distance):\n",
    "            trans_distant_matrix[i][j] = abs(i-j)\n",
    "    \n",
    "    print(trans_distant_matrix)\n",
    "    \n",
    "    for i in range(max_distance):\n",
    "        trans_distant_matrix[i+max_distance][i+max_distance] = po\n",
    "        trans_distant_matrix[i][i+max_distance] = po\n",
    "        \n",
    "        sum_d = np.sum(trans_distant_matrix[:max_distance, i])\n",
    "        trans_distant_matrix[:max_distance, i] = \\\n",
    "                np.divide(\n",
    "                    trans_distant_matrix[:max_distance, i], \n",
    "                    sum_d\n",
    "                )\n",
    "        trans_distant_matrix[max_distance:, i] = \\\n",
    "                np.copy(trans_distant_matrix[:max_distance, i])\n",
    "    \n",
    "    return trans_distant_matrix\n",
    "\n",
    "def generate_transition_distant_matrix2(max_distance, non_negative_set, po):\n",
    "    \"\"\" Generate a transition matrix based on jump distance in the latent sentence.\n",
    "    We extend the latent sentence for 2*length in which each word has \n",
    "    an empty word to represent no-alignment state.\n",
    "    where [max_distance:end] elements are empty words considered as \n",
    "    latent words having no direct aligment.\n",
    "    \n",
    "    Input\n",
    "    -----\n",
    "    max_distance: the length of latent sentence\n",
    "                  int value\n",
    "    non_negative_set: random non-negative set as max_distance's size\n",
    "    po: default value for A->A_empty_word\n",
    "    \n",
    "    Output\n",
    "    ------\n",
    "    trans_distant_matrix\n",
    "    \"\"\"\n",
    "    \n",
    "    trans_distant_matrix = np.zeros((2*max_distance, 2*max_distance))\n",
    "    \n",
    "    for i in range(max_distance):\n",
    "        for j in range(max_distance):\n",
    "            trans_distant_matrix[i][j] = non_negative_set[abs(i-j)]\n",
    "    \n",
    "    print(trans_distant_matrix)\n",
    "    \n",
    "    for i in range(max_distance):\n",
    "        trans_distant_matrix[i+max_distance][i+max_distance] = po\n",
    "        trans_distant_matrix[i][i+max_distance] = po\n",
    "        \n",
    "        sum_d = np.sum(trans_distant_matrix[:max_distance, i])\n",
    "        trans_distant_matrix[:max_distance, i] = \\\n",
    "                np.divide(\n",
    "                    trans_distant_matrix[:max_distance, i], \n",
    "                    sum_d\n",
    "                )\n",
    "        trans_distant_matrix[max_distance:, i] = \\\n",
    "                np.copy(trans_distant_matrix[:max_distance, i])\n",
    "    \n",
    "    return trans_distant_matrix"
   ]
  },
  {
   "cell_type": "markdown",
   "metadata": {},
   "source": [
    "Test"
   ]
  },
  {
   "cell_type": "code",
   "execution_count": 293,
   "metadata": {
    "collapsed": false
   },
   "outputs": [
    {
     "name": "stdout",
     "output_type": "stream",
     "text": [
      "[[ 0.  1.  2.  0.  0.  0.]\n",
      " [ 1.  0.  1.  0.  0.  0.]\n",
      " [ 2.  1.  0.  0.  0.  0.]\n",
      " [ 0.  0.  0.  0.  0.  0.]\n",
      " [ 0.  0.  0.  0.  0.  0.]\n",
      " [ 0.  0.  0.  0.  0.  0.]]\n",
      "[[ 0.          0.5         0.66666667  0.2         0.          0.        ]\n",
      " [ 0.33333333  0.          0.33333333  0.          0.2         0.        ]\n",
      " [ 0.66666667  0.5         0.          0.          0.          0.2       ]\n",
      " [ 0.          0.5         0.66666667  0.2         0.          0.        ]\n",
      " [ 0.33333333  0.          0.33333333  0.          0.2         0.        ]\n",
      " [ 0.66666667  0.5         0.          0.          0.          0.2       ]]\n",
      "[[ 5.  7.  6.  0.  0.  0.]\n",
      " [ 7.  5.  7.  0.  0.  0.]\n",
      " [ 6.  7.  5.  0.  0.  0.]\n",
      " [ 0.  0.  0.  0.  0.  0.]\n",
      " [ 0.  0.  0.  0.  0.  0.]\n",
      " [ 0.  0.  0.  0.  0.  0.]]\n",
      "[[ 0.27777778  0.36842105  0.33333333  0.2         0.          0.        ]\n",
      " [ 0.38888889  0.26315789  0.38888889  0.          0.2         0.        ]\n",
      " [ 0.33333333  0.36842105  0.27777778  0.          0.          0.2       ]\n",
      " [ 0.27777778  0.36842105  0.33333333  0.2         0.          0.        ]\n",
      " [ 0.38888889  0.26315789  0.38888889  0.          0.2         0.        ]\n",
      " [ 0.33333333  0.36842105  0.27777778  0.          0.          0.2       ]]\n"
     ]
    }
   ],
   "source": [
    "print(generate_transition_distant_matrix(3, 0.2))\n",
    "print(generate_transition_distant_matrix2(3, [5, 7, 6], 0.2))"
   ]
  },
  {
   "cell_type": "code",
   "execution_count": 249,
   "metadata": {
    "collapsed": false
   },
   "outputs": [
    {
     "name": "stdout",
     "output_type": "stream",
     "text": [
      "0.27222083136439323\n",
      "0.2220076620578766\n"
     ]
    }
   ],
   "source": [
    "import timeit\n",
    "\n",
    "print(timeit.timeit('import numpy as np; X = np.random.random(15); Y=np.divide(X, np.sum(X))', number=10000))\n",
    "print(timeit.timeit('import numpy as np; X = np.random.random(15); sum_X = np.sum(X); Y=np.divide(X, sum_X)', number=10000))"
   ]
  },
  {
   "cell_type": "markdown",
   "metadata": {},
   "source": [
    "# Neural Network"
   ]
  },
  {
   "cell_type": "markdown",
   "metadata": {},
   "source": [
    "Pre-processing - Word embedding"
   ]
  },
  {
   "cell_type": "code",
   "execution_count": 232,
   "metadata": {
    "collapsed": false
   },
   "outputs": [],
   "source": [
    "a = [1,2,3,4]\n",
    "b = [17,12,11,10]\n",
    "e = map(lambda x,y:x+y, a,b)"
   ]
  },
  {
   "cell_type": "code",
   "execution_count": null,
   "metadata": {
    "collapsed": false
   },
   "outputs": [],
   "source": []
  },
  {
   "cell_type": "code",
   "execution_count": null,
   "metadata": {
    "collapsed": true
   },
   "outputs": [],
   "source": []
  },
  {
   "cell_type": "code",
   "execution_count": null,
   "metadata": {
    "collapsed": true
   },
   "outputs": [],
   "source": []
  },
  {
   "cell_type": "markdown",
   "metadata": {},
   "source": [
    "Neural network"
   ]
  },
  {
   "cell_type": "code",
   "execution_count": null,
   "metadata": {
    "collapsed": true
   },
   "outputs": [],
   "source": []
  },
  {
   "cell_type": "code",
   "execution_count": null,
   "metadata": {
    "collapsed": true
   },
   "outputs": [],
   "source": []
  },
  {
   "cell_type": "code",
   "execution_count": null,
   "metadata": {
    "collapsed": true
   },
   "outputs": [],
   "source": []
  },
  {
   "cell_type": "code",
   "execution_count": null,
   "metadata": {
    "collapsed": true
   },
   "outputs": [],
   "source": []
  },
  {
   "cell_type": "code",
   "execution_count": null,
   "metadata": {
    "collapsed": true
   },
   "outputs": [],
   "source": []
  },
  {
   "cell_type": "code",
   "execution_count": null,
   "metadata": {
    "collapsed": true
   },
   "outputs": [],
   "source": []
  },
  {
   "cell_type": "code",
   "execution_count": null,
   "metadata": {
    "collapsed": true
   },
   "outputs": [],
   "source": []
  },
  {
   "cell_type": "code",
   "execution_count": null,
   "metadata": {
    "collapsed": true
   },
   "outputs": [],
   "source": []
  }
 ],
 "metadata": {
  "anaconda-cloud": {},
  "kernelspec": {
   "display_name": "Python 3",
   "language": "python",
   "name": "python3"
  },
  "language_info": {
   "codemirror_mode": {
    "name": "ipython",
    "version": 3
   },
   "file_extension": ".py",
   "mimetype": "text/x-python",
   "name": "python",
   "nbconvert_exporter": "python",
   "pygments_lexer": "ipython3",
   "version": "3.6.0"
  }
 },
 "nbformat": 4,
 "nbformat_minor": 2
}
