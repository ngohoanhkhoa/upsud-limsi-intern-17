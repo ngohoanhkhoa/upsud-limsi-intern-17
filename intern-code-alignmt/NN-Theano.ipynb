{
 "cells": [
  {
   "cell_type": "code",
   "execution_count": 172,
   "metadata": {
    "collapsed": true
   },
   "outputs": [],
   "source": [
    "import numpy as np\n",
    "import theano.tensor as T\n",
    "from theano import function, printing\n",
    "import theano\n",
    "\n",
    "from theano import config\n",
    "config.compute_test_value = 'raise'\n",
    "\n",
    "# updates = OrderedDict()"
   ]
  },
  {
   "cell_type": "code",
   "execution_count": 177,
   "metadata": {
    "collapsed": false,
    "scrolled": true
   },
   "outputs": [
    {
     "name": "stdout",
     "output_type": "stream",
     "text": [
      "(9, 512)\n",
      "(9, 512)\n",
      "(9, 5)\n"
     ]
    }
   ],
   "source": [
    "class EmissionModel:\n",
    "    \"\"\" Simple emission model without CNN\n",
    "    word embedding layer -> ReLU layer -> softmax layer\n",
    "    \"\"\"\n",
    "    def init_weight_bias(self, input_size, layer_size, output_size, seed=1402):\n",
    "        rng = np.random.RandomState(seed)\n",
    "        \n",
    "        size_list = np.concatenate(([input_size[0]], layer_size, [output_size]), axis=0)\n",
    "        w = []\n",
    "        b = []\n",
    "        \n",
    "        for i in range(len(size_list) - 1):\n",
    "            w.append(\n",
    "                theano.shared(\n",
    "                    value=np.asarray(\n",
    "                        rng.uniform(low=-1.0, high=1.0, size=(size_list[i+1], size_list[i])), \n",
    "                        dtype=theano.config.floatX\n",
    "                    ), \n",
    "                    borrow=True\n",
    "                )\n",
    "            )\n",
    "            b.append(\n",
    "                theano.shared(\n",
    "                    value=np.asarray(\n",
    "                        rng.uniform(low=-1.0, high=1.0, size=(size_list[i+1], 1)), \n",
    "                        dtype=theano.config.floatX\n",
    "                    ), \n",
    "                    borrow=True,\n",
    "                    broadcastable=(False,True)\n",
    "                )\n",
    "            )\n",
    "        \n",
    "        return w, b\n",
    "    \n",
    "    #[7,512]\n",
    "    def __init__(self, input_size, layer_size, output_size, epoch=1, batch=1, learning_rate = .01, seed=1412):\n",
    "        \n",
    "        self.epoch = 1\n",
    "        self.learning_rate = learning_rate\n",
    "        self.seed = seed\n",
    "        \n",
    "        x_input = T.matrix().astype(config.floatX)\n",
    "        x_input.tag.test_value = np.asarray([\n",
    "            [ 0.,  0.,  0.,  0.,  0.],\n",
    "            [ 0.,  0.,  0.,  1.,  0.],\n",
    "            [ 0.,  0.,  1.,  0.,  0.],\n",
    "            [ 0.,  0.,  0.,  0.,  1.],\n",
    "            [ 0.,  0.,  0.,  0.,  0.],\n",
    "            [ 0.,  0.,  0.,  0.,  0.],\n",
    "            [ 1.,  0.,  0.,  0.,  0.],\n",
    "            [ 0.,  0.,  0.,  0.,  0.],\n",
    "            [ 0.,  1.,  0.,  0.,  0.],\n",
    "            [ 0.,  0.,  0.,  0.,  0.]\n",
    "        ]).astype(x_input.dtype)\n",
    "        \n",
    "        self.w, self.b = self.init_weight_bias(input_size, layer_size, output_size, seed)\n",
    "        \n",
    "        # word embedding layer\n",
    "        word_embedding_layer = T.dot(self.w[0], x_input) # [7, 10] * [10, 5] = [7, 5]\n",
    "        \n",
    "        # ReLU layer\n",
    "        z_relu_layer = T.dot(self.w[1], word_embedding_layer) + self.b[1] # [512, 7] * [7, 5] = [512, 5]\n",
    "        z_relu_layer_shape = T.shape(z_relu_layer)\n",
    "        z_reshaped_relu_layer = T.reshape(z_relu_layer, [z_relu_layer_shape[0]*z_relu_layer_shape[1], 1])\n",
    "        relu_layer = T.nnet.relu(z_reshaped_relu_layer)\n",
    "        relu_layer_reshaped = T.reshape(relu_layer, z_relu_layer_shape) # [512, 5]\n",
    "        \n",
    "        # Softmax layer\n",
    "        z_softmax_layer = T.dot(self.w[2], relu_layer_reshaped) + self.b[2] # [9, 512] * [512, 5] = [9, 5]\n",
    "        softmax_layer = T.transpose(T.nnet.softmax(T.transpose(z_softmax_layer))) # [9, 5]\n",
    "        \n",
    "        # calculate new gradient\n",
    "        posteriors = T.matrix().astype(config.floatX)\n",
    "        posteriors.tag.test_value = np.asarray([\n",
    "            [-0.15,  0.04, -0.26, -0.61, -0.93, -0.72, -0.15, -0.62,  0.62],\n",
    "            [ 0.07,  0.42,  0.11,  0.95, -0.86, -0.17, -0.22, -0.69, -0.55],\n",
    "            [-0.79,  0.3 ,  0.06, -0.79,  0.71,  0.86, -0.58,  0.38,  0.05],\n",
    "            [ 0.92, -0.33, -0.63,  0.99,  0.67, -0.79, -0.08,  0.64, -0.51],\n",
    "            [-0.08, -0.29,  0.87,  0.6 ,  0.31,  0.75,  0.38, -0.42,  0.11]\n",
    "        ]).astype(posteriors.dtype)\n",
    "        \n",
    "        cost = T.sum(T.transpose(posteriors) * T.log(softmax_layer))\n",
    "        dw0,dw1,dw2,db1,db2 = T.grad(\n",
    "            cost=cost, wrt=[self.w[0],self.w[1],self.w[2],self.b[1],self.b[2]]\n",
    "        )\n",
    "\n",
    "        # Update w and b\n",
    "        updates = [\n",
    "            (self.w[0], self.w[0] - self.learning_rate * dw0), \n",
    "            (self.w[1], self.w[1] - self.learning_rate * dw1), \n",
    "            (self.b[1], self.b[1] - self.learning_rate * db1),\n",
    "            (self.w[2], self.w[2] - self.learning_rate * dw2), \n",
    "            (self.b[2], self.b[2] - self.learning_rate * db2)\n",
    "        ]\n",
    "        \n",
    "        # Compile model\n",
    "        self.test = theano.function(\n",
    "            inputs=[x_input, posteriors], \n",
    "            outputs=[dw1, softmax_layer]\n",
    "        ) \n",
    "        self.train = theano.function(\n",
    "            inputs=[x_input, posteriors], \n",
    "            outputs=[dw2, self.w[2], softmax_layer], \n",
    "            updates=updates\n",
    "        )\n",
    "\n",
    "x = np.asarray([\n",
    "        [ 0.,  0.,  0.,  0.,  0.],\n",
    "        [ 0.,  0.,  0.,  1.,  0.],\n",
    "        [ 0.,  0.,  1.,  0.,  0.],\n",
    "        [ 0.,  0.,  0.,  0.,  1.],\n",
    "        [ 0.,  0.,  0.,  0.,  0.],\n",
    "        [ 0.,  0.,  0.,  0.,  0.],\n",
    "        [ 1.,  0.,  0.,  0.,  0.],\n",
    "        [ 0.,  0.,  0.,  0.,  0.],\n",
    "        [ 0.,  1.,  0.,  0.,  0.],\n",
    "        [ 0.,  0.,  0.,  0.,  0.]\n",
    "]).astype(config.floatX)\n",
    "\n",
    "posteriors = np.asarray([\n",
    "    [ 0.65, -0.32,  0.44, -0.04, -0.36, -0.81,  0.38, -0.84, -0.93],\n",
    "    [-0.41, -0.05,  0.96,  0.71,  0.08,  0.85,  0.12,  0.43, -0.08],\n",
    "    [-0.45,  0.04, -0.94,  0.41,  0.04, -0.3 ,  0.89, -0.09, -0.42],\n",
    "    [-0.19,  0.32,  0.  ,  0.02, -0.66, -0.41,  0.11, -0.05,  0.76],\n",
    "    [-0.32,  0.86,  0.09, -0.41, -0.57, -0.55, -0.85, -0.09, -0.27]\n",
    "]).astype(config.floatX)\n",
    "\n",
    "input_size = np.shape(x)\n",
    "d_embedding = 7\n",
    "layer_size = [d_embedding, 512]\n",
    "output_size = 9\n",
    "\n",
    "model = EmissionModel(input_size=input_size, layer_size=layer_size, output_size=output_size)\n",
    "\n",
    "result = model.train(x, posteriors)\n",
    "print(np.shape(result[0]))\n",
    "print(np.shape(result[1]))\n",
    "print(np.shape(result[2]))\n",
    "# print(np.shape(model.evaluate_model(x)))\n",
    "# print(model.calculate_gradient(posteriors))\n"
   ]
  },
  {
   "cell_type": "code",
   "execution_count": null,
   "metadata": {
    "collapsed": false
   },
   "outputs": [],
   "source": []
  },
  {
   "cell_type": "code",
   "execution_count": 166,
   "metadata": {
    "collapsed": false
   },
   "outputs": [
    {
     "name": "stdout",
     "output_type": "stream",
     "text": [
      "[[ -4.25463021e-01  -1.74731529e+00  -3.40455741e-01 ...,   8.40714455e-01\n",
      "    1.16684544e+00  -1.74363041e+00]\n",
      " [ -1.73396075e+00  -3.52505970e+00  -1.80466461e+00 ...,   1.56047273e+00\n",
      "    2.06868815e+00  -2.42936778e+00]\n",
      " [ -5.50276101e-01   5.80202416e-02  -1.51815784e+00 ...,   9.53709185e-01\n",
      "    2.68967301e-01   3.69657218e-01]\n",
      " ..., \n",
      " [ -9.68661189e-01   5.42034388e-01   1.15126371e+00 ...,  -8.52006793e-01\n",
      "   -6.70304239e-01   4.77848887e-01]\n",
      " [  3.67000699e-01   4.21549737e-01   8.97033513e-03 ...,   2.57458866e-01\n",
      "    1.96427971e-01   7.65285119e-02]\n",
      " [ -4.27518426e-05  -1.21131372e-02   3.77787501e-02 ...,  -8.82423893e-02\n",
      "    4.54101712e-03   5.87681048e-02]]\n",
      "\n",
      "[[ -1.84710197e+01  -7.45869827e+01  -6.41599178e+00  -2.60746651e+01\n",
      "   -1.36473475e+01]\n",
      " [ -3.23260193e+01  -8.30433655e+01  -8.10556221e+00  -3.15460014e+01\n",
      "   -2.47860146e+01]\n",
      " [ -4.28678932e+01  -1.31970825e+02  -5.94393015e+00  -4.57771158e+00\n",
      "   -1.53612356e+01]\n",
      " [ -3.80866966e+01  -1.26840454e+02  -1.99077091e+01  -2.30702705e+01\n",
      "   -1.82781239e+01]\n",
      " [ -7.54507494e+00  -6.50036545e+01  -6.28632164e+00  -4.02389079e-01\n",
      "   -1.08189918e-02]\n",
      " [ -2.83696628e+00   0.00000000e+00  -2.49587297e+00  -1.13631201e+00\n",
      "   -1.17951384e+01]\n",
      " [ -4.67132912e+01  -9.42796783e+01  -1.91201077e+01  -1.46994944e+01\n",
      "   -9.69219494e+00]\n",
      " [ -1.10600939e+01  -9.10002518e+01  -1.04452059e-01  -2.24838829e+01\n",
      "   -7.43489122e+00]\n",
      " [ -6.09690063e-02  -6.65967712e+01  -4.57201195e+00  -2.98846054e+01\n",
      "   -4.59525347e+00]]\n"
     ]
    }
   ],
   "source": [
    "print(model.test(x, posteriors)[0])\n",
    "print(\"\")\n",
    "print(model.test(x, posteriors)[1])"
   ]
  },
  {
   "cell_type": "code",
   "execution_count": 167,
   "metadata": {
    "collapsed": false
   },
   "outputs": [
    {
     "name": "stdout",
     "output_type": "stream",
     "text": [
      "[array([[ -4.25463021e-01,  -1.74731529e+00,  -3.40455741e-01, ...,\n",
      "          8.40714455e-01,   1.16684544e+00,  -1.74363041e+00],\n",
      "       [ -1.73396075e+00,  -3.52505970e+00,  -1.80466461e+00, ...,\n",
      "          1.56047273e+00,   2.06868815e+00,  -2.42936778e+00],\n",
      "       [ -5.50276101e-01,   5.80202416e-02,  -1.51815784e+00, ...,\n",
      "          9.53709185e-01,   2.68967301e-01,   3.69657218e-01],\n",
      "       ..., \n",
      "       [ -9.68661189e-01,   5.42034388e-01,   1.15126371e+00, ...,\n",
      "         -8.52006793e-01,  -6.70304239e-01,   4.77848887e-01],\n",
      "       [  3.67000699e-01,   4.21549737e-01,   8.97033513e-03, ...,\n",
      "          2.57458866e-01,   1.96427971e-01,   7.65285119e-02],\n",
      "       [ -4.27518426e-05,  -1.21131372e-02,   3.77787501e-02, ...,\n",
      "         -8.82423893e-02,   4.54101712e-03,   5.87681048e-02]], dtype=float32), array([[ -1.84710197e+01,  -7.45869827e+01,  -6.41599178e+00,\n",
      "         -2.60746651e+01,  -1.36473475e+01],\n",
      "       [ -3.23260193e+01,  -8.30433655e+01,  -8.10556221e+00,\n",
      "         -3.15460014e+01,  -2.47860146e+01],\n",
      "       [ -4.28678932e+01,  -1.31970825e+02,  -5.94393015e+00,\n",
      "         -4.57771158e+00,  -1.53612356e+01],\n",
      "       [ -3.80866966e+01,  -1.26840454e+02,  -1.99077091e+01,\n",
      "         -2.30702705e+01,  -1.82781239e+01],\n",
      "       [ -7.54507494e+00,  -6.50036545e+01,  -6.28632164e+00,\n",
      "         -4.02389079e-01,  -1.08189918e-02],\n",
      "       [ -2.83696628e+00,   0.00000000e+00,  -2.49587297e+00,\n",
      "         -1.13631201e+00,  -1.17951384e+01],\n",
      "       [ -4.67132912e+01,  -9.42796783e+01,  -1.91201077e+01,\n",
      "         -1.46994944e+01,  -9.69219494e+00],\n",
      "       [ -1.10600939e+01,  -9.10002518e+01,  -1.04452059e-01,\n",
      "         -2.24838829e+01,  -7.43489122e+00],\n",
      "       [ -6.09690063e-02,  -6.65967712e+01,  -4.57201195e+00,\n",
      "         -2.98846054e+01,  -4.59525347e+00]], dtype=float32)]\n"
     ]
    }
   ],
   "source": [
    "posteriors = np.asarray([\n",
    "    [ 0.65, -0.32,  0.44, -0.04, -0.36, -0.81,  0.38, -0.84, -0.93],\n",
    "    [-0.41, -0.05,  0.96,  0.71,  0.08,  0.85,  0.12,  0.43, -0.08],\n",
    "    [-0.45,  0.04, -0.94,  0.41,  0.04, -0.3 ,  0.89, -0.09, -0.42],\n",
    "    [-0.19,  0.32,  0.  ,  0.02, -0.66, -0.41,  0.11, -0.05,  0.76],\n",
    "    [-0.32,  0.86,  0.09, -0.41, -0.57, -0.55, -0.85, -0.09, -0.27]\n",
    "]).astype(config.floatX)\n",
    "\n",
    "print(model.test(x, posteriors))"
   ]
  },
  {
   "cell_type": "code",
   "execution_count": null,
   "metadata": {
    "collapsed": true
   },
   "outputs": [],
   "source": []
  },
  {
   "cell_type": "code",
   "execution_count": null,
   "metadata": {
    "collapsed": true
   },
   "outputs": [],
   "source": []
  },
  {
   "cell_type": "code",
   "execution_count": 108,
   "metadata": {
    "collapsed": false
   },
   "outputs": [
    {
     "data": {
      "text/plain": [
       "array([[ 0.65, -0.32,  0.44, -0.04, -0.36, -0.81,  0.38, -0.84, -0.93],\n",
       "       [-0.41, -0.05,  0.96,  0.71,  0.08,  0.85,  0.12,  0.43, -0.08],\n",
       "       [-0.45,  0.04, -0.94,  0.41,  0.04, -0.3 ,  0.89, -0.09, -0.42],\n",
       "       [-0.19,  0.32,  0.  ,  0.02, -0.66, -0.41,  0.11, -0.05,  0.76],\n",
       "       [-0.32,  0.86,  0.09, -0.41, -0.57, -0.55, -0.85, -0.09, -0.27]])"
      ]
     },
     "execution_count": 108,
     "metadata": {},
     "output_type": "execute_result"
    }
   ],
   "source": [
    "np.random.randint(low=-100, high=100, size=(5, 9))/100"
   ]
  },
  {
   "cell_type": "code",
   "execution_count": null,
   "metadata": {
    "collapsed": true
   },
   "outputs": [],
   "source": []
  },
  {
   "cell_type": "code",
   "execution_count": null,
   "metadata": {
    "collapsed": true
   },
   "outputs": [],
   "source": []
  },
  {
   "cell_type": "code",
   "execution_count": null,
   "metadata": {
    "collapsed": true
   },
   "outputs": [],
   "source": []
  },
  {
   "cell_type": "code",
   "execution_count": null,
   "metadata": {
    "collapsed": true
   },
   "outputs": [],
   "source": []
  },
  {
   "cell_type": "code",
   "execution_count": null,
   "metadata": {
    "collapsed": true
   },
   "outputs": [],
   "source": []
  }
 ],
 "metadata": {
  "kernelspec": {
   "display_name": "Python 3",
   "language": "python",
   "name": "python3"
  },
  "language_info": {
   "codemirror_mode": {
    "name": "ipython",
    "version": 3
   },
   "file_extension": ".py",
   "mimetype": "text/x-python",
   "name": "python",
   "nbconvert_exporter": "python",
   "pygments_lexer": "ipython3",
   "version": "3.6.0"
  }
 },
 "nbformat": 4,
 "nbformat_minor": 2
}
