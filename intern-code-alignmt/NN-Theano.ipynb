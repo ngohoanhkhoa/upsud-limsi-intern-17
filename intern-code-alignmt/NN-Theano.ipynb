{
 "cells": [
  {
   "cell_type": "code",
   "execution_count": 2,
   "metadata": {
    "collapsed": true
   },
   "outputs": [],
   "source": [
    "import numpy as np\n",
    "import theano.tensor as T\n",
    "from theano import function\n",
    "import theano\n",
    "\n",
    "from theano import config\n",
    "config.compute_test_value = 'raise'\n",
    "\n",
    "# updates = OrderedDict()"
   ]
  },
  {
   "cell_type": "code",
   "execution_count": null,
   "metadata": {
    "collapsed": true
   },
   "outputs": [],
   "source": [
    "\n",
    "class Simple_Model:\n",
    "    \"\"\" Simple emission model without CNN\n",
    "    word embedding layer -> ReLU layer -> softmax layer\n",
    "    \"\"\"\n",
    "    \n",
    "    def __init__(self, input_size, output_size):\n",
    "\n",
    "        # word embedding layer\n",
    "        x_input = T.vector().astype(config.floatX)\n",
    "        x_input_w = T.matrix().astype(config.floatX)\n",
    "        x_input_b = T.vector().astype(config.floatX)\n",
    "        word_embedding_layer = T.dot(x_input_w, x_input) + x_input_b\n",
    "        # ReLU layer\n",
    "        relu_layer = T.nnet.relu(word_embedding_layer)\n",
    "        # Softmax layer\n",
    "        softmax_layer = T.nnet.softmax(relu_layer)\n",
    "        \n",
    "        self.model = theano.function(x_input, outputs=softmax_layer)\n",
    "        \n",
    "        self.x_input_w = np.random.random((x_input.shape()[0], input_size)).astype(config.floatX)\n",
    "        self.x_input_b = np.random.random(input_size).astype(config.floatX)\n",
    "    \n",
    "    def "
   ]
  },
  {
   "cell_type": "code",
   "execution_count": null,
   "metadata": {
    "collapsed": true
   },
   "outputs": [],
   "source": [
    "input_size = 512"
   ]
  },
  {
   "cell_type": "code",
   "execution_count": null,
   "metadata": {
    "collapsed": true
   },
   "outputs": [],
   "source": []
  }
 ],
 "metadata": {
  "kernelspec": {
   "display_name": "Python 3",
   "language": "python",
   "name": "python3"
  },
  "language_info": {
   "codemirror_mode": {
    "name": "ipython",
    "version": 3
   },
   "file_extension": ".py",
   "mimetype": "text/x-python",
   "name": "python",
   "nbconvert_exporter": "python",
   "pygments_lexer": "ipython3",
   "version": "3.6.0"
  }
 },
 "nbformat": 4,
 "nbformat_minor": 2
}
