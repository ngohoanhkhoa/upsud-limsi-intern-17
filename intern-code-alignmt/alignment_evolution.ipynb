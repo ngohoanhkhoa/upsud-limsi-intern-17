{
 "cells": [
  {
   "cell_type": "code",
   "execution_count": 3,
   "metadata": {
    "collapsed": false
   },
   "outputs": [
    {
     "name": "stderr",
     "output_type": "stream",
     "text": [
      "/people/vu/anaconda3/lib/python3.6/site-packages/sklearn/cross_validation.py:44: DeprecationWarning: This module was deprecated in version 0.18 in favor of the model_selection module into which all the refactored classes and functions are moved. Also note that the interface of the new CV iterators are different from that of this module. This module will be removed in 0.20.\n",
      "  \"This module will be removed in 0.20.\", DeprecationWarning)\n"
     ]
    }
   ],
   "source": [
    "from sklearn.datasets import make_classification\n",
    "from sklearn.cross_validation import StratifiedShuffleSplit\n",
    "from sklearn.metrics import accuracy_score, f1_score, precision_score, recall_score, classification_report, confusion_matrix\n",
    "\n",
    "import numpy as np"
   ]
  },
  {
   "cell_type": "code",
   "execution_count": null,
   "metadata": {
    "collapsed": true
   },
   "outputs": [],
   "source": [
    "# We use a utility to generate artificial classification data.\n",
    "X, y = make_classification(n_samples=100, n_informative=10, n_classes=3)\n",
    "sss = StratifiedShuffleSplit(y, n_iter=1, test_size=0.5, random_state=0)\n",
    "for train_idx, test_idx in sss:\n",
    "    X_train, X_test, y_train, y_test = X[train_idx], X[test_idx], y[train_idx], y[test_idx]\n",
    "    svc.fit(X_train, y_train)\n",
    "    y_pred = svc.predict(X_test)\n",
    "    print(f1_score(y_test, y_pred, average=\"macro\"))\n",
    "    print(precision_score(y_test, y_pred, average=\"macro\"))\n",
    "    print(recall_score(y_test, y_pred, average=\"macro\"))    "
   ]
  },
  {
   "cell_type": "code",
   "execution_count": 81,
   "metadata": {
    "collapsed": true
   },
   "outputs": [],
   "source": [
    "def calculate_AER(S, P, A):\n",
    "    \n",
    "    s_a = len(list(set(S).intersection(A)))\n",
    "    print (\"s_a\", s_a)\n",
    "    p_a = len(list(set(P).intersection(A))) + s_a\n",
    "    print (\"p_a\", p_a)\n",
    "    aer = (s_a + p_a) / (len(S) + len(A))\n",
    "    print (\"aer\", 1-aer)\n",
    "    \n",
    "    return 1. - aer \n",
    "    \n",
    "def write_file(strs, file_name):\n",
    "    alignment_test = open(file_name,\"w\") \n",
    "    for s in english_sentences:\n",
    "        alignment_test.write(s + \"\\n\") \n",
    "\n",
    "    alignment_test.close()"
   ]
  },
  {
   "cell_type": "code",
   "execution_count": 35,
   "metadata": {
    "collapsed": false
   },
   "outputs": [
    {
     "name": "stdout",
     "output_type": "stream",
     "text": [
      "s_a 1\n",
      "p_a 1\n",
      "aer 0.4\n"
     ]
    },
    {
     "data": {
      "text/plain": [
       "0.6"
      ]
     },
     "execution_count": 35,
     "metadata": {},
     "output_type": "execute_result"
    }
   ],
   "source": [
    "S = ['3-2', '1-1']\n",
    "P = ['2-2']\n",
    "A = ['1-2', '1-1', '3-4']\n",
    "calculate_AER(S, P, A)"
   ]
  },
  {
   "cell_type": "code",
   "execution_count": null,
   "metadata": {
    "collapsed": true
   },
   "outputs": [],
   "source": [
    "<s id=\"celex_21990A0714-s1\">\n",
    "  <english>Relationship of ICOs and ICBs with the Fund</english>\n",
    "  <czech>Vztah mezinárodních organizací pro suroviny a mezinárodních subjektů pro suroviny k fondu</czech>\n",
    "  <sure>1-1 3-2 3-3 3-4 3-5 4-6 5-7 5-8 5-9 5-10 8-12</sure>\n",
    "  <possible>2-3 6-11 7-12</possible>\n",
    "  <phrasal></phrasal>\n",
    "</s>"
   ]
  },
  {
   "cell_type": "code",
   "execution_count": 66,
   "metadata": {
    "collapsed": false
   },
   "outputs": [],
   "source": [
    "import xml.etree.ElementTree as ET\n",
    "from xml.dom import minidom\n",
    "from codecs import open\n",
    "\n",
    "docXml = './celex_21990A0714.m.wa'\n",
    "root = minidom.parse(docXml).getElementsByTagName(\"sentences\")\n",
    "\n",
    "english_sentences = []\n",
    "czech_sentences = []\n",
    "sure = []\n",
    "possible = []\n",
    "\n",
    "for sent in root[0].childNodes :\n",
    "    \n",
    "    #on retire les noeuds vides\n",
    "    if sent.localName == None : continue\n",
    "\n",
    "    sentID = sent.getAttribute('id')\n",
    "\n",
    "    #pour chaque noeud de phrase on parcourt les tokens de la phrase, on regarde leur longueur et on calcule\n",
    "    #le numero du premier charactère ... sera utile pour la suite pour avoir l'ID html du charactère correspondant\n",
    "    tokenNodes = sent.childNodes\n",
    "    \n",
    "    english_sentences.append(tokenNodes[1].childNodes[0].data)\n",
    "    czech_sentences.append(tokenNodes[3].childNodes[0].data)\n",
    "    sure.append(tokenNodes[5].childNodes[0].data)\n",
    "    try:\n",
    "        possible.append(tokenNodes[7].childNodes[0].data)\n",
    "    except Exception: \n",
    "        possible.append('')\n",
    "\n",
    "        \n",
    "write_file(english_sentences, \"alignment_test.en\")\n",
    "write_file(czech_sentences, \"alignment_test.cz\")"
   ]
  },
  {
   "cell_type": "code",
   "execution_count": 87,
   "metadata": {
    "collapsed": false
   },
   "outputs": [
    {
     "name": "stdout",
     "output_type": "stream",
     "text": [
      "s_a 2\n",
      "p_a 2\n",
      "aer 0.7894736842105263\n",
      "s_a 8\n",
      "p_a 14\n",
      "aer 0.7215189873417722\n",
      "s_a 2\n",
      "p_a 4\n",
      "aer 0.8571428571428572\n",
      "s_a 3\n",
      "p_a 3\n",
      "aer 0.9411764705882353\n",
      "s_a 4\n",
      "p_a 7\n",
      "aer 0.6764705882352942\n",
      "s_a 0\n",
      "p_a 1\n",
      "aer 0.9818181818181818\n",
      "s_a 2\n",
      "p_a 2\n",
      "aer 0.9069767441860466\n",
      "s_a 2\n",
      "p_a 6\n",
      "aer 0.8431372549019608\n",
      "s_a 1\n",
      "p_a 3\n",
      "aer 0.9540229885057472\n",
      "s_a 0\n",
      "p_a 3\n",
      "aer 0.9285714285714286\n",
      "s_a 1\n",
      "p_a 1\n",
      "aer 0.9696969696969697\n",
      "s_a 0\n",
      "p_a 1\n",
      "aer 0.9444444444444444\n",
      "s_a 0\n",
      "p_a 0\n",
      "aer 1.0\n",
      "s_a 2\n",
      "p_a 4\n",
      "aer 0.9310344827586207\n",
      "s_a 0\n",
      "p_a 0\n",
      "aer 1.0\n",
      "s_a 1\n",
      "p_a 1\n",
      "aer 0.9130434782608696\n",
      "s_a 2\n",
      "p_a 3\n",
      "aer 0.7916666666666666\n",
      "s_a 8\n",
      "p_a 8\n",
      "aer 0.7192982456140351\n",
      "s_a 0\n",
      "p_a 1\n",
      "aer 0.9545454545454546\n",
      "s_a 0\n",
      "p_a 1\n",
      "aer 0.9821428571428571\n",
      "s_a 0\n",
      "p_a 1\n",
      "aer 0.9285714285714286\n",
      "s_a 0\n",
      "p_a 0\n",
      "aer 1.0\n",
      "s_a 0\n",
      "p_a 1\n",
      "aer 0.9666666666666667\n",
      "s_a 0\n",
      "p_a 0\n",
      "aer 1.0\n",
      "s_a 0\n",
      "p_a 0\n",
      "aer 1.0\n",
      "s_a 2\n",
      "p_a 2\n",
      "aer 0.0\n",
      "s_a 0\n",
      "p_a 1\n",
      "aer 0.9230769230769231\n",
      "s_a 3\n",
      "p_a 4\n",
      "aer 0.9146341463414634\n",
      "s_a 3\n",
      "p_a 4\n",
      "aer 0.7878787878787878\n",
      "s_a 0\n",
      "p_a 1\n",
      "aer 0.9473684210526316\n",
      "s_a 0\n",
      "p_a 0\n",
      "aer 1.0\n",
      "s_a 0\n",
      "p_a 0\n",
      "aer 1.0\n",
      "s_a 1\n",
      "p_a 1\n",
      "aer 0.9428571428571428\n",
      "s_a 1\n",
      "p_a 1\n",
      "aer 0.8333333333333334\n",
      "s_a 0\n",
      "p_a 0\n",
      "aer 1.0\n",
      "s_a 0\n",
      "p_a 0\n",
      "aer 1.0\n",
      "s_a 0\n",
      "p_a 1\n",
      "aer 0.9666666666666667\n",
      "s_a 2\n",
      "p_a 3\n",
      "aer 0.9523809523809523\n",
      "s_a 1\n",
      "p_a 2\n",
      "aer 0.4\n",
      "s_a 5\n",
      "p_a 6\n",
      "aer 0.65625\n",
      "s_a 0\n",
      "p_a 0\n",
      "aer 1.0\n",
      "s_a 0\n",
      "p_a 0\n",
      "aer 1.0\n",
      "s_a 6\n",
      "p_a 7\n",
      "aer 0.4347826086956522\n",
      "s_a 0\n",
      "p_a 0\n",
      "aer 1.0\n",
      "s_a 0\n",
      "p_a 0\n",
      "aer 1.0\n",
      "s_a 7\n",
      "p_a 8\n",
      "aer 0.8192771084337349\n",
      "s_a 1\n",
      "p_a 1\n",
      "aer 0.9545454545454546\n",
      "s_a 1\n",
      "p_a 2\n",
      "aer 0.4\n",
      "s_a 3\n",
      "p_a 5\n",
      "aer 0.6799999999999999\n",
      "s_a 0\n",
      "p_a 0\n",
      "aer 1.0\n",
      "0.8662894285026559\n"
     ]
    }
   ],
   "source": [
    "result = open(\"corpus.en2cz.gdfa.ali\", \"r\")\n",
    "aer = 0.\n",
    "\n",
    "for line, S_, P_ in zip(result, sure, possible):\n",
    "    A = line.strip().split(\" \")\n",
    "    for number,i in zip(A, range(len(A))):\n",
    "        n1 = int(number.split(\"-\")[0]) + 1 \n",
    "        n2 = int(number.split(\"-\")[1]) + 1 \n",
    "        number = str(n1) + \"-\" + str(n2)\n",
    "        A[i] = number\n",
    "    S = S_.strip().split(\" \")\n",
    "    P = P_.strip().split(\" \")\n",
    "    aer += calculate_AER(S, P, A)\n",
    "\n",
    "print(aer/len(sure))\n",
    "result.close()"
   ]
  },
  {
   "cell_type": "code",
   "execution_count": null,
   "metadata": {
    "collapsed": true
   },
   "outputs": [],
   "source": []
  }
 ],
 "metadata": {
  "kernelspec": {
   "display_name": "Python 3",
   "language": "python",
   "name": "python3"
  },
  "language_info": {
   "codemirror_mode": {
    "name": "ipython",
    "version": 3
   },
   "file_extension": ".py",
   "mimetype": "text/x-python",
   "name": "python",
   "nbconvert_exporter": "python",
   "pygments_lexer": "ipython3",
   "version": "3.6.0"
  }
 },
 "nbformat": 4,
 "nbformat_minor": 2
}
