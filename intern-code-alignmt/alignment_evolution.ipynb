{
 "cells": [
  {
   "cell_type": "code",
   "execution_count": 1,
   "metadata": {
    "collapsed": false
   },
   "outputs": [],
   "source": [
    "# from sklearn.datasets import make_classification\n",
    "# from sklearn.cross_validation import StratifiedShuffleSplit\n",
    "# from sklearn.metrics import accuracy_score, f1_score, precision_score, recall_score, classification_report, confusion_matrix\n",
    "\n",
    "import numpy as np"
   ]
  },
  {
   "cell_type": "code",
   "execution_count": null,
   "metadata": {
    "collapsed": true
   },
   "outputs": [],
   "source": [
    "# We use a utility to generate artificial classification data.\n",
    "X, y = make_classification(n_samples=100, n_informative=10, n_classes=3)\n",
    "sss = StratifiedShuffleSplit(y, n_iter=1, test_size=0.5, random_state=0)\n",
    "for train_idx, test_idx in sss:\n",
    "    X_train, X_test, y_train, y_test = X[train_idx], X[test_idx], y[train_idx], y[test_idx]\n",
    "    svc.fit(X_train, y_train)\n",
    "    y_pred = svc.predict(X_test)\n",
    "    print(f1_score(y_test, y_pred, average=\"macro\"))\n",
    "    print(precision_score(y_test, y_pred, average=\"macro\"))\n",
    "    print(recall_score(y_test, y_pred, average=\"macro\"))    "
   ]
  },
  {
   "cell_type": "code",
   "execution_count": 30,
   "metadata": {
    "collapsed": true
   },
   "outputs": [],
   "source": [
    "def calculate_AER(S, P, A):\n",
    "    S, P, A = np.array(S), np.array(P), np.array(A)\n",
    "    s_a, p_a, len_s, len_a = 0, 0, 0, 0\n",
    "    for s, p, a in zip(S, P, A):\n",
    "        s_a += len(list(set(s).intersection(a)))\n",
    "        p_a += len(list(set(p).intersection(a)))\n",
    "        len_s += len(s[s != \"\"])\n",
    "        len_a += len(a[a != \"\"])\n",
    "    print (\"s_a\", s_a)\n",
    "    p_a += s_a\n",
    "    print (\"p_a\", p_a)\n",
    "    aer = (s_a + p_a) / (len_s + len_a)\n",
    "    print (\"aer\", 1.-aer)\n",
    "    \n",
    "    return 1. - aer \n",
    "\n",
    "\n",
    "def calculate_one_AER(S, P, A):\n",
    "    S, P, A = np.array(S), np.array(P), np.array(A)\n",
    "    s_a = len(list(set(S).intersection(A)))\n",
    "    print (\"s_a\", s_a)\n",
    "    p_a = len(list(set(P).intersection(A))) + s_a\n",
    "    print (\"p_a\", p_a)\n",
    "    aer = (s_a + p_a) / (len(S[S != \"\"]) + len(A[A != \"\"]))\n",
    "    print (\"aer\", 1.-aer)\n",
    "    \n",
    "    return 1. - aer \n",
    "    \n",
    "def write_file(strs, file_name):\n",
    "    alignment_test = open(file_name,\"w\", encoding='utf8') \n",
    "    for s in strs:\n",
    "        alignment_test.write(s + \"\\n\") \n",
    "    alignment_test.close()"
   ]
  },
  {
   "cell_type": "code",
   "execution_count": 31,
   "metadata": {
    "collapsed": false
   },
   "outputs": [
    {
     "name": "stdout",
     "output_type": "stream",
     "text": [
      "s_a 2\n",
      "p_a 2\n",
      "aer 0.19999999999999996\n"
     ]
    },
    {
     "data": {
      "text/plain": [
       "0.19999999999999996"
      ]
     },
     "execution_count": 31,
     "metadata": {},
     "output_type": "execute_result"
    }
   ],
   "source": [
    "S = [['3-2', '1-1']]\n",
    "P = [['2-2']]\n",
    "A = [['1-2', '1-1', '3-2']]\n",
    "calculate_AER(S, P, A)"
   ]
  },
  {
   "cell_type": "code",
   "execution_count": 1,
   "metadata": {
    "collapsed": true
   },
   "outputs": [],
   "source": []
  },
  {
   "cell_type": "code",
   "execution_count": 17,
   "metadata": {
    "collapsed": false
   },
   "outputs": [],
   "source": [
    "import xml.etree.ElementTree as ET\n",
    "from xml.dom import minidom\n",
    "from codecs import open\n",
    "\n",
    "docXml = './celex_21990A0714.m.wa'\n",
    "root = minidom.parse(docXml).getElementsByTagName(\"sentences\")\n",
    "\n",
    "english_sentences = []\n",
    "czech_sentences = []\n",
    "sure = []\n",
    "possible = []\n",
    "\n",
    "for sent in root[0].childNodes :\n",
    "    \n",
    "    #on retire les noeuds vides\n",
    "    if sent.localName == None : continue\n",
    "\n",
    "    sentID = sent.getAttribute('id')\n",
    "\n",
    "    #pour chaque noeud de phrase on parcourt les tokens de la phrase, on regarde leur longueur et on calcule\n",
    "    #le numero du premier charactère ... sera utile pour la suite pour avoir l'ID html du charactère correspondant\n",
    "    tokenNodes = sent.childNodes\n",
    "    \n",
    "    english_sentences.append(tokenNodes[1].childNodes[0].data)\n",
    "    czech_sentences.append(tokenNodes[3].childNodes[0].data)\n",
    "    sure.append(tokenNodes[5].childNodes[0].data)\n",
    "    try:\n",
    "        possible.append(tokenNodes[7].childNodes[0].data)\n",
    "    except Exception: \n",
    "        possible.append('')\n",
    "\n",
    "        \n",
    "write_file(english_sentences, \"alignment_test.en\")\n",
    "write_file(czech_sentences, \"alignment_test.cz\")"
   ]
  },
  {
   "cell_type": "code",
   "execution_count": 19,
   "metadata": {
    "collapsed": false,
    "scrolled": true
   },
   "outputs": [
    {
     "name": "stdout",
     "output_type": "stream",
     "text": [
      "['1-1', '3-2', '3-3', '3-4', '3-5', '4-6', '5-7', '5-8', '5-9', '5-10', '8-12'] ['2-3', '6-11', '7-12'] ['1-1', '2-2', '3-3', '4-4', '5-5', '6-6', '7-7', '8-8']\n",
      "['2-1', '5-4', '7-2', '8-3', '9-5', '10-5', '11-6', '12-7', '14-8', '14-9', '14-10', '14-11', '15-15', '19-18', '21-19', '21-20', '21-21', '21-22', '21-23', '21-24', '22-25', '25-26', '26-27', '28-28', '29-29', '30-30', '31-31', '32-32', '33-33', '34-34', '35-35', '37-36', '39-39', '40-37', '41-40'] ['1-1', '3-4', '4-4', '6-4', '13-9', '15-12', '15-13', '15-14', '16-16', '16-17', '18-18', '20-20', '24-28', '36-36', '38-37', '39-38'] ['1-1', '2-2', '3-3', '4-4', '5-5', '6-6', '7-7', '8-8', '9-9', '10-10', '11-11', '12-12', '13-13', '14-14', '15-15', '16-16', '17-17', '18-18', '19-19', '20-20', '21-21', '22-22', '23-23', '24-24', '25-25', '26-26', '27-27', '27-29', '28-28', '29-27', '30-32', '31-32', '32-30', '32-31', '32-32', '33-33', '34-34', '35-35', '36-36', '37-37', '38-38', '39-39', '40-40', '41-41']\n",
      "['2-3', '3-1', '4-4', '5-5', '5-6', '5-7', '6-8', '10-9', '11-10', '12-11', '13-12', '15-13', '25-23', '26-22', '27-24'] ['1-1', '2-2', '18-16', '22-21', '23-21', '24-22'] ['1-1', '2-2', '3-3', '4-4', '5-5', '6-6', '7-7', '8-8', '9-9', '10-10', '11-11', '12-12', '13-13', '14-14', '15-15', '16-16', '17-17', '18-18', '19-19', '20-20', '21-21', '22-22', '23-23', '24-24', '25-25', '26-26', '27-27']\n",
      "['2-1', '2-2', '2-3', '2-4', '3-5', '5-8', '10-9', '10-10', '10-14', '10-15', '11-17', '12-18', '14-19', '15-20', '16-25', '17-28', '18-29', '19-29', '20-30', '22-31', '23-32', '25-33', '28-34', '29-35', '31-36', '31-37', '32-39', '34-40', '34-41', '34-44', '34-45', '35-46', '36-47', '43-50', '46-51', '48-52', '49-54', '50-55', '51-53', '53-57', '54-58', '55-59', '56-56', '58-60'] ['1-2', '4-6', '4-7', '9-10', '10-11', '10-12', '10-13', '11-16', '19-27', '21-31', '24-33', '26-35', '27-35', '30-37', '32-38', '33-41', '34-42', '34-43', '42-48', '42-49', '45-51', '47-53', '52-57', '57-56'] ['1-1', '2-2', '3-3', '4-4', '5-5', '6-6', '7-7', '8-8', '9-9', '10-10', '11-11', '12-12', '13-13', '14-14', '15-15', '16-16', '17-17', '19-19', '20-20', '21-21', '22-22', '23-23', '24-24', '25-25', '26-26', '27-27', '28-28', '29-29', '30-30', '31-31', '32-32', '33-33', '33-35', '33-36', '34-34', '35-33', '36-33', '37-37', '39-39', '40-40', '40-42', '41-41', '42-40', '43-43', '44-44', '45-45', '45-46', '46-45', '47-47', '49-49', '51-51', '52-52', '53-53', '54-54', '55-55', '56-56', '57-57', '58-58']\n",
      "['1-1', '3-2', '5-3', '6-4', '8-15', '10-13', '11-7', '11-8', '11-11', '11-12', '16-16', '17-17', '19-18', '20-19'] ['2-2', '4-4', '8-14', '9-15', '11-9', '11-10', '12-6', '16-5', '18-18'] ['1-1', '2-2', '3-3', '4-4', '5-5', '6-6', '7-7', '8-8', '9-9', '10-10', '11-11', '12-12', '13-13', '14-14', '15-15', '16-16', '17-17', '18-18', '19-19', '20-20']\n",
      "['3-4', '4-2', '7-5', '10-6', '11-7', '14-8', '15-9', '16-10', '18-11', '20-13', '27-15', '28-14', '29-16', '30-17', '33-18', '34-19', '35-20'] ['1-2', '2-1', '3-3', '8-5', '9-7', '12-9', '13-9', '25-14', '26-14', '31-19', '32-19'] ['1-1', '2-2', '3-3', '4-4', '5-5', '6-6', '7-7', '8-8', '9-9', '9-10', '9-11', '10-9', '11-9', '12-12', '13-13', '14-14', '15-15', '16-16', '17-17', '18-18', '19-19', '19-20', '20-19', '21-21', '22-22', '23-23', '24-24', '25-25', '26-26', '27-27', '28-28', '29-29', '30-30', '31-31', '32-32', '33-33', '34-34', '35-35']\n",
      "['1-1', '2-2', '3-2', '8-5', '9-3', '10-6', '12-7', '13-8', '15-9', '16-10', '16-11', '16-12', '16-13', '18-16', '20-14', '22-19', '26-20'] ['6-3', '7-3', '8-4', '11-7', '14-11', '17-15', '19-14', '21-19'] ['1-1', '2-2', '3-3', '4-4', '5-5', '6-6', '7-7', '8-8', '9-9', '10-10', '11-11', '12-12', '13-13', '14-14', '15-15', '16-16', '17-17', '18-18', '19-19', '20-20', '21-21', '22-22', '23-23', '24-24', '25-25', '26-26']\n",
      "['2-3', '3-1', '5-5', '7-6', '8-7', '9-8', '10-9', '13-10', '14-11', '16-12', '17-13', '17-14', '17-15', '17-16', '18-17', '19-20', '22-22', '24-23', '25-24', '27-25', '28-26', '29-27'] ['1-1', '2-2', '4-5', '5-4', '6-7', '11-10', '12-10', '15-14', '20-21', '21-21', '23-24', '26-26'] ['1-1', '2-2', '3-3', '4-4', '5-5', '6-6', '7-7', '8-8', '9-9', '10-10', '11-11', '12-12', '13-13', '14-14', '15-15', '16-16', '17-17', '18-18', '19-19', '20-20', '21-21', '22-22', '23-23', '24-24', '25-25', '26-26', '27-27', '28-28', '29-29']\n",
      "['2-1', '3-2', '3-3', '3-4', '3-5', '5-6', '6-7', '8-8', '9-11', '11-14', '14-12', '15-13', '22-20', '23-21', '24-22', '26-23', '27-24', '29-25', '29-26', '30-28', '31-29', '34-31', '35-32', '36-33', '38-34', '39-35', '41-36', '42-37', '43-38', '44-39', '45-40', '47-41', '48-42'] ['1-3', '4-6', '7-8', '10-14', '20-19', '25-24', '28-26', '30-27', '33-30', '37-34', '40-37', '46-41'] ['1-1', '2-2', '3-3', '4-4', '5-5', '6-6', '7-7', '7-8', '8-7', '9-9', '10-10', '11-11', '12-13', '13-12', '13-13', '14-14', '15-15', '17-19', '18-18', '19-17', '19-19', '19-20', '20-19', '21-21', '21-22', '22-21', '23-23', '24-24', '25-25', '26-26', '27-27', '28-28', '29-29', '30-30', '31-31', '32-32', '33-33', '34-34', '34-36', '35-35', '36-34', '37-37', '38-39', '39-38', '39-39', '40-40', '41-41', '42-42', '43-43', '44-44', '45-45', '46-46', '47-47', '48-48']\n",
      "['2-3', '3-1', '5-4', '8-5', '10-6', '11-7', '13-8', '14-9', '14-10', '14-11', '14-12', '15-13', '17-14', '18-15', '20-16', '24-18', '25-19'] ['1-1', '2-2', '4-4', '6-4', '7-5', '9-6', '12-10', '16-14', '21-18', '22-17'] ['1-1', '2-2', '3-3', '4-4', '5-5', '6-6', '7-7', '8-8', '9-9', '10-10', '11-11', '12-12', '13-13', '14-14', '15-15', '16-16', '17-17', '18-18', '19-19', '20-20', '21-21', '22-22', '23-23', '24-24', '25-25']\n",
      "['2-24', '3-25', '3-26', '3-27', '3-28', '4-23', '6-1', '8-5', '9-3', '11-6', '12-7', '15-21', '18-9', '19-14', '20-10', '20-11', '20-12', '20-13', '23-16', '24-17', '27-30', '29-31', '30-32', '31-33', '34-34', '37-36'] ['1-26', '7-3', '8-4', '10-2', '14-21', '22-17', '25-22', '26-29', '28-31', '32-35', '33-35', '36-35'] ['1-1', '2-2', '3-3', '4-4', '5-5', '6-6', '7-7', '8-8', '9-9', '11-11', '12-12', '13-13', '14-14', '14-15', '15-14', '16-16', '17-17', '18-18', '19-19', '20-20', '21-22', '22-21', '22-22', '22-23', '23-22', '24-24', '25-25', '26-28', '27-27', '28-26', '28-28', '29-29', '30-30', '31-31', '32-32', '33-33', '34-34', '35-35', '36-36', '37-37']\n",
      "['2-1', '4-2', '5-2', '6-3', '7-4', '8-6', '9-5', '10-7'] ['1-1', '3-2'] ['1-1', '2-2', '3-3', '4-4', '5-5', '6-6', '7-7', '8-8', '9-9', '10-10']\n",
      "['5-1', '6-2', '7-3', '8-5', '9-4', '10-6', '11-7', '11-8', '13-9', '14-11', '16-14', '18-15', '20-16', '22-17'] ['12-8', '13-10', '15-14', '17-14', '19-16', '21-16'] ['1-1', '2-2', '3-3', '4-4', '5-5', '6-6', '7-7', '8-8', '9-9', '10-10', '11-11', '12-12', '13-13', '14-14', '15-15', '16-16', '17-17', '18-18', '19-19', '20-20', '21-21', '22-22']\n",
      "['1-1', '3-2', '6-3', '7-4', '10-5', '11-6', '17-8', '18-9', '19-12', '20-10', '22-13', '23-14', '23-15', '23-16', '23-17', '24-18', '26-20', '27-21', '30-19', '34-23', '34-24', '34-25', '34-26', '36-27', '36-28', '37-30', '39-31', '41-32', '42-33', '43-33', '44-34', '46-36', '47-37'] ['2-2', '4-4', '5-4', '9-6', '12-8', '19-11', '21-13', '33-24', '35-28', '37-29', '38-31', '40-32', '45-35'] ['1-1', '2-2', '2-3', '3-2', '4-4', '5-5', '6-6', '7-7', '8-8', '9-9', '10-10', '11-11', '12-12', '13-13', '14-14', '15-15', '16-16', '16-17', '16-18', '17-16', '18-16', '19-19', '20-21', '21-20', '21-21', '21-22', '22-21', '23-23', '24-24', '24-25', '25-24', '26-26', '27-27', '28-28', '29-29', '30-30', '31-31', '32-32', '33-33', '34-34', '35-35', '36-36', '37-37', '38-38', '38-39', '39-38', '40-40', '41-41', '42-42', '43-43', '44-44', '45-45', '46-46', '47-47']\n",
      "['1-2', '3-1', '4-3', '5-4'] ['2-1'] ['1-1', '2-2', '3-3', '4-4', '5-5']\n",
      "['2-2', '4-1', '7-3', '9-4', '11-5', '12-6', '14-8', '15-9'] ['1-2', '3-1', '5-3', '6-3', '8-4', '10-5', '13-7'] ['1-1', '2-2', '3-3', '4-4', '5-5', '6-6', '7-7', '8-8', '9-9', '10-10', '11-11', '12-12', '13-13', '14-14', '15-15']\n",
      "['2-1', '4-2', '6-5', '7-6', '9-9', '10-10', '13-3', '14-4', '15-11'] ['1-1', '3-2'] ['1-1', '2-2', '3-3', '4-4', '5-5', '6-6', '7-7', '8-8', '9-9', '10-10', '11-11', '12-12', '13-13', '14-14', '15-15']\n",
      "['1-1', '1-2', '5-3', '6-5', '8-8', '11-11', '12-12', '14-13', '15-14', '18-16', '20-18', '23-23', '25-25', '26-26', '27-27', '30-21', '32-28', '33-29', '34-30', '35-31', '36-32'] ['5-4', '7-8', '9-8', '14-15', '16-15', '17-15', '29-21'] ['1-1', '2-2', '3-3', '4-4', '5-5', '6-6', '7-7', '8-8', '9-9', '10-10', '11-11', '12-12', '13-13', '14-14', '15-15', '16-16', '17-17', '18-18', '19-19', '20-20', '21-21', '22-22', '23-23', '24-24', '25-25', '26-26', '27-27', '28-28', '29-29', '30-30', '31-31', '32-32', '33-33', '34-34', '35-35', '36-36']\n",
      "['2-1', '3-2', '4-3', '5-4', '6-5', '8-6', '10-7', '12-9', '13-10'] ['7-6', '9-9', '11-8'] ['1-1', '2-2', '3-3', '4-4', '5-5', '6-6', '7-7', '8-8', '9-9', '10-10', '11-11', '12-12', '13-13']\n",
      "['2-1', '3-2', '4-3', '6-4', '7-5', '8-6', '9-7', '10-8', '11-8', '13-9', '14-10', '15-11', '16-12', '17-13', '18-16', '19-14', '20-17', '21-18', '23-19', '25-20', '25-21', '25-22', '25-23', '26-24', '28-25', '29-26'] ['5-5', '12-10', '18-15', '22-19', '24-21', '27-25'] ['1-1', '2-2', '3-3', '4-4', '5-5', '6-6', '7-7', '8-8', '9-9', '10-10', '11-13', '12-12', '13-11', '13-13', '14-14', '15-15', '16-16', '17-17', '18-18', '19-19', '20-20', '21-21', '22-22', '23-23', '24-24', '25-25', '26-26', '27-27', '28-28', '29-29']\n",
      "['2-1', '3-2', '4-3', '6-4', '7-5', '8-6'] ['5-5'] ['1-1', '2-2', '3-3', '4-4', '5-5', '6-6', '7-7', '8-8']\n",
      "['2-1', '3-2', '4-3', '5-4'] [''] ['1-1', '2-2', '3-3', '4-4', '5-5']\n",
      "['2-1', '3-2', '7-5', '9-6', '11-7', '12-9', '14-12', '16-13', '18-14', '20-15'] ['4-3', '5-5', '6-4', '10-6', '11-8', '13-12', '15-12', '17-14', '19-14'] ['1-1', '2-2', '3-3', '4-4', '5-5', '6-6', '7-7', '8-8', '9-9', '10-10', '11-11', '12-12', '13-13', '14-14', '15-15', '16-16', '17-17', '18-18', '19-19', '20-20']\n",
      "['2-1', '3-2', '4-3', '5-4', '9-6', '10-7', '11-8', '12-9', '13-10', '14-11', '15-12', '19-14', '20-15', '21-16', '22-17', '23-17', '24-18', '28-19', '29-20', '31-21', '32-22', '33-23', '34-24'] ['6-5', '7-5', '8-5', '27-19', '30-20'] ['1-1', '2-2', '3-3', '4-4', '5-5', '6-6', '7-7', '8-8', '9-9', '9-10', '10-9', '11-11', '12-12', '13-13', '14-14', '15-15', '16-16', '17-17', '18-18', '18-19', '19-18', '20-20', '22-22', '23-23', '24-24', '25-25', '26-26', '27-27', '28-28', '29-29', '30-30', '31-31', '32-32', '33-33', '34-34']\n",
      "['2-1', '3-2', '5-3', '7-4', '9-5', '11-6', '12-7', '18-11', '20-10', '22-12', '23-13', '24-14', '25-15', '26-16', '27-17', '28-18', '29-19'] ['1-2', '4-3', '6-4', '8-5', '10-7', '17-11', '19-10'] ['1-1', '2-2', '3-3', '4-4', '5-5', '6-6', '7-7', '8-8', '8-9', '9-8', '10-10', '11-11', '12-12', '13-13', '14-14', '15-15', '16-16', '17-17', '18-18', '19-19', '20-20', '21-21', '22-22', '23-23', '24-24', '25-25', '26-26', '27-27', '28-28', '29-29']\n",
      "['1-1', '2-2'] [''] ['1-1', '2-2']\n",
      "['2-1', '5-2', '7-3', '7-4'] ['1-1', '3-2', '4-2', '6-4'] ['1-1', '2-2', '3-3', '4-4', '5-5', '6-6', '7-7', '8-8', '9-9']\n",
      "['2-1', '3-2', '4-4', '5-5', '6-6', '9-7', '10-8', '11-9', '12-9', '13-10', '16-13', '19-14', '21-19', '24-21', '26-22', '27-22', '28-22', '29-22', '30-24', '32-23', '33-18', '34-25', '36-27', '37-28', '39-30', '40-30', '41-30', '42-32', '44-31', '46-34'] ['7-7', '8-7', '14-13', '15-13', '18-14', '31-23', '35-28', '43-31', '45-33'] ['1-1', '2-2', '3-3', '4-4', '5-5', '6-6', '7-7', '8-8', '9-9', '10-10', '12-12', '13-13', '14-14', '15-15', '16-16', '17-17', '18-18', '19-19', '20-20', '22-22', '23-24', '24-23', '24-24', '25-25', '25-26', '25-27', '26-25', '27-25', '28-28', '29-31', '30-30', '31-29', '31-31', '32-32', '33-33', '34-34', '35-35', '36-38', '37-37', '38-36', '38-38', '38-39', '38-40', '39-38', '40-38', '41-43', '42-42', '43-41', '43-43', '44-44', '45-45', '46-46']\n",
      "['2-1', '3-2', '4-4', '5-5', '6-7', '7-6', '10-8', '11-9', '12-10', '13-11', '14-12', '15-14', '17-17', '19-18'] ['8-8', '9-8', '14-13', '16-17', '18-17'] ['1-1', '2-2', '3-3', '4-4', '5-5', '6-6', '7-7', '8-8', '9-9', '10-10', '11-11', '12-12', '13-13', '14-14', '15-15', '16-16', '17-17', '18-18', '19-19']\n",
      "['2-1', '5-2', '8-3', '11-5', '12-6', '13-7'] ['1-1', '3-2', '4-2', '6-3', '7-3', '9-5', '10-5', '11-4'] ['1-1', '2-2', '3-3', '4-4', '5-5', '6-6', '7-7', '8-8', '9-9', '10-10', '11-11', '12-12', '13-13']\n",
      "['2-1', '3-2', '4-3', '5-3', '6-4', '8-4', '9-5', '10-6'] ['7-4'] ['1-1', '2-2', '3-3', '4-4', '5-5', '6-6', '7-7', '8-8', '9-9', '10-10', '11-11']\n",
      "['2-1', '3-2', '4-3', '5-3', '7-5', '8-6'] ['6-4'] ['1-1', '2-2', '3-3', '4-4', '5-5', '6-6', '7-7', '8-8']\n",
      "['1-1', '3-2', '4-3', '5-4', '6-5', '11-7', '13-8', '14-9', '15-10', '16-11', '20-12', '21-13', '22-14'] ['2-4', '10-6'] ['1-1', '2-2', '3-3', '4-4', '5-5', '6-6', '7-7', '8-8', '9-9', '10-10', '11-11', '12-12', '13-13', '14-14', '15-15', '16-16', '17-17', '18-18', '19-19', '20-20', '21-21', '22-22']\n",
      "['2-2', '4-3', '5-4', '6-5', '7-6'] ['3-5'] ['1-1', '2-2', '3-3', '4-4', '5-5', '6-6', '7-7']\n",
      "['2-1', '3-2', '10-7', '13-9', '14-8', '15-10', '17-11', '20-12', '21-13', '22-14', '23-15', '24-16'] ['4-7', '9-7', '10-3', '11-8', '12-8', '16-11'] ['1-1', '2-2', '3-3', '4-4', '5-5', '6-6', '7-7', '8-8', '9-9', '10-10', '11-11', '12-12', '13-13', '14-14', '15-15', '16-16', '17-17', '18-18', '19-19', '20-20', '21-21', '22-22', '23-23', '24-24']\n",
      "['2-1', '3-2', '4-3', '5-4', '6-5', '9-7', '10-6', '11-8', '12-8', '13-8', '14-9', '15-10', '16-11'] ['7-6', '8-6'] ['1-1', '2-2', '3-3', '4-4', '5-5', '6-6', '7-7', '8-8', '9-9', '10-10', '11-11', '12-12', '13-13', '14-14', '15-15', '16-16']\n",
      "['2-1', '3-2', '6-3', '6-4', '7-5', '9-7', '10-6', '11-8', '13-9', '14-11', '16-14', '18-15'] ['4-4', '5-4', '8-7', '12-8', '13-10', '15-14', '17-14'] ['1-1', '2-2', '3-3', '4-4', '5-5', '6-6', '7-7', '8-8', '9-9', '10-10', '11-11', '12-12', '13-13', '14-14', '15-15', '16-16', '17-17', '18-18']\n",
      "['1-1', '3-3', '4-2', '7-5', '8-6', '10-7', '11-8', '13-9', '14-10', '15-11', '16-12', '18-13', '19-15', '21-18', '23-19', '24-20', '26-22', '28-23', '29-24', '30-25', '31-26', '33-27', '34-29', '36-32', '37-33', '38-34', '41-35', '42-36', '47-39', '48-40', '50-38', '52-41', '53-42', '54-44', '56-43', '59-46', '60-47', '61-48', '62-49', '63-50', '64-51'] ['2-2', '5-4', '6-4', '9-8', '12-11', '17-12', '18-14', '20-18', '22-18', '25-22', '27-25', '32-26', '33-28', '49-38', '51-41', '58-45'] ['1-1', '2-2', '3-3', '4-4', '6-6', '7-7', '8-8', '9-9', '9-10', '10-9', '11-11', '12-12', '13-13', '14-14', '15-15', '16-16', '17-17', '18-18', '19-19', '20-20', '22-22', '23-23', '25-25', '26-26', '27-27', '28-28', '29-29', '30-30', '31-31', '32-32', '33-33', '34-34', '35-35', '36-36', '37-37', '38-38', '39-39', '40-40', '41-41', '42-42', '43-43', '44-44', '45-45', '46-46', '47-47', '48-48', '49-49', '50-50', '51-51', '52-53', '53-52', '53-53', '53-54', '54-53', '55-55', '56-56', '57-57', '58-59', '59-58', '59-59', '60-60', '61-61', '63-63', '64-64']\n",
      "['1-1', '3-2'] ['2-2'] ['1-1', '2-2', '3-3']\n",
      "['1-1', '2-2', '3-3', '5-4', '6-5', '7-7', '9-10', '10-11', '12-12', '18-16', '19-17', '20-18'] ['4-3', '6-6', '11-12'] ['1-1', '2-2', '3-3', '4-4', '5-5', '6-6', '7-7', '8-8', '9-9', '10-10', '11-11', '12-12', '13-13', '14-14', '15-15', '16-16', '17-17', '18-18', '19-19', '20-20']\n",
      "['2-1', '3-2', '4-3', '5-4', '7-4', '8-5', '10-6'] ['6-4'] ['1-1', '2-2', '3-3', '4-4', '5-5', '6-6', '7-7', '8-8', '9-9', '10-10']\n",
      "['2-1', '3-2', '5-3', '6-4', '8-4', '9-5', '11-7', '12-8'] ['7-4', '10-6'] ['1-1', '2-2', '3-3', '4-4', '5-5', '6-6', '7-7', '8-8', '9-9', '10-10', '11-11', '12-12']\n",
      "['1-1', '2-2', '3-3', '5-4', '6-5', '7-7', '9-10', '10-11', '12-12', '13-13'] ['4-3', '6-6', '11-12'] ['1-1', '2-2', '3-3', '4-4', '5-5', '6-6', '7-7', '8-8', '9-9', '10-10', '11-11', '12-12', '13-13']\n",
      "['2-1', '3-2', '4-3', '5-4', '7-4', '8-5', '10-6'] ['6-4'] ['1-1', '2-2', '3-3', '4-4', '5-5', '6-6', '7-7', '8-8', '9-9', '10-10']\n",
      "['2-1', '3-2', '5-3', '6-4', '8-4', '9-5', '11-7', '14-8', '17-10', '18-9', '21-11', '22-12', '23-16', '25-16', '26-17', '29-18', '31-19', '33-21', '34-22', '35-23', '36-24', '37-25', '38-26', '42-27', '43-28', '44-29', '46-30', '47-31', '48-32'] ['7-4', '10-6', '12-8', '13-8', '15-9', '16-9', '19-12', '20-12', '24-16', '27-17', '28-18', '30-19', '45-29'] ['1-1', '2-2', '3-3', '4-4', '5-5', '6-6', '7-7', '8-8', '9-9', '10-10', '11-11', '12-12', '13-13', '14-15', '15-14', '15-15', '16-16', '17-17', '18-18', '19-19', '20-20', '21-21', '22-22', '23-23', '24-24', '25-25', '26-26', '27-27', '28-28', '29-29', '30-30', '31-31', '32-32', '33-33', '34-34', '35-35', '36-36', '37-37', '38-38', '39-39', '40-40', '41-41', '41-42', '42-41', '43-43', '44-44', '45-45', '46-46', '47-47', '48-48']\n",
      "['1-1', '2-2', '3-3', '4-4', '5-5', '7-6', '8-7', '10-8', '12-9', '13-10', '14-12', '15-13', '16-15', '18-18', '19-19', '28-22', '29-25', '30-26', '32-27', '33-28', '36-24', '41-31', '42-32', '43-33', '44-33', '45-33', '46-35', '48-34', '49-36'] ['6-7', '9-8', '11-11', '13-11', '15-14', '27-25', '28-23', '31-28', '47-34'] ['1-1', '2-2', '3-3', '4-4', '5-5', '6-6', '7-7', '8-8', '9-9', '9-10', '10-9', '11-11', '12-12', '13-13', '14-14', '15-15', '16-18', '17-17', '18-16', '18-18', '19-19', '20-20', '21-21', '22-22', '23-23', '24-24', '24-25', '25-24', '26-26', '27-27', '29-29', '30-30', '31-31', '32-32', '33-33', '34-34', '35-35', '35-37', '36-36', '37-35', '38-38', '39-39', '39-41', '39-42', '40-40', '41-39', '42-39', '43-43', '44-44', '45-45', '46-46', '47-47', '48-48', '49-49']\n",
      "['1-1', '3-2', '4-3', '5-4', '6-5', '7-5', '8-6', '9-8', '10-9', '11-10', '13-7', '18-11', '19-12', '20-13', '22-15', '23-16', '25-17', '26-18'] ['2-4', '12-7', '21-14', '24-17'] ['1-1', '2-2', '3-3', '4-4', '5-5', '6-6', '7-7', '8-8', '9-9', '10-10', '11-11', '12-12', '13-13', '14-14', '15-15', '16-16', '17-17', '18-18', '19-19', '20-20', '21-21', '22-22', '23-23', '24-24', '25-25', '26-26']\n",
      "['1-1', '3-2'] ['2-2'] ['1-1', '2-2', '3-3']\n",
      "['1-1', '3-2', '5-3', '6-4', '7-5', '8-8', '10-9', '11-10', '14-13', '15-15'] ['2-2', '4-5', '12-13', '13-13', '14-12'] ['1-1', '2-2', '3-3', '4-4', '5-5', '6-6', '7-7', '8-8', '9-9', '10-10', '11-11', '12-12', '13-13', '14-14', '15-15']\n",
      "['2-1', '3-2', '6-3', '7-4', '8-5', '10-7', '12-6', '13-8', '14-9', '16-10', '17-11', '19-13', '21-12', '23-15', '27-17', '29-19'] ['9-7', '11-6', '18-13', '20-12', '28-18'] ['1-1', '2-2', '3-3', '4-4', '5-5', '6-6', '7-7', '8-8', '9-9', '10-10', '11-11', '12-12', '13-13', '14-14', '15-15', '16-16', '17-17', '18-18', '19-19', '20-20', '21-21', '22-22', '23-23', '24-24', '25-25', '26-26', '27-27', '28-28', '29-29']\n",
      "s_a 74\n",
      "p_a 116\n",
      "aer 0.9018595041322314\n",
      "0.9018595041322314\n"
     ]
    }
   ],
   "source": [
    "result = open(\"corpus.en2cz.gdfa.ali\", \"r\")\n",
    "aer = 0.\n",
    "S, P, A = [], [], []\n",
    "\n",
    "for line, s_, p_ in zip(result, sure, possible):\n",
    "    a = line.strip().split(\" \")\n",
    "    for number, i in zip(a, range(len(a))):\n",
    "        n1 = int(number.split(\"-\")[0]) + 1 \n",
    "        n2 = int(number.split(\"-\")[1]) + 1 \n",
    "        number = str(n1) + \"-\" + str(n2)\n",
    "        a[i] = number\n",
    "    S.append(s_.strip().split(\" \"))\n",
    "    P.append(p_.strip().split(\" \"))\n",
    "    A.append(a)\n",
    "    \n",
    "aer = calculate_AER(S, P, A)\n",
    "\n",
    "print(aer)\n",
    "result.close()"
   ]
  },
  {
   "cell_type": "code",
   "execution_count": null,
   "metadata": {
    "collapsed": true
   },
   "outputs": [],
   "source": []
  },
  {
   "cell_type": "markdown",
   "metadata": {},
   "source": [
    "# Preprocessing training file: En-Cz"
   ]
  },
  {
   "cell_type": "code",
   "execution_count": 7,
   "metadata": {
    "collapsed": false
   },
   "outputs": [
    {
     "name": "stdout",
     "output_type": "stream",
     "text": [
      "Processing file: E:/Working/Intership2017/en-cz/raw/training/news-commentary-v11.cs-en.xliff\n",
      "Writing file:  training.en-cz.en\n",
      "Writing file:  training.en-cz.cz\n",
      "Done !\n"
     ]
    }
   ],
   "source": [
    "import xml.etree.ElementTree as ET\n",
    "from xml.dom import minidom\n",
    "from codecs import open\n",
    "import glob\n",
    "\n",
    "from lxml import html\n",
    "from lxml import etree\n",
    "# tree = html.parse(path)\n",
    "\n",
    "def write_file(strs, file_name):\n",
    "    alignment_test = open(file_name,\"w\", encoding='utf8') \n",
    "    print(\"Writing file: \", file_name)\n",
    "    for s in strs:\n",
    "        alignment_test.write(s + \"\\n\") \n",
    "    alignment_test.close()\n",
    "\n",
    "english_sentences = []\n",
    "czech_sentences = []\n",
    "sure = []\n",
    "possible = []\n",
    "\n",
    "file = \"E:/Working/Intership2017/en-cz/raw/training/news-commentary-v11.cs-en.xliff\"\n",
    "print(\"Processing file:\", file)\n",
    "parser = html.parse(file)\n",
    "sentences = parser.getroot().getchildren()[0].getchildren()[0].getchildren()[0].getchildren()\n",
    "for s in sentences:\n",
    "    child = s.getchildren()\n",
    "    values = []\n",
    "    for c in child:\n",
    "        if (c.text != None):\n",
    "            values.append(str(c.text))\n",
    "        else:\n",
    "            values.append('')\n",
    "    english_sentences.append(values[1])\n",
    "    czech_sentences.append(values[0])\n",
    "\n",
    "assert len(english_sentences)==len(czech_sentences)\n",
    "\n",
    "out_dir = \"/people/vu/Projects/2017-NeuralAlignments/data/en-cz/formatted/testing/\"\n",
    "write_file(english_sentences, out_dir + \"training.en-cz.en\")\n",
    "write_file(czech_sentences, out_dir + \"training.en-cz.cz\")\n",
    "print(\"Done !\")"
   ]
  },
  {
   "cell_type": "code",
   "execution_count": null,
   "metadata": {
    "collapsed": true
   },
   "outputs": [],
   "source": []
  },
  {
   "cell_type": "markdown",
   "metadata": {},
   "source": [
    "# Preprocessing testing file: En-Cz"
   ]
  },
  {
   "cell_type": "code",
   "execution_count": 4,
   "metadata": {
    "collapsed": false,
    "scrolled": true
   },
   "outputs": [
    {
     "name": "stdout",
     "output_type": "stream",
     "text": [
      "Processing file: /people/vu/Projects/2017-NeuralAlignments/data/en-cz/raw/testing/aligned_cz-en_1.0/books_three_men_in_boat.wa\n",
      "Processing file: /people/vu/Projects/2017-NeuralAlignments/data/en-cz/raw/testing/aligned_cz-en_1.0/celex_21990A0714.wa\n",
      "Processing file: /people/vu/Projects/2017-NeuralAlignments/data/en-cz/raw/testing/aligned_cz-en_1.0/celex_22000A0411.wa\n",
      "Processing file: /people/vu/Projects/2017-NeuralAlignments/data/en-cz/raw/testing/aligned_cz-en_1.0/celex_31958L0003.wa\n",
      "Processing file: /people/vu/Projects/2017-NeuralAlignments/data/en-cz/raw/testing/aligned_cz-en_1.0/celex_31962L2645.wa\n",
      "Processing file: /people/vu/Projects/2017-NeuralAlignments/data/en-cz/raw/testing/aligned_cz-en_1.0/celex_31965L0079.wa\n",
      "Processing file: /people/vu/Projects/2017-NeuralAlignments/data/en-cz/raw/testing/aligned_cz-en_1.0/celex_31970L0220.wa\n",
      "Processing file: /people/vu/Projects/2017-NeuralAlignments/data/en-cz/raw/testing/aligned_cz-en_1.0/celex_31975L0033.wa\n",
      "Processing file: /people/vu/Projects/2017-NeuralAlignments/data/en-cz/raw/testing/aligned_cz-en_1.0/celex_31980L0799.wa\n",
      "Processing file: /people/vu/Projects/2017-NeuralAlignments/data/en-cz/raw/testing/aligned_cz-en_1.0/celex_31985L0203.wa\n",
      "Processing file: /people/vu/Projects/2017-NeuralAlignments/data/en-cz/raw/testing/aligned_cz-en_1.0/celex_31995L0070.wa\n",
      "Processing file: /people/vu/Projects/2017-NeuralAlignments/data/en-cz/raw/testing/aligned_cz-en_1.0/kacenka_oliver_twist.wa\n",
      "Processing file: /people/vu/Projects/2017-NeuralAlignments/data/en-cz/raw/testing/aligned_cz-en_1.0/kacenka_tess_durbervilles.wa\n",
      "Processing file: /people/vu/Projects/2017-NeuralAlignments/data/en-cz/raw/testing/aligned_cz-en_1.0/pcedt_rd_00293.wa\n",
      "Processing file: /people/vu/Projects/2017-NeuralAlignments/data/en-cz/raw/testing/aligned_cz-en_1.0/pcedt_rd_00393.wa\n",
      "Processing file: /people/vu/Projects/2017-NeuralAlignments/data/en-cz/raw/testing/aligned_cz-en_1.0/pcedt_rd_00693.wa\n",
      "Processing file: /people/vu/Projects/2017-NeuralAlignments/data/en-cz/raw/testing/aligned_cz-en_1.0/pcedt_rd_00793.wa\n",
      "Processing file: /people/vu/Projects/2017-NeuralAlignments/data/en-cz/raw/testing/aligned_cz-en_1.0/pcedt_rd_00893.wa\n",
      "Processing file: /people/vu/Projects/2017-NeuralAlignments/data/en-cz/raw/testing/aligned_cz-en_1.0/pcedt_rd_01193.wa\n",
      "Processing file: /people/vu/Projects/2017-NeuralAlignments/data/en-cz/raw/testing/aligned_cz-en_1.0/pcedt_rd_01493.wa\n",
      "Processing file: /people/vu/Projects/2017-NeuralAlignments/data/en-cz/raw/testing/aligned_cz-en_1.0/project_syndicate_bacchetta1.wa\n",
      "Processing file: /people/vu/Projects/2017-NeuralAlignments/data/en-cz/raw/testing/aligned_cz-en_1.0/project_syndicate_balcerowicz1.wa\n",
      "Processing file: /people/vu/Projects/2017-NeuralAlignments/data/en-cz/raw/testing/aligned_cz-en_1.0/project_syndicate_balibar1.wa\n",
      "Processing file: /people/vu/Projects/2017-NeuralAlignments/data/en-cz/raw/testing/aligned_cz-en_1.0/project_syndicate_balkenende1.wa\n",
      "Processing file: /people/vu/Projects/2017-NeuralAlignments/data/en-cz/raw/testing/aligned_cz-en_1.0/project_syndicate_ban1.wa\n",
      "Processing file: /people/vu/Projects/2017-NeuralAlignments/data/en-cz/raw/testing/aligned_cz-en_1.0/project_syndicate_bck2.wa\n",
      "Processing file: /people/vu/Projects/2017-NeuralAlignments/data/en-cz/raw/testing/aligned_cz-en_1.0/project_syndicate_ber17.wa\n",
      "Processing file: /people/vu/Projects/2017-NeuralAlignments/data/en-cz/raw/testing/aligned_cz-en_1.0/project_syndicate_bertram19.wa\n",
      "Processing file: /people/vu/Projects/2017-NeuralAlignments/data/en-cz/raw/testing/aligned_cz-en_1.0/project_syndicate_blanchard8.wa\n",
      "Processing file: /people/vu/Projects/2017-NeuralAlignments/data/en-cz/raw/testing/aligned_cz-en_1.0/project_syndicate_blo3.wa\n",
      "Processing file: /people/vu/Projects/2017-NeuralAlignments/data/en-cz/raw/testing/aligned_cz-en_1.0/project_syndicate_ne01.wa\n",
      "Processing file: /people/vu/Projects/2017-NeuralAlignments/data/en-cz/raw/testing/aligned_cz-en_1.0/project_syndicate_ne02.wa\n",
      "Processing file: /people/vu/Projects/2017-NeuralAlignments/data/en-cz/raw/testing/aligned_cz-en_1.0/project_syndicate_ne03.wa\n",
      "Processing file: /people/vu/Projects/2017-NeuralAlignments/data/en-cz/raw/testing/aligned_cz-en_1.0/project_syndicate_ne04.wa\n",
      "Processing file: /people/vu/Projects/2017-NeuralAlignments/data/en-cz/raw/testing/aligned_cz-en_1.0/project_syndicate_ne05.wa\n",
      "Processing file: /people/vu/Projects/2017-NeuralAlignments/data/en-cz/raw/testing/aligned_cz-en_1.0/project_syndicate_ne06.wa\n",
      "Processing file: /people/vu/Projects/2017-NeuralAlignments/data/en-cz/raw/testing/aligned_cz-en_1.0/project_syndicate_ne07.wa\n",
      "Processing file: /people/vu/Projects/2017-NeuralAlignments/data/en-cz/raw/testing/aligned_cz-en_1.0/project_syndicate_ne08.wa\n",
      "Processing file: /people/vu/Projects/2017-NeuralAlignments/data/en-cz/raw/testing/aligned_cz-en_1.0/project_syndicate_ne09.wa\n",
      "Processing file: /people/vu/Projects/2017-NeuralAlignments/data/en-cz/raw/testing/aligned_cz-en_1.0/project_syndicate_ne10.wa\n",
      "Processing file: /people/vu/Projects/2017-NeuralAlignments/data/en-cz/raw/testing/aligned_cz-en_1.0/wsj_2201.wa\n",
      "Processing file: /people/vu/Projects/2017-NeuralAlignments/data/en-cz/raw/testing/aligned_cz-en_1.0/wsj_2202.wa\n",
      "Processing file: /people/vu/Projects/2017-NeuralAlignments/data/en-cz/raw/testing/aligned_cz-en_1.0/wsj_2203.wa\n",
      "Processing file: /people/vu/Projects/2017-NeuralAlignments/data/en-cz/raw/testing/aligned_cz-en_1.0/wsj_2211.wa\n",
      "Processing file: /people/vu/Projects/2017-NeuralAlignments/data/en-cz/raw/testing/aligned_cz-en_1.0/wsj_2212.wa\n",
      "Processing file: /people/vu/Projects/2017-NeuralAlignments/data/en-cz/raw/testing/aligned_cz-en_1.0/wsj_2214.wa\n",
      "Processing file: /people/vu/Projects/2017-NeuralAlignments/data/en-cz/raw/testing/aligned_cz-en_1.0/wsj_2222.wa\n",
      "Processing file: /people/vu/Projects/2017-NeuralAlignments/data/en-cz/raw/testing/aligned_cz-en_1.0/wsj_2246.wa\n",
      "Processing file: /people/vu/Projects/2017-NeuralAlignments/data/en-cz/raw/testing/aligned_cz-en_1.0/wsj_2248.wa\n",
      "Processing file: /people/vu/Projects/2017-NeuralAlignments/data/en-cz/raw/testing/aligned_cz-en_1.0/wsj_2249.wa\n",
      "Processing file: /people/vu/Projects/2017-NeuralAlignments/data/en-cz/raw/testing/aligned_cz-en_1.0/wsj_2303.wa\n",
      "Processing file: /people/vu/Projects/2017-NeuralAlignments/data/en-cz/raw/testing/aligned_cz-en_1.0/wsj_2308.wa\n",
      "Processing file: /people/vu/Projects/2017-NeuralAlignments/data/en-cz/raw/testing/aligned_cz-en_1.0/wsj_2309.wa\n",
      "Processing file: /people/vu/Projects/2017-NeuralAlignments/data/en-cz/raw/testing/aligned_cz-en_1.0/wsj_2313.wa\n",
      "Processing file: /people/vu/Projects/2017-NeuralAlignments/data/en-cz/raw/testing/aligned_cz-en_1.0/wsj_2315.wa\n",
      "Processing file: /people/vu/Projects/2017-NeuralAlignments/data/en-cz/raw/testing/aligned_cz-en_1.0/wsj_2332.wa\n",
      "Processing file: /people/vu/Projects/2017-NeuralAlignments/data/en-cz/raw/testing/aligned_cz-en_1.0/wsj_2338.wa\n",
      "Processing file: /people/vu/Projects/2017-NeuralAlignments/data/en-cz/raw/testing/aligned_cz-en_1.0/wsj_2393.wa\n",
      "Processing file: /people/vu/Projects/2017-NeuralAlignments/data/en-cz/raw/testing/aligned_cz-en_1.0/wsj_2399.wa\n",
      "Processing file: /people/vu/Projects/2017-NeuralAlignments/data/en-cz/raw/testing/aligned_cz-en_1.0/wsj_2406.wa\n",
      "Processing file: /people/vu/Projects/2017-NeuralAlignments/data/en-cz/raw/testing/aligned_cz-en_1.0/wsj_2435.wa\n",
      "Processing file: /people/vu/Projects/2017-NeuralAlignments/data/en-cz/raw/testing/aligned_cz-en_1.0/wsj_2436.wa\n",
      "Writing file:  /people/vu/Projects/2017-NeuralAlignments/data/en-cz/formatted/testing/testing.en-cz.en\n",
      "Writing file:  /people/vu/Projects/2017-NeuralAlignments/data/en-cz/formatted/testing/testing.en-cz.cz\n",
      "Writing file:  /people/vu/Projects/2017-NeuralAlignments/data/en-cz/formatted/testing/testing.en-cz.aligment\n",
      "Writing file:  /people/vu/Projects/2017-NeuralAlignments/data/en-cz/formatted/testing/testing.en-cz.fast-align\n",
      "Done !\n"
     ]
    }
   ],
   "source": [
    "import xml.etree.ElementTree as ET\n",
    "from xml.dom import minidom\n",
    "from codecs import open\n",
    "import glob\n",
    "\n",
    "from lxml import html\n",
    "from lxml import etree\n",
    "# tree = html.parse(path)\n",
    "\n",
    "def write_file(strs, file_name):\n",
    "    alignment_test = open(file_name, \"w\", encoding='utf8') \n",
    "    print(\"Writing file: \", file_name)\n",
    "    for s in strs:\n",
    "        alignment_test.write(s + \"\\n\") \n",
    "    alignment_test.close()\n",
    "\n",
    "english_sentences = []\n",
    "czech_sentences = []\n",
    "sure = []\n",
    "possible = []\n",
    "\n",
    "files = glob.glob(\"/people/vu/Projects/2017-NeuralAlignments/data/en-cz/raw/testing/aligned_cz-en_1.0/*.wa\")\n",
    "for file in files:\n",
    "    print(\"Processing file:\", file)\n",
    "    parser = html.parse(file)\n",
    "    root = parser.getiterator(\"sentences\")\n",
    "    for r in root:\n",
    "        sentences = r.getchildren()\n",
    "        for s in sentences:\n",
    "            child = s.getchildren()\n",
    "            values = []\n",
    "            for c in child:\n",
    "                if (c.text != None):\n",
    "                    values.append(str(c.text))\n",
    "                else:\n",
    "                    values.append('')\n",
    "            english_sentences.append(values[0])\n",
    "            czech_sentences.append(values[1])\n",
    "            sure.append(values[2])\n",
    "            possible.append(values[3])\n",
    "    \n",
    "    assert len(english_sentences)==len(czech_sentences)==len(sure)==len(possible)\n",
    "\n",
    "out_dir = \"/people/vu/Projects/2017-NeuralAlignments/data/en-cz/formatted/testing/\"\n",
    "write_file(english_sentences, out_dir + \"testing.en-cz.en\")\n",
    "write_file(czech_sentences, out_dir + \"testing.en-cz.cz\")\n",
    "align_test = []\n",
    "for (s, p) in zip(sure, possible):\n",
    "    align_test.append(s)\n",
    "    align_test.append(p)\n",
    "write_file(align_test, out_dir + \"testing.en-cz.aligment\")\n",
    "# Fast-align format\n",
    "fast_align_test = []\n",
    "for (e, z) in zip(english_sentences, czech_sentences):\n",
    "    fast_align_test.append(e + \" ||| \" + z)\n",
    "write_file(fast_align_test, out_dir + \"testing.en-cz.fast-align\")\n",
    "    \n",
    "print(\"Done !\")"
   ]
  },
  {
   "cell_type": "markdown",
   "metadata": {},
   "source": [
    "# Fast-Align En-cz evolution"
   ]
  },
  {
   "cell_type": "code",
   "execution_count": 55,
   "metadata": {
    "collapsed": false
   },
   "outputs": [
    {
     "name": "stdout",
     "output_type": "stream",
     "text": [
      "s_a 30184\n",
      "p_a 34917\n",
      "aer 0.3732635044718069\n"
     ]
    },
    {
     "data": {
      "text/plain": [
       "0.3732635044718069"
      ]
     },
     "execution_count": 55,
     "metadata": {},
     "output_type": "execute_result"
    }
   ],
   "source": [
    "result_file = open(\"/people/vu/Projects/2017-NeuralAlignments/exp-bach/en-cz/fast_align/result.en-cz.align\")\n",
    "target_file = open(\"/people/vu/Projects/2017-NeuralAlignments/data/en-cz/formatted/testing/testing.en-cz.aligment\")\n",
    "\n",
    "\n",
    "# Index starts from 0\n",
    "result_lines = result_file.readlines()\n",
    "result_lines = [str(line[:-1]) for line in result_lines]\n",
    "# Index starts from 1\n",
    "target_lines = target_file.readlines()\n",
    "target_lines = [str(line[:-1]) for line in target_lines]\n",
    "target_lines = np.reshape(target_lines, (2501, 2))\n",
    "\n",
    "sure = target_lines[:,0]\n",
    "possible = target_lines[:,1]\n",
    "result = result_lines\n",
    "\n",
    "S, P, A = [], [], []\n",
    "\n",
    "# Split and plus 1 to result indexes\n",
    "for line, s_, p_ in zip(result, sure, possible):\n",
    "    a = line.strip().split(\" \")\n",
    "    for i, number in enumerate(a):\n",
    "        n1 = int(number.split(\"-\")[0]) + 1 \n",
    "        n2 = int(number.split(\"-\")[1]) + 1 \n",
    "        number = str(n1) + \"-\" + str(n2)\n",
    "        a[i] = number\n",
    "    S.append(s_.strip().split(\" \"))\n",
    "    P.append(p_.strip().split(\" \"))\n",
    "    A.append(a)\n",
    "\n",
    "calculate_AER(S, P, A)"
   ]
  },
  {
   "cell_type": "markdown",
   "metadata": {},
   "source": [
    "# GIZA++"
   ]
  },
  {
   "cell_type": "code",
   "execution_count": 172,
   "metadata": {
    "collapsed": false
   },
   "outputs": [
    {
     "name": "stdout",
     "output_type": "stream",
     "text": [
      "(7503,)\n"
     ]
    },
    {
     "name": "stderr",
     "output_type": "stream",
     "text": [
      "/people/vu/anaconda3/lib/python3.6/site-packages/numpy/core/fromnumeric.py:47: VisibleDeprecationWarning: using a non-integer number instead of an integer will result in an error in the future\n",
      "  result = getattr(asarray(obj), method)(*args, **kwds)\n"
     ]
    },
    {
     "name": "stdout",
     "output_type": "stream",
     "text": [
      "Writing file:  /people/vu/Projects/2017-NeuralAlignments/exp-bach/en-cz/GIZA++/result.en-cz.align\n"
     ]
    }
   ],
   "source": [
    "import re\n",
    "\n",
    "def write_file(strs, file_name):\n",
    "    alignment_test = open(file_name, \"w\", encoding='utf8') \n",
    "    print(\"Writing file: \", file_name)\n",
    "    for s in strs:\n",
    "        alignment_test.write(s + \"\\n\") \n",
    "    alignment_test.close()\n",
    "\n",
    "\n",
    "giza_file = open(\"/people/vu/Projects/2017-NeuralAlignments/exp-bach/en-cz/GIZA++/v1.A3.final\", encoding='utf8')\n",
    "\n",
    "giza_result = giza_file.readlines()\n",
    "print(np.shape(giza_result))\n",
    "giza_result = np.reshape(giza_result, (np.shape(giza_result)[0]/3, 3))[:,2]\n",
    "giza_result = [re.findall(r\"\\(\\{([^\\(]+)\\}\\)\", s[:-1], re.I) for s in giza_result]\n",
    "\n",
    "out_result = []\n",
    "for row in giza_result:\n",
    "    align = \"\"\n",
    "    for i, value in enumerate(row):\n",
    "        if i == 0:\n",
    "            continue\n",
    "        align_sublist = value.split()\n",
    "        for a in align_sublist:\n",
    "            align += str(i) + \"-\" + str(a) + \" \"\n",
    "    out_result.append(str.strip(align))\n",
    "    \n",
    "write_file(out_result, \"/people/vu/Projects/2017-NeuralAlignments/exp-bach/en-cz/GIZA++/result.en-cz.align\")\n",
    "print(\"Done !\")"
   ]
  },
  {
   "cell_type": "markdown",
   "metadata": {},
   "source": [
    "# GIZA++ evolution"
   ]
  },
  {
   "cell_type": "code",
   "execution_count": 173,
   "metadata": {
    "collapsed": false
   },
   "outputs": [
    {
     "name": "stdout",
     "output_type": "stream",
     "text": [
      "s_a 23883\n",
      "p_a 25799\n",
      "aer 0.45722307801557904\n"
     ]
    },
    {
     "data": {
      "text/plain": [
       "0.45722307801557904"
      ]
     },
     "execution_count": 173,
     "metadata": {},
     "output_type": "execute_result"
    }
   ],
   "source": [
    "result_file = open(\"/people/vu/Projects/2017-NeuralAlignments/exp-bach/en-cz/GIZA++/result.en-cz.align\")\n",
    "target_file = open(\"/people/vu/Projects/2017-NeuralAlignments/data/en-cz/formatted/testing/testing.en-cz.aligment\")\n",
    "\n",
    "# Index starts from 1\n",
    "result_lines = result_file.readlines()\n",
    "result_lines = [str(line[:-1]) for line in result_lines]\n",
    "# Index starts from 1\n",
    "target_lines = target_file.readlines()\n",
    "target_lines = [str(line[:-1]) for line in target_lines]\n",
    "target_lines = np.reshape(target_lines, (2501, 2))\n",
    "\n",
    "sure = target_lines[:,0]\n",
    "possible = target_lines[:,1]\n",
    "result = result_lines\n",
    "\n",
    "S, P, A = [], [], []\n",
    "\n",
    "# Split and plus 1 to result indexes\n",
    "for a_, s_, p_ in zip(result, sure, possible):\n",
    "    S.append(s_.strip().split(\" \"))\n",
    "    P.append(p_.strip().split(\" \"))\n",
    "    A.append(a_.strip().split(\" \"))\n",
    "\n",
    "calculate_AER(S, P, A)"
   ]
  },
  {
   "cell_type": "code",
   "execution_count": null,
   "metadata": {
    "collapsed": true
   },
   "outputs": [],
   "source": []
  },
  {
   "cell_type": "markdown",
   "metadata": {
    "collapsed": false
   },
   "source": [
    "# Preprocessing training file: En-Fr"
   ]
  },
  {
   "cell_type": "code",
   "execution_count": 12,
   "metadata": {
    "collapsed": false,
    "scrolled": true
   },
   "outputs": [
    {
     "name": "stdout",
     "output_type": "stream",
     "text": [
      "Processing file: hansard.36.1.house.debates.001.e\n",
      "Processing file: hansard.36.1.house.debates.002.e\n"
     ]
    },
    {
     "ename": "UnicodeDecodeError",
     "evalue": "'utf-8' codec can't decode byte 0xe9 in position 182: invalid continuation byte",
     "output_type": "error",
     "traceback": [
      "\u001b[0;31m---------------------------------------------------------------------------\u001b[0m",
      "\u001b[0;31mUnicodeDecodeError\u001b[0m                        Traceback (most recent call last)",
      "\u001b[0;32m<ipython-input-12-a6c5ba96e490>\u001b[0m in \u001b[0;36m<module>\u001b[0;34m()\u001b[0m\n\u001b[1;32m     26\u001b[0m \u001b[0me_house_files\u001b[0m \u001b[0;34m=\u001b[0m \u001b[0mglob\u001b[0m\u001b[0;34m.\u001b[0m\u001b[0mglob\u001b[0m\u001b[0;34m(\u001b[0m\u001b[0;34m\"/people/vu/Projects/2017-NeuralAlignments/data/en-fr/raw/training/hansard.36/Release-2001.1a/sentence-pairs/house/debates/development/training/*.e\"\u001b[0m\u001b[0;34m)\u001b[0m\u001b[0;34m\u001b[0m\u001b[0m\n\u001b[1;32m     27\u001b[0m \u001b[0mf_house_files\u001b[0m \u001b[0;34m=\u001b[0m \u001b[0mglob\u001b[0m\u001b[0;34m.\u001b[0m\u001b[0mglob\u001b[0m\u001b[0;34m(\u001b[0m\u001b[0;34m\"/people/vu/Projects/2017-NeuralAlignments/data/en-fr/raw/training/hansard.36/Release-2001.1a/sentence-pairs/house/debates/development/training/*.f\"\u001b[0m\u001b[0;34m)\u001b[0m\u001b[0;34m\u001b[0m\u001b[0m\n\u001b[0;32m---> 28\u001b[0;31m \u001b[0mwrite_file_list\u001b[0m\u001b[0;34m(\u001b[0m\u001b[0me_house_files\u001b[0m\u001b[0;34m,\u001b[0m \u001b[0mout_dir\u001b[0m \u001b[0;34m+\u001b[0m \u001b[0;34m\"training.house.en-fr.en\"\u001b[0m\u001b[0;34m)\u001b[0m\u001b[0;34m\u001b[0m\u001b[0m\n\u001b[0m\u001b[1;32m     29\u001b[0m \u001b[0mwrite_file_list\u001b[0m\u001b[0;34m(\u001b[0m\u001b[0mf_house_files\u001b[0m\u001b[0;34m,\u001b[0m \u001b[0mout_dir\u001b[0m \u001b[0;34m+\u001b[0m \u001b[0;34m\"training.house.en-fr.fr\"\u001b[0m\u001b[0;34m)\u001b[0m\u001b[0;34m\u001b[0m\u001b[0m\n\u001b[1;32m     30\u001b[0m \u001b[0;34m\u001b[0m\u001b[0m\n",
      "\u001b[0;32m<ipython-input-12-a6c5ba96e490>\u001b[0m in \u001b[0;36mwrite_file_list\u001b[0;34m(file_list, file_name)\u001b[0m\n\u001b[1;32m     20\u001b[0m             \u001b[0mprint\u001b[0m\u001b[0;34m(\u001b[0m\u001b[0;34m\"Processing file:\"\u001b[0m\u001b[0;34m,\u001b[0m \u001b[0mos\u001b[0m\u001b[0;34m.\u001b[0m\u001b[0mpath\u001b[0m\u001b[0;34m.\u001b[0m\u001b[0mbasename\u001b[0m\u001b[0;34m(\u001b[0m\u001b[0mfname\u001b[0m\u001b[0;34m)\u001b[0m\u001b[0;34m)\u001b[0m\u001b[0;34m\u001b[0m\u001b[0m\n\u001b[1;32m     21\u001b[0m             \u001b[0;32mwith\u001b[0m \u001b[0mopen\u001b[0m\u001b[0;34m(\u001b[0m\u001b[0mfname\u001b[0m\u001b[0;34m,\u001b[0m \u001b[0mencoding\u001b[0m\u001b[0;34m=\u001b[0m\u001b[0;34m'utf8'\u001b[0m\u001b[0;34m)\u001b[0m \u001b[0;32mas\u001b[0m \u001b[0minfile\u001b[0m\u001b[0;34m:\u001b[0m\u001b[0;34m\u001b[0m\u001b[0m\n\u001b[0;32m---> 22\u001b[0;31m                 \u001b[0moutfile\u001b[0m\u001b[0;34m.\u001b[0m\u001b[0mwrite\u001b[0m\u001b[0;34m(\u001b[0m\u001b[0minfile\u001b[0m\u001b[0;34m.\u001b[0m\u001b[0mread\u001b[0m\u001b[0;34m(\u001b[0m\u001b[0;34m)\u001b[0m\u001b[0;34m)\u001b[0m\u001b[0;34m\u001b[0m\u001b[0m\n\u001b[0m\u001b[1;32m     23\u001b[0m                 \u001b[0moutfile\u001b[0m\u001b[0;34m.\u001b[0m\u001b[0mwrite\u001b[0m\u001b[0;34m(\u001b[0m\u001b[0;34m\"\\n\"\u001b[0m\u001b[0;34m)\u001b[0m\u001b[0;34m\u001b[0m\u001b[0m\n\u001b[1;32m     24\u001b[0m \u001b[0;34m\u001b[0m\u001b[0m\n",
      "\u001b[0;32m/people/vu/anaconda3/lib/python3.6/codecs.py\u001b[0m in \u001b[0;36mread\u001b[0;34m(self, size)\u001b[0m\n\u001b[1;32m    696\u001b[0m     \u001b[0;32mdef\u001b[0m \u001b[0mread\u001b[0m\u001b[0;34m(\u001b[0m\u001b[0mself\u001b[0m\u001b[0;34m,\u001b[0m \u001b[0msize\u001b[0m\u001b[0;34m=\u001b[0m\u001b[0;34m-\u001b[0m\u001b[0;36m1\u001b[0m\u001b[0;34m)\u001b[0m\u001b[0;34m:\u001b[0m\u001b[0;34m\u001b[0m\u001b[0m\n\u001b[1;32m    697\u001b[0m \u001b[0;34m\u001b[0m\u001b[0m\n\u001b[0;32m--> 698\u001b[0;31m         \u001b[0;32mreturn\u001b[0m \u001b[0mself\u001b[0m\u001b[0;34m.\u001b[0m\u001b[0mreader\u001b[0m\u001b[0;34m.\u001b[0m\u001b[0mread\u001b[0m\u001b[0;34m(\u001b[0m\u001b[0msize\u001b[0m\u001b[0;34m)\u001b[0m\u001b[0;34m\u001b[0m\u001b[0m\n\u001b[0m\u001b[1;32m    699\u001b[0m \u001b[0;34m\u001b[0m\u001b[0m\n\u001b[1;32m    700\u001b[0m     \u001b[0;32mdef\u001b[0m \u001b[0mreadline\u001b[0m\u001b[0;34m(\u001b[0m\u001b[0mself\u001b[0m\u001b[0;34m,\u001b[0m \u001b[0msize\u001b[0m\u001b[0;34m=\u001b[0m\u001b[0;32mNone\u001b[0m\u001b[0;34m)\u001b[0m\u001b[0;34m:\u001b[0m\u001b[0;34m\u001b[0m\u001b[0m\n",
      "\u001b[0;32m/people/vu/anaconda3/lib/python3.6/codecs.py\u001b[0m in \u001b[0;36mread\u001b[0;34m(self, size, chars, firstline)\u001b[0m\n\u001b[1;32m    499\u001b[0m                 \u001b[0;32mbreak\u001b[0m\u001b[0;34m\u001b[0m\u001b[0m\n\u001b[1;32m    500\u001b[0m             \u001b[0;32mtry\u001b[0m\u001b[0;34m:\u001b[0m\u001b[0;34m\u001b[0m\u001b[0m\n\u001b[0;32m--> 501\u001b[0;31m                 \u001b[0mnewchars\u001b[0m\u001b[0;34m,\u001b[0m \u001b[0mdecodedbytes\u001b[0m \u001b[0;34m=\u001b[0m \u001b[0mself\u001b[0m\u001b[0;34m.\u001b[0m\u001b[0mdecode\u001b[0m\u001b[0;34m(\u001b[0m\u001b[0mdata\u001b[0m\u001b[0;34m,\u001b[0m \u001b[0mself\u001b[0m\u001b[0;34m.\u001b[0m\u001b[0merrors\u001b[0m\u001b[0;34m)\u001b[0m\u001b[0;34m\u001b[0m\u001b[0m\n\u001b[0m\u001b[1;32m    502\u001b[0m             \u001b[0;32mexcept\u001b[0m \u001b[0mUnicodeDecodeError\u001b[0m \u001b[0;32mas\u001b[0m \u001b[0mexc\u001b[0m\u001b[0;34m:\u001b[0m\u001b[0;34m\u001b[0m\u001b[0m\n\u001b[1;32m    503\u001b[0m                 \u001b[0;32mif\u001b[0m \u001b[0mfirstline\u001b[0m\u001b[0;34m:\u001b[0m\u001b[0;34m\u001b[0m\u001b[0m\n",
      "\u001b[0;31mUnicodeDecodeError\u001b[0m: 'utf-8' codec can't decode byte 0xe9 in position 182: invalid continuation byte"
     ]
    }
   ],
   "source": [
    "import xml.etree.ElementTree as ET\n",
    "from xml.dom import minidom\n",
    "from codecs import open\n",
    "import glob\n",
    "import os\n",
    "\n",
    "from lxml import html\n",
    "from lxml import etree\n",
    "\n",
    "def write_file(strs, file_name):\n",
    "    alignment_test = open(file_name, \"w\", encoding='utf8') \n",
    "    print(\"Writing file: \", file_name)\n",
    "    for s in strs:\n",
    "        alignment_test.write(s + \"\\n\") \n",
    "    alignment_test.close()\n",
    "\n",
    "def write_file_list(file_list, file_name):\n",
    "    with open(file_name, \"w\", encoding='utf8') as outfile:\n",
    "        for fname in file_list:\n",
    "            print(\"Processing file:\", os.path.basename(fname))\n",
    "            with open(fname, encoding='utf8') as infile:\n",
    "                outfile.write(infile.read())\n",
    "                outfile.write(\"\\n\")\n",
    "\n",
    "out_dir = \"/people/vu/Projects/2017-NeuralAlignments/data/en-fr/formatted/training/\"\n",
    "e_house_files = glob.glob(\"/people/vu/Projects/2017-NeuralAlignments/data/en-fr/raw/training/hansard.36/Release-2001.1a/sentence-pairs/house/debates/development/training/*.e\")\n",
    "f_house_files = glob.glob(\"/people/vu/Projects/2017-NeuralAlignments/data/en-fr/raw/training/hansard.36/Release-2001.1a/sentence-pairs/house/debates/development/training/*.f\")\n",
    "write_file_list(e_house_files, out_dir + \"training.house.en-fr.en\")\n",
    "write_file_list(f_house_files, out_dir + \"training.house.en-fr.fr\")\n",
    "\n",
    "e_senate_files = glob.glob(\"/people/vu/Projects/2017-NeuralAlignments/data/en-fr/raw/training/hansard.36/Release-2001.1a/sentence-pairs/senate/debates/development/training/*.e\")\n",
    "f_senate_files = glob.glob(\"/people/vu/Projects/2017-NeuralAlignments/data/en-fr/raw/training/hansard.36/Release-2001.1a/sentence-pairs/senate/debates/development/training/*.f\")\n",
    "write_file_list(e_senate_files, out_dir + \"training.senate.en-fr.en\")\n",
    "write_file_list(f_senate_files, out_dir + \"training.senate.en-fr.fr\")\n",
    "print(\"Done !\")"
   ]
  },
  {
   "cell_type": "code",
   "execution_count": null,
   "metadata": {
    "collapsed": true
   },
   "outputs": [],
   "source": []
  }
 ],
 "metadata": {
  "anaconda-cloud": {},
  "kernelspec": {
   "display_name": "Python 3",
   "language": "python",
   "name": "python3"
  },
  "language_info": {
   "codemirror_mode": {
    "name": "ipython",
    "version": 3
   },
   "file_extension": ".py",
   "mimetype": "text/x-python",
   "name": "python",
   "nbconvert_exporter": "python",
   "pygments_lexer": "ipython3",
   "version": "3.5.2"
  }
 },
 "nbformat": 4,
 "nbformat_minor": 2
}
