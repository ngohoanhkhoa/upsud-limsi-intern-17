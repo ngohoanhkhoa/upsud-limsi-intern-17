{
 "cells": [
  {
   "cell_type": "markdown",
   "metadata": {
    "collapsed": true
   },
   "source": [
    "# Creation d'un mapping { sent : dict Token} à partir du fichier .xml\n",
    "### la numérotation des phrases n'est pas cohérente avec les alignements. ce mapping a été abandonné."
   ]
  },
  {
   "cell_type": "code",
   "execution_count": 99,
   "metadata": {
    "collapsed": true
   },
   "outputs": [],
   "source": [
    "import xml.etree.ElementTree as ET\n",
    "from xml.dom import minidom\n",
    "from codecs import open"
   ]
  },
  {
   "cell_type": "code",
   "execution_count": 73,
   "metadata": {
    "collapsed": true
   },
   "outputs": [],
   "source": [
    "#definition des fichiers\n",
    "docXml = '/people/rudnik/Documents/Alibi/bitext/BarbeBleue_BlueBeard/BarbeBleue_BlueBeard.fr.xml'\n",
    "#docXml = '/people/rudnik/Documents/Alibi/bitext/BarbeBleue_BlueBeard/BarbeBleue_BlueBeard.en.xml'"
   ]
  },
  {
   "cell_type": "code",
   "execution_count": 8,
   "metadata": {
    "collapsed": false
   },
   "outputs": [
    {
     "name": "stdout",
     "output_type": "stream",
     "text": [
      "[<DOM Element: p at 0x7f73253847a0>]\n"
     ]
    }
   ],
   "source": [
    "root = minidom.parse(docXml).getElementsByTagName(\"p\")\n",
    "print root"
   ]
  },
  {
   "cell_type": "code",
   "execution_count": 93,
   "metadata": {
    "collapsed": false
   },
   "outputs": [],
   "source": [
    "children = root[0].childNodes\n",
    "\n",
    "dictMapSentTok ={}\n",
    "sentLen = 0\n",
    "sentFirstCharPos = 0\n",
    "\n",
    "for sent in children :\n",
    "    \n",
    "    #on retire les noeuds vides\n",
    "    if sent.localName == None : continue\n",
    "\n",
    "    sentID = sent.getAttribute('id').split('.')[1]\n",
    "\n",
    "    #pour chaque noeud de phrase on parcourt les tokens de la phrase, on regarde leur longueur et on calcule\n",
    "    #le numero du premier charactère ... sera utile pour la suite pour avoir l'ID html du charactère correspondant\n",
    "    tokenNodes = sent.childNodes\n",
    "    tokenFirstCharPos = 0\n",
    "    dictToken = {}\n",
    "    sentLen = 0\n",
    "    \n",
    "    for tokenNode in tokenNodes :\n",
    "        if tokenNode.localName == None : continue\n",
    "        tokenID = tokenNode.getAttribute('id').split('.')[2]\n",
    "        tokenID = str(int(tokenID)-1)\n",
    "        wordToken = tokenNode.childNodes[0].data.strip()\n",
    "\n",
    "        tokenLen = len(wordToken)\n",
    "        dictToken[tokenID] = (wordToken, tokenLen, tokenFirstCharPos)\n",
    "        tokenFirstCharPos += tokenLen\n",
    "    sentLen += tokenFirstCharPos\n",
    "    \n",
    "    # on crée le dictionnaire #tokenID:(#longueur token, #position 1er charactère)\n",
    "    dictMapSentTok[sentID] = dictToken, sentLen, sentFirstCharPos\n",
    "    \n",
    "    sentFirstCharPos += sentLen\n",
    "        "
   ]
  },
  {
   "cell_type": "code",
   "execution_count": 98,
   "metadata": {
    "collapsed": false
   },
   "outputs": [
    {
     "data": {
      "text/plain": [
       "({'0': (u\"D'\", 2, 0),\n",
       "  '1': (u'abord', 5, 2),\n",
       "  '10': (u'fen\\xeatres', 8, 32),\n",
       "  '11': (u'\\xe9taient', 7, 40),\n",
       "  '12': (u'ferm\\xe9es', 7, 47),\n",
       "  '13': (u'.', 1, 54),\n",
       "  '2': (u'elle', 4, 7),\n",
       "  '3': (u'ne', 2, 11),\n",
       "  '4': (u'vit', 3, 13),\n",
       "  '5': (u'rien', 4, 16),\n",
       "  '6': (u',', 1, 20),\n",
       "  '7': (u'parce', 5, 21),\n",
       "  '8': (u'que', 3, 26),\n",
       "  '9': (u'les', 3, 29)},\n",
       " 55,\n",
       " 3168)"
      ]
     },
     "execution_count": 98,
     "metadata": {},
     "output_type": "execute_result"
    }
   ],
   "source": [
    "dictMapSentTok[u'21']"
   ]
  },
  {
   "cell_type": "code",
   "execution_count": 95,
   "metadata": {
    "collapsed": true
   },
   "outputs": [],
   "source": [
    "#print dictMapSentTok\n",
    "f = open(\"dictMapSentTokSrc.txt\",\"w\")\n",
    "#f = open(\"dictMapSentTokTrg.txt\",\"w\")\n",
    "f.write( str(dictMapSentTok) )\n",
    "f.close()  "
   ]
  },
  {
   "cell_type": "code",
   "execution_count": 59,
   "metadata": {
    "collapsed": false
   },
   "outputs": [
    {
     "data": {
      "text/plain": [
       "218"
      ]
     },
     "execution_count": 59,
     "metadata": {},
     "output_type": "execute_result"
    }
   ],
   "source": [
    "179+39\n"
   ]
  },
  {
   "cell_type": "code",
   "execution_count": null,
   "metadata": {
    "collapsed": true
   },
   "outputs": [],
   "source": []
  }
 ],
 "metadata": {
  "kernelspec": {
   "display_name": "Python 3",
   "language": "python",
   "name": "python3"
  },
  "language_info": {
   "codemirror_mode": {
    "name": "ipython",
    "version": 3
   },
   "file_extension": ".py",
   "mimetype": "text/x-python",
   "name": "python",
   "nbconvert_exporter": "python",
   "pygments_lexer": "ipython3",
   "version": "3.6.0"
  }
 },
 "nbformat": 4,
 "nbformat_minor": 2
}
