{
 "cells": [
  {
   "cell_type": "code",
   "execution_count": 1,
   "metadata": {
    "collapsed": false
   },
   "outputs": [
    {
     "name": "stderr",
     "output_type": "stream",
     "text": [
      "Using TensorFlow backend.\n"
     ]
    }
   ],
   "source": [
    "'''Example script to generate text from Nietzsche's writings.\n",
    "At least 20 epochs are required before the generated text\n",
    "starts sounding coherent.\n",
    "It is recommended to run this script on GPU, as recurrent\n",
    "networks are quite computationally intensive.\n",
    "If you try this script on new data, make sure your corpus\n",
    "has at least ~100k characters. ~1M is better.\n",
    "'''\n",
    "\n",
    "from __future__ import print_function\n",
    "from keras.models import Sequential\n",
    "from keras.layers import Dense, Activation\n",
    "from keras.layers import LSTM\n",
    "from keras.optimizers import RMSprop\n",
    "from keras.utils.data_utils import get_file\n",
    "import numpy as np\n",
    "import random\n",
    "import sys"
   ]
  },
  {
   "cell_type": "code",
   "execution_count": 2,
   "metadata": {
    "collapsed": false
   },
   "outputs": [
    {
     "name": "stdout",
     "output_type": "stream",
     "text": [
      "corpus length: 600901\n"
     ]
    }
   ],
   "source": [
    "path = get_file('nietzsche.txt', origin='https://s3.amazonaws.com/text-datasets/nietzsche.txt')\n",
    "text = open(path).read().lower()\n",
    "print('corpus length:', len(text))"
   ]
  },
  {
   "cell_type": "code",
   "execution_count": 4,
   "metadata": {
    "collapsed": false
   },
   "outputs": [
    {
     "name": "stdout",
     "output_type": "stream",
     "text": [
      "total chars: 59\n"
     ]
    }
   ],
   "source": [
    "chars = sorted(list(set(text)))\n",
    "print('total chars:', len(chars))\n",
    "char_indices = dict((c, i) for i, c in enumerate(chars))\n",
    "indices_char = dict((i, c) for i, c in enumerate(chars))"
   ]
  },
  {
   "cell_type": "code",
   "execution_count": 6,
   "metadata": {
    "collapsed": false
   },
   "outputs": [
    {
     "name": "stdout",
     "output_type": "stream",
     "text": [
      "nb sequences: 200287\n"
     ]
    }
   ],
   "source": [
    "# cut the text in semi-redundant sequences of maxlen characters\n",
    "maxlen = 40\n",
    "step = 3\n",
    "sentences = []\n",
    "next_chars = []\n",
    "for i in range(0, len(text) - maxlen, step):\n",
    "    sentences.append(text[i: i + maxlen])\n",
    "    next_chars.append(text[i + maxlen])\n",
    "print('nb sequences:', len(sentences))"
   ]
  },
  {
   "cell_type": "code",
   "execution_count": 7,
   "metadata": {
    "collapsed": false
   },
   "outputs": [
    {
     "name": "stdout",
     "output_type": "stream",
     "text": [
      "Vectorization...\n"
     ]
    }
   ],
   "source": [
    "print('Vectorization...')\n",
    "X = np.zeros((len(sentences), maxlen, len(chars)), dtype=np.bool)\n",
    "y = np.zeros((len(sentences), len(chars)), dtype=np.bool)\n",
    "for i, sentence in enumerate(sentences):\n",
    "    for t, char in enumerate(sentence):\n",
    "        X[i, t, char_indices[char]] = 1\n",
    "    y[i, char_indices[next_chars[i]]] = 1"
   ]
  },
  {
   "cell_type": "code",
   "execution_count": 8,
   "metadata": {
    "collapsed": false
   },
   "outputs": [
    {
     "name": "stdout",
     "output_type": "stream",
     "text": [
      "Build model...\n"
     ]
    }
   ],
   "source": [
    "# build the model: a single LSTM\n",
    "print('Build model...')\n",
    "model = Sequential()\n",
    "model.add(LSTM(128, input_shape=(maxlen, len(chars))))\n",
    "model.add(Dense(len(chars)))\n",
    "model.add(Activation('softmax'))\n",
    "\n",
    "optimizer = RMSprop(lr=0.01)\n",
    "model.compile(loss='categorical_crossentropy', optimizer=optimizer)"
   ]
  },
  {
   "cell_type": "code",
   "execution_count": 9,
   "metadata": {
    "collapsed": false,
    "scrolled": true
   },
   "outputs": [
    {
     "name": "stdout",
     "output_type": "stream",
     "text": [
      "\n",
      "--------------------------------------------------\n",
      "Iteration 1\n",
      "Epoch 1/1\n",
      "   384/200287 [..............................] - ETA: 16214s - loss: 3.5280"
     ]
    },
    {
     "name": "stderr",
     "output_type": "stream",
     "text": [
      "C:\\Program Files\\Anaconda2\\envs\\python3_5\\lib\\site-packages\\keras\\callbacks.py:119: UserWarning: Method on_batch_end() is slow compared to the batch update (0.253491). Check your callbacks.\n",
      "  % delta_t_median)\n"
     ]
    },
    {
     "name": "stdout",
     "output_type": "stream",
     "text": [
      "200287/200287 [==============================] - 214s - loss: 1.9813   \n",
      "\n",
      "----- diversity: 0.2\n",
      "----- Generating with seed: \"h any object of\n",
      "veneration or enmity, of\"\n",
      "h any object of\n",
      "veneration or enmity, of the precession of the self-contran of a such and the speriation of the such a sciention of the self--the such a strange and the such the stated and the strange and the streng and such the self and the seething and and the histority and the himself the farst and and such a streng in the reason and such a such a such and the such a streng and the such the states and self the philosophy and the pref\n",
      "----- diversity: 0.5\n",
      "----- Generating with seed: \"h any object of\n",
      "veneration or enmity, of\"\n",
      "h any object of\n",
      "veneration or enmity, of a plecess to a suppose to the not and have upon the instance is a tilled the herender and as i converer in the state the mean to persone and statent as have the inconce of the in the surge in the frent who the forch and longer as in the morally the precessity who one and starder the pirenes contine the fict of such a consifice of the and him and scenting the fact is in the reaple in the make and \n",
      "----- diversity: 1.0\n",
      "----- Generating with seed: \"h any object of\n",
      "veneration or enmity, of\"\n",
      "h any object of\n",
      "veneration or enmity, of thishy in individutly dlect mean regatan han in shupring fance perhepent to sulethind endiligity beent belood have delughed con, mon and guratic is aslongnafic . wople a cotlene of refeet: shater god and for ittertest\" bethoms, really part morals, the scerce uponitedment or goint \"broud. perparation of strentfule deaptay to anlool the higrehcomin ans one so nher thing upon she preforeres i oppyen\n",
      "----- diversity: 1.2\n",
      "----- Generating with seed: \"h any object of\n",
      "veneration or enmity, of\"\n",
      "h any object of\n",
      "veneration or enmity, of viream isnigher, and stach atkenesh brhoully\n",
      "purrises such expedectian the lactions and have not rood: which thing upone and\n",
      "suclebher, evend:--as\n",
      "ulpo pagnign uiff pleceite,hity.y everyther ,or and ascestable whom\" hislentiving with the a, and dasin, acclabes epplibalov condecties of an  sufftaes to ken gions,rat, it prence intalition--\"hoimnaten\n",
      "dphirr? his re\"surarqute, that the te.n, kener cl\n",
      "--------------------------------------------------\n",
      "Iteration 2\n",
      "Epoch 1/1\n",
      "200287/200287 [==============================] - 184s - loss: 1.6324   \n",
      "\n",
      "----- diversity: 0.2\n",
      "----- Generating with seed: \"of his immortal soul:--can science, as w\"\n",
      "of his immortal soul:--can science, as we contrant to the contraction of the profound and and are the will and and and and and and and to the sense and and and and and in the something in the such a more to the something the be more to the something the something the form the something the the more to the interpretation of the intellectual and and and and a something the sense and to the intercousses in the sense the something the somet\n",
      "----- diversity: 0.5\n",
      "----- Generating with seed: \"of his immortal soul:--can science, as w\"\n",
      "of his immortal soul:--can science, as we who wis contrally the cause to the contranion is contraction and as the fination of all the sense--in the such the and in the anting and a contence for the something the and to the such to the pring it is who be such not be as the such an out to the word and and expertance to compleces to the into the poting and and hamalice perhaps and the something the conduct, as the respective to the somethi\n",
      "----- diversity: 1.0\n",
      "----- Generating with seed: \"of his immortal soul:--can science, as w\"\n",
      "of his immortal soul:--can science, as wether somptic modaccular him an as goodgain invidences of geterness of longing. againsting nor\n",
      "to af of somath, abut the gransticism of its\n",
      "live stalse! are not to the very sughoust at modamptian of the sense; in a can\n",
      "otherfoligh, becomatisy.mine of the sporily converrol. it all respectange aveles a knould three \"would plins take gan, practative diudes such tnateover unitian of spinctianies of th\n",
      "----- diversity: 1.2\n",
      "----- Generating with seed: \"of his immortal soul:--can science, as w\"\n",
      "of his immortal soul:--can science, as whole past whole comification of restiinment.glut to at cultua will\n",
      "joness\n",
      "acctilitimar hatimont mankind, themsiminy fenstel \n",
      "for\n",
      "himselogy, for higher reppoctatt.\n",
      "\n",
      ", of god upjusthmad.gys\",\" of concealed by thme\n",
      "wake,\n",
      "resolbtion wisemed pltent takting\n",
      "rided attiminapr hitself--tof it of kive \"vicour p\n",
      "geration st\n",
      "protces deciside to far the as\n",
      "that acofitr who will\n",
      "culsigeing detititian's: proclos\n",
      "--------------------------------------------------\n",
      "Iteration 3\n",
      "Epoch 1/1\n",
      "200287/200287 [==============================] - 183s - loss: 1.5469   \n",
      "\n",
      "----- diversity: 0.2\n",
      "----- Generating with seed: \"o the midst of a noisy and plebeian age,\"\n",
      "o the midst of a noisy and plebeian age, and the same and and the such and the same and and and the schoplemant and the stronger and and and a strength and presenting of the something the strenghant and and one morals of the strenghand and a same that the strenghant to the supernal and presenting and the has the stands that is the sense of and conscience of the stronger that the some the same and the strenghand of the presenting of the \n",
      "----- diversity: 0.5\n",
      "----- Generating with seed: \"o the midst of a noisy and plebeian age,\"\n",
      "o the midst of a noisy and plebeian age, and them with a said\n",
      "and be such is the and all that in himself the last simple may be and a supernity of the higher and not be one may be supernigical general religion of an importance of the sensibe, what is the belief the part is the morals, to have to the precauations of higher as a religion, and in the morality of the will over the standration of the though and propest senses of philosophy t\n",
      "----- diversity: 1.0\n",
      "----- Generating with seed: \"o the midst of a noisy and plebeian age,\"\n",
      "o the midst of a noisy and plebeian age, alowe agais so an aithers was immedesates, no meders by\n",
      "that time suttentioned of the\n",
      "schuptitutfrems in europe\n",
      "of the historitationsh in their avoluric y interectation. him have ana\n",
      "\"feeling prevotiessorion of the was the wionarageations of the ites\n",
      "a hungout have wish groudaned\n",
      "his change of plandes, that but it is constrations and sirifed attenct weay peetain, after overing\n",
      "view to entive and \n",
      "----- diversity: 1.2\n",
      "----- Generating with seed: \"o the midst of a noisy and plebeian age,\"\n",
      "o the midst of a noisy and plebeian age,\n",
      "in, oun bat hech of europeams or that physyw\"ogh sohingy of their for\n",
      "the\n",
      "fav mode, forse for him, europe and among sunderves, he wished abon otherules, to\n",
      "feern but in\n",
      "advantovtercy amay aavaluily himself over, him. though certain patedness\"--which is rightening ir. --otherintral re,\n",
      "conifed frose phapes,\n",
      "and conscience foney\n",
      "a \"gived by sead on a religion an ceptious: far plage and toouther-psy\n",
      "--------------------------------------------------\n",
      "Iteration 4\n",
      "Epoch 1/1\n",
      "200287/200287 [==============================] - 180s - loss: 1.5040   \n",
      "\n",
      "----- diversity: 0.2\n",
      "----- Generating with seed: \" even\n",
      "of prayer--at least in more simple\"\n",
      " even\n",
      "of prayer--at least in more simple and soul, the same and in the says and the present the supers and all the superition of the imposed of the supers and the man of the most soul, the believe and the supers and comprehensivists of the same of the present the superition of the man which the same and man and the superition of the superitions of the most soul, the sense as a soul, and all the present the superition of the same and the\n",
      "----- diversity: 0.5\n",
      "----- Generating with seed: \" even\n",
      "of prayer--at least in more simple\"\n",
      " even\n",
      "of prayer--at least in more simpleced and will a flict, who have the decessess and the to the stand as a man whote retained and longer esteep of the been superitions of which as the such an invertting and are and in may be soul, we refutuless of man spirit and of the seement graned and\n",
      "regarded beabile and the estable and the wholever, that therefore of the subvery as a spirit of man such as is the religion and freedom of the pers\n",
      "----- diversity: 1.0\n",
      "----- Generating with seed: \" even\n",
      "of prayer--at least in more simple\"\n",
      " even\n",
      "of prayer--at least in more simple, in vance. but they favour which life had man is popetifyrate\n",
      "invelopty, consequencestry.uge, the necessarile? that recognize\" the hafds god nourd\n",
      "recently it to innother\n",
      "it with such on, hers all may not for apprictations that soul, sometimes as decessed ipor, not love to the istiment.s\n",
      "of meanble affore they juvuths conscience un virtue that is cretice the aschecing, a could empicoure, at agula\n",
      "----- diversity: 1.2\n",
      "----- Generating with seed: \" even\n",
      "of prayer--at least in more simple\"\n",
      " even\n",
      "of prayer--at least in more simplece of ihs\n",
      "whatee this olvated be\n",
      "it is to matres, it by seas \"shoblly, as were reat--but bat,\n",
      "that the\n",
      "hoosity; naithed immyself gratules which\n",
      "is nowh, the shaesing\n",
      "mich\n",
      "sumelent wertooty, and feasere\n",
      "to\n",
      "betained l its are, the massia thingheras of an god conscience,\"s? camcy dookjomsbsty and on that redars he leve owew na tormpholigh,\n",
      "the power e\n",
      "feeling (dowaking.\n",
      "\n",
      "\n",
      "11eevery relights most\n",
      "can t\n",
      "--------------------------------------------------\n",
      "Iteration 5\n",
      "Epoch 1/1\n",
      "200287/200287 [==============================] - 185s - loss: 1.4733   \n",
      "\n",
      "----- diversity: 0.2\n",
      "----- Generating with seed: \"of\n",
      "metaphysical questions presented to h\"\n",
      "of\n",
      "metaphysical questions presented to him and soul of the moral and and subject of the power and and considered the sense of the the intermon of the same the say, that the sign and the same and the soul of the power of the present the fact of the say of a moral and stronger and conscious and the spirit of the subject of the sense, and a power and and and contemple and the sense of the moral existed and all the stronger of the philosoph\n",
      "----- diversity: 0.5\n",
      "----- Generating with seed: \"of\n",
      "metaphysical questions presented to h\"\n",
      "of\n",
      "metaphysical questions presented to his higher and cause of the moral present of the soul and sense, the allow in an instinctive for the\n",
      "heart of the tyme\", as a strength and an and for every intervint that the great the will the great fact and intellectual and the language in the secret the conditions and not mean passion, to an all the existed and means into a speaks and retain that has a sense of the saint and forget the merits th\n",
      "----- diversity: 1.0\n",
      "----- Generating with seed: \"of\n",
      "metaphysical questions presented to h\"\n",
      "of\n",
      "metaphysical questions presented to his promain to applerements setorn\n",
      "unthuncibly sometomahing the the asen\n",
      "the philosourably,\n",
      "as the part, to imner pellesied and scientife werous crovy, how will thit of maticer, where\n",
      "lett--he was does and carceole is amonger pathes, every in near\n",
      "of the\n",
      "means and\n",
      "priple op the highe oft gire where do wearis \n",
      "as not accoralaly contrasid hitherto puril founsories, evil a lastsowhing,\n",
      "here as existin\n",
      "----- diversity: 1.2\n",
      "----- Generating with seed: \"of\n",
      "metaphysical questions presented to h\"\n",
      "of\n",
      "metaphysical questions presented to his means attequahated doubting\n",
      ".y with reneaspochage athencied diantwy charch fundom of \"natures. they; when the race in prikely free as ana\n",
      "no the last\n",
      "withovery racus within that which it slich od physis\n",
      "which he seem--i !lyby pawhme and preking the capiaclesical new\n",
      "diseust: the chilm to gyen this the serious belieful suppectact\"ual easion, a gick opera.\n",
      "of extames, religious and romalsk is mor\n",
      "--------------------------------------------------\n",
      "Iteration 6\n",
      "Epoch 1/1\n",
      "196864/200287 [============================>.] - ETA: 3s - loss: 1.4514"
     ]
    },
    {
     "ename": "KeyboardInterrupt",
     "evalue": "",
     "output_type": "error",
     "traceback": [
      "\u001b[0;31m---------------------------------------------------------------------------\u001b[0m",
      "\u001b[0;31mKeyboardInterrupt\u001b[0m                         Traceback (most recent call last)",
      "\u001b[0;32m<ipython-input-9-7e6b8967a9c7>\u001b[0m in \u001b[0;36m<module>\u001b[0;34m()\u001b[0m\n\u001b[1;32m     15\u001b[0m     model.fit(X, y,\n\u001b[1;32m     16\u001b[0m               \u001b[0mbatch_size\u001b[0m\u001b[1;33m=\u001b[0m\u001b[1;36m128\u001b[0m\u001b[1;33m,\u001b[0m\u001b[1;33m\u001b[0m\u001b[0m\n\u001b[0;32m---> 17\u001b[0;31m               nb_epoch=1)\n\u001b[0m\u001b[1;32m     18\u001b[0m \u001b[1;33m\u001b[0m\u001b[0m\n\u001b[1;32m     19\u001b[0m     \u001b[0mstart_index\u001b[0m \u001b[1;33m=\u001b[0m \u001b[0mrandom\u001b[0m\u001b[1;33m.\u001b[0m\u001b[0mrandint\u001b[0m\u001b[1;33m(\u001b[0m\u001b[1;36m0\u001b[0m\u001b[1;33m,\u001b[0m \u001b[0mlen\u001b[0m\u001b[1;33m(\u001b[0m\u001b[0mtext\u001b[0m\u001b[1;33m)\u001b[0m \u001b[1;33m-\u001b[0m \u001b[0mmaxlen\u001b[0m \u001b[1;33m-\u001b[0m \u001b[1;36m1\u001b[0m\u001b[1;33m)\u001b[0m\u001b[1;33m\u001b[0m\u001b[0m\n",
      "\u001b[0;32mC:\\Program Files\\Anaconda2\\envs\\python3_5\\lib\\site-packages\\keras\\models.py\u001b[0m in \u001b[0;36mfit\u001b[0;34m(self, x, y, batch_size, nb_epoch, verbose, callbacks, validation_split, validation_data, shuffle, class_weight, sample_weight, initial_epoch, **kwargs)\u001b[0m\n\u001b[1;32m    670\u001b[0m                               \u001b[0mclass_weight\u001b[0m\u001b[1;33m=\u001b[0m\u001b[0mclass_weight\u001b[0m\u001b[1;33m,\u001b[0m\u001b[1;33m\u001b[0m\u001b[0m\n\u001b[1;32m    671\u001b[0m                               \u001b[0msample_weight\u001b[0m\u001b[1;33m=\u001b[0m\u001b[0msample_weight\u001b[0m\u001b[1;33m,\u001b[0m\u001b[1;33m\u001b[0m\u001b[0m\n\u001b[0;32m--> 672\u001b[0;31m                               initial_epoch=initial_epoch)\n\u001b[0m\u001b[1;32m    673\u001b[0m \u001b[1;33m\u001b[0m\u001b[0m\n\u001b[1;32m    674\u001b[0m     def evaluate(self, x, y, batch_size=32, verbose=1,\n",
      "\u001b[0;32mC:\\Program Files\\Anaconda2\\envs\\python3_5\\lib\\site-packages\\keras\\engine\\training.py\u001b[0m in \u001b[0;36mfit\u001b[0;34m(self, x, y, batch_size, nb_epoch, verbose, callbacks, validation_split, validation_data, shuffle, class_weight, sample_weight, initial_epoch)\u001b[0m\n\u001b[1;32m   1190\u001b[0m                               \u001b[0mval_f\u001b[0m\u001b[1;33m=\u001b[0m\u001b[0mval_f\u001b[0m\u001b[1;33m,\u001b[0m \u001b[0mval_ins\u001b[0m\u001b[1;33m=\u001b[0m\u001b[0mval_ins\u001b[0m\u001b[1;33m,\u001b[0m \u001b[0mshuffle\u001b[0m\u001b[1;33m=\u001b[0m\u001b[0mshuffle\u001b[0m\u001b[1;33m,\u001b[0m\u001b[1;33m\u001b[0m\u001b[0m\n\u001b[1;32m   1191\u001b[0m                               \u001b[0mcallback_metrics\u001b[0m\u001b[1;33m=\u001b[0m\u001b[0mcallback_metrics\u001b[0m\u001b[1;33m,\u001b[0m\u001b[1;33m\u001b[0m\u001b[0m\n\u001b[0;32m-> 1192\u001b[0;31m                               initial_epoch=initial_epoch)\n\u001b[0m\u001b[1;32m   1193\u001b[0m \u001b[1;33m\u001b[0m\u001b[0m\n\u001b[1;32m   1194\u001b[0m     \u001b[1;32mdef\u001b[0m \u001b[0mevaluate\u001b[0m\u001b[1;33m(\u001b[0m\u001b[0mself\u001b[0m\u001b[1;33m,\u001b[0m \u001b[0mx\u001b[0m\u001b[1;33m,\u001b[0m \u001b[0my\u001b[0m\u001b[1;33m,\u001b[0m \u001b[0mbatch_size\u001b[0m\u001b[1;33m=\u001b[0m\u001b[1;36m32\u001b[0m\u001b[1;33m,\u001b[0m \u001b[0mverbose\u001b[0m\u001b[1;33m=\u001b[0m\u001b[1;36m1\u001b[0m\u001b[1;33m,\u001b[0m \u001b[0msample_weight\u001b[0m\u001b[1;33m=\u001b[0m\u001b[1;32mNone\u001b[0m\u001b[1;33m)\u001b[0m\u001b[1;33m:\u001b[0m\u001b[1;33m\u001b[0m\u001b[0m\n",
      "\u001b[0;32mC:\\Program Files\\Anaconda2\\envs\\python3_5\\lib\\site-packages\\keras\\engine\\training.py\u001b[0m in \u001b[0;36m_fit_loop\u001b[0;34m(self, f, ins, out_labels, batch_size, nb_epoch, verbose, callbacks, val_f, val_ins, shuffle, callback_metrics, initial_epoch)\u001b[0m\n\u001b[1;32m    890\u001b[0m                 \u001b[0mbatch_logs\u001b[0m\u001b[1;33m[\u001b[0m\u001b[1;34m'size'\u001b[0m\u001b[1;33m]\u001b[0m \u001b[1;33m=\u001b[0m \u001b[0mlen\u001b[0m\u001b[1;33m(\u001b[0m\u001b[0mbatch_ids\u001b[0m\u001b[1;33m)\u001b[0m\u001b[1;33m\u001b[0m\u001b[0m\n\u001b[1;32m    891\u001b[0m                 \u001b[0mcallbacks\u001b[0m\u001b[1;33m.\u001b[0m\u001b[0mon_batch_begin\u001b[0m\u001b[1;33m(\u001b[0m\u001b[0mbatch_index\u001b[0m\u001b[1;33m,\u001b[0m \u001b[0mbatch_logs\u001b[0m\u001b[1;33m)\u001b[0m\u001b[1;33m\u001b[0m\u001b[0m\n\u001b[0;32m--> 892\u001b[0;31m                 \u001b[0mouts\u001b[0m \u001b[1;33m=\u001b[0m \u001b[0mf\u001b[0m\u001b[1;33m(\u001b[0m\u001b[0mins_batch\u001b[0m\u001b[1;33m)\u001b[0m\u001b[1;33m\u001b[0m\u001b[0m\n\u001b[0m\u001b[1;32m    893\u001b[0m                 \u001b[1;32mif\u001b[0m \u001b[1;32mnot\u001b[0m \u001b[0misinstance\u001b[0m\u001b[1;33m(\u001b[0m\u001b[0mouts\u001b[0m\u001b[1;33m,\u001b[0m \u001b[0mlist\u001b[0m\u001b[1;33m)\u001b[0m\u001b[1;33m:\u001b[0m\u001b[1;33m\u001b[0m\u001b[0m\n\u001b[1;32m    894\u001b[0m                     \u001b[0mouts\u001b[0m \u001b[1;33m=\u001b[0m \u001b[1;33m[\u001b[0m\u001b[0mouts\u001b[0m\u001b[1;33m]\u001b[0m\u001b[1;33m\u001b[0m\u001b[0m\n",
      "\u001b[0;32mC:\\Program Files\\Anaconda2\\envs\\python3_5\\lib\\site-packages\\keras\\backend\\tensorflow_backend.py\u001b[0m in \u001b[0;36m__call__\u001b[0;34m(self, inputs)\u001b[0m\n\u001b[1;32m   1898\u001b[0m         \u001b[0msession\u001b[0m \u001b[1;33m=\u001b[0m \u001b[0mget_session\u001b[0m\u001b[1;33m(\u001b[0m\u001b[1;33m)\u001b[0m\u001b[1;33m\u001b[0m\u001b[0m\n\u001b[1;32m   1899\u001b[0m         updated = session.run(self.outputs + [self.updates_op],\n\u001b[0;32m-> 1900\u001b[0;31m                               feed_dict=feed_dict)\n\u001b[0m\u001b[1;32m   1901\u001b[0m         \u001b[1;32mreturn\u001b[0m \u001b[0mupdated\u001b[0m\u001b[1;33m[\u001b[0m\u001b[1;33m:\u001b[0m\u001b[0mlen\u001b[0m\u001b[1;33m(\u001b[0m\u001b[0mself\u001b[0m\u001b[1;33m.\u001b[0m\u001b[0moutputs\u001b[0m\u001b[1;33m)\u001b[0m\u001b[1;33m]\u001b[0m\u001b[1;33m\u001b[0m\u001b[0m\n\u001b[1;32m   1902\u001b[0m \u001b[1;33m\u001b[0m\u001b[0m\n",
      "\u001b[0;32mC:\\Program Files\\Anaconda2\\envs\\python3_5\\lib\\site-packages\\tensorflow\\python\\client\\session.py\u001b[0m in \u001b[0;36mrun\u001b[0;34m(self, fetches, feed_dict, options, run_metadata)\u001b[0m\n\u001b[1;32m    764\u001b[0m     \u001b[1;32mtry\u001b[0m\u001b[1;33m:\u001b[0m\u001b[1;33m\u001b[0m\u001b[0m\n\u001b[1;32m    765\u001b[0m       result = self._run(None, fetches, feed_dict, options_ptr,\n\u001b[0;32m--> 766\u001b[0;31m                          run_metadata_ptr)\n\u001b[0m\u001b[1;32m    767\u001b[0m       \u001b[1;32mif\u001b[0m \u001b[0mrun_metadata\u001b[0m\u001b[1;33m:\u001b[0m\u001b[1;33m\u001b[0m\u001b[0m\n\u001b[1;32m    768\u001b[0m         \u001b[0mproto_data\u001b[0m \u001b[1;33m=\u001b[0m \u001b[0mtf_session\u001b[0m\u001b[1;33m.\u001b[0m\u001b[0mTF_GetBuffer\u001b[0m\u001b[1;33m(\u001b[0m\u001b[0mrun_metadata_ptr\u001b[0m\u001b[1;33m)\u001b[0m\u001b[1;33m\u001b[0m\u001b[0m\n",
      "\u001b[0;32mC:\\Program Files\\Anaconda2\\envs\\python3_5\\lib\\site-packages\\tensorflow\\python\\client\\session.py\u001b[0m in \u001b[0;36m_run\u001b[0;34m(self, handle, fetches, feed_dict, options, run_metadata)\u001b[0m\n\u001b[1;32m    962\u001b[0m     \u001b[1;32mif\u001b[0m \u001b[0mfinal_fetches\u001b[0m \u001b[1;32mor\u001b[0m \u001b[0mfinal_targets\u001b[0m\u001b[1;33m:\u001b[0m\u001b[1;33m\u001b[0m\u001b[0m\n\u001b[1;32m    963\u001b[0m       results = self._do_run(handle, final_targets, final_fetches,\n\u001b[0;32m--> 964\u001b[0;31m                              feed_dict_string, options, run_metadata)\n\u001b[0m\u001b[1;32m    965\u001b[0m     \u001b[1;32melse\u001b[0m\u001b[1;33m:\u001b[0m\u001b[1;33m\u001b[0m\u001b[0m\n\u001b[1;32m    966\u001b[0m       \u001b[0mresults\u001b[0m \u001b[1;33m=\u001b[0m \u001b[1;33m[\u001b[0m\u001b[1;33m]\u001b[0m\u001b[1;33m\u001b[0m\u001b[0m\n",
      "\u001b[0;32mC:\\Program Files\\Anaconda2\\envs\\python3_5\\lib\\site-packages\\tensorflow\\python\\client\\session.py\u001b[0m in \u001b[0;36m_do_run\u001b[0;34m(self, handle, target_list, fetch_list, feed_dict, options, run_metadata)\u001b[0m\n\u001b[1;32m   1012\u001b[0m     \u001b[1;32mif\u001b[0m \u001b[0mhandle\u001b[0m \u001b[1;32mis\u001b[0m \u001b[1;32mNone\u001b[0m\u001b[1;33m:\u001b[0m\u001b[1;33m\u001b[0m\u001b[0m\n\u001b[1;32m   1013\u001b[0m       return self._do_call(_run_fn, self._session, feed_dict, fetch_list,\n\u001b[0;32m-> 1014\u001b[0;31m                            target_list, options, run_metadata)\n\u001b[0m\u001b[1;32m   1015\u001b[0m     \u001b[1;32melse\u001b[0m\u001b[1;33m:\u001b[0m\u001b[1;33m\u001b[0m\u001b[0m\n\u001b[1;32m   1016\u001b[0m       return self._do_call(_prun_fn, self._session, handle, feed_dict,\n",
      "\u001b[0;32mC:\\Program Files\\Anaconda2\\envs\\python3_5\\lib\\site-packages\\tensorflow\\python\\client\\session.py\u001b[0m in \u001b[0;36m_do_call\u001b[0;34m(self, fn, *args)\u001b[0m\n\u001b[1;32m   1019\u001b[0m   \u001b[1;32mdef\u001b[0m \u001b[0m_do_call\u001b[0m\u001b[1;33m(\u001b[0m\u001b[0mself\u001b[0m\u001b[1;33m,\u001b[0m \u001b[0mfn\u001b[0m\u001b[1;33m,\u001b[0m \u001b[1;33m*\u001b[0m\u001b[0margs\u001b[0m\u001b[1;33m)\u001b[0m\u001b[1;33m:\u001b[0m\u001b[1;33m\u001b[0m\u001b[0m\n\u001b[1;32m   1020\u001b[0m     \u001b[1;32mtry\u001b[0m\u001b[1;33m:\u001b[0m\u001b[1;33m\u001b[0m\u001b[0m\n\u001b[0;32m-> 1021\u001b[0;31m       \u001b[1;32mreturn\u001b[0m \u001b[0mfn\u001b[0m\u001b[1;33m(\u001b[0m\u001b[1;33m*\u001b[0m\u001b[0margs\u001b[0m\u001b[1;33m)\u001b[0m\u001b[1;33m\u001b[0m\u001b[0m\n\u001b[0m\u001b[1;32m   1022\u001b[0m     \u001b[1;32mexcept\u001b[0m \u001b[0merrors\u001b[0m\u001b[1;33m.\u001b[0m\u001b[0mOpError\u001b[0m \u001b[1;32mas\u001b[0m \u001b[0me\u001b[0m\u001b[1;33m:\u001b[0m\u001b[1;33m\u001b[0m\u001b[0m\n\u001b[1;32m   1023\u001b[0m       \u001b[0mmessage\u001b[0m \u001b[1;33m=\u001b[0m \u001b[0mcompat\u001b[0m\u001b[1;33m.\u001b[0m\u001b[0mas_text\u001b[0m\u001b[1;33m(\u001b[0m\u001b[0me\u001b[0m\u001b[1;33m.\u001b[0m\u001b[0mmessage\u001b[0m\u001b[1;33m)\u001b[0m\u001b[1;33m\u001b[0m\u001b[0m\n",
      "\u001b[0;32mC:\\Program Files\\Anaconda2\\envs\\python3_5\\lib\\site-packages\\tensorflow\\python\\client\\session.py\u001b[0m in \u001b[0;36m_run_fn\u001b[0;34m(session, feed_dict, fetch_list, target_list, options, run_metadata)\u001b[0m\n\u001b[1;32m   1001\u001b[0m         return tf_session.TF_Run(session, options,\n\u001b[1;32m   1002\u001b[0m                                  \u001b[0mfeed_dict\u001b[0m\u001b[1;33m,\u001b[0m \u001b[0mfetch_list\u001b[0m\u001b[1;33m,\u001b[0m \u001b[0mtarget_list\u001b[0m\u001b[1;33m,\u001b[0m\u001b[1;33m\u001b[0m\u001b[0m\n\u001b[0;32m-> 1003\u001b[0;31m                                  status, run_metadata)\n\u001b[0m\u001b[1;32m   1004\u001b[0m \u001b[1;33m\u001b[0m\u001b[0m\n\u001b[1;32m   1005\u001b[0m     \u001b[1;32mdef\u001b[0m \u001b[0m_prun_fn\u001b[0m\u001b[1;33m(\u001b[0m\u001b[0msession\u001b[0m\u001b[1;33m,\u001b[0m \u001b[0mhandle\u001b[0m\u001b[1;33m,\u001b[0m \u001b[0mfeed_dict\u001b[0m\u001b[1;33m,\u001b[0m \u001b[0mfetch_list\u001b[0m\u001b[1;33m)\u001b[0m\u001b[1;33m:\u001b[0m\u001b[1;33m\u001b[0m\u001b[0m\n",
      "\u001b[0;31mKeyboardInterrupt\u001b[0m: "
     ]
    }
   ],
   "source": [
    "def sample(preds, temperature=1.0):\n",
    "    # helper function to sample an index from a probability array\n",
    "    preds = np.asarray(preds).astype('float64')\n",
    "    preds = np.log(preds) / temperature\n",
    "    exp_preds = np.exp(preds)\n",
    "    preds = exp_preds / np.sum(exp_preds)\n",
    "    probas = np.random.multinomial(1, preds, 1)\n",
    "    return np.argmax(probas)\n",
    "\n",
    "# train the model, output generated text after each iteration\n",
    "for iteration in range(1, 60):\n",
    "    print()\n",
    "    print('-' * 50)\n",
    "    print('Iteration', iteration)\n",
    "    model.fit(X, y,\n",
    "              batch_size=128,\n",
    "              nb_epoch=1)\n",
    "\n",
    "    start_index = random.randint(0, len(text) - maxlen - 1)\n",
    "\n",
    "    for diversity in [0.2, 0.5, 1.0, 1.2]:\n",
    "        print()\n",
    "        print('----- diversity:', diversity)\n",
    "\n",
    "        generated = ''\n",
    "        sentence = text[start_index: start_index + maxlen]\n",
    "        generated += sentence\n",
    "        print('----- Generating with seed: \"' + sentence + '\"')\n",
    "        sys.stdout.write(generated)\n",
    "\n",
    "        for i in range(400):\n",
    "            x = np.zeros((1, maxlen, len(chars)))\n",
    "            for t, char in enumerate(sentence):\n",
    "                x[0, t, char_indices[char]] = 1.\n",
    "\n",
    "            preds = model.predict(x, verbose=0)[0]\n",
    "            next_index = sample(preds, diversity)\n",
    "            next_char = indices_char[next_index]\n",
    "\n",
    "            generated += next_char\n",
    "            sentence = sentence[1:] + next_char\n",
    "\n",
    "            sys.stdout.write(next_char)\n",
    "            sys.stdout.flush()\n",
    "print()"
   ]
  },
  {
   "cell_type": "code",
   "execution_count": null,
   "metadata": {
    "collapsed": true
   },
   "outputs": [],
   "source": []
  }
 ],
 "metadata": {
  "anaconda-cloud": {},
  "kernelspec": {
   "display_name": "Python 3",
   "language": "python",
   "name": "python3"
  },
  "language_info": {
   "codemirror_mode": {
    "name": "ipython",
    "version": 3
   },
   "file_extension": ".py",
   "mimetype": "text/x-python",
   "name": "python",
   "nbconvert_exporter": "python",
   "pygments_lexer": "ipython3",
   "version": "3.5.2"
  }
 },
 "nbformat": 4,
 "nbformat_minor": 1
}
